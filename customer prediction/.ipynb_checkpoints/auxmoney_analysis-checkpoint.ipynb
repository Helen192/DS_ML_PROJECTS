{
 "cells": [
  {
   "cell_type": "code",
   "execution_count": 197,
   "id": "9407fb40",
   "metadata": {},
   "outputs": [],
   "source": [
    "# Authorin: Phuong Huong Nguyen\n",
    "# Date: 26.2.2023\n",
    "\n",
    "import pandas as pd\n",
    "import numpy as np\n",
    "import matplotlib.pyplot as plt\n",
    "import seaborn as sns\n",
    "from datetime import datetime\n",
    "from sklearn.metrics import confusion_matrix, accuracy_score, precision_score, recall_score, f1_score, ConfusionMatrixDisplay"
   ]
  },
  {
   "cell_type": "markdown",
   "id": "700597a8",
   "metadata": {},
   "source": [
    "## I. Import Dataset"
   ]
  },
  {
   "cell_type": "code",
   "execution_count": 99,
   "id": "609f8de2",
   "metadata": {},
   "outputs": [
    {
     "data": {
      "text/html": [
       "<div>\n",
       "<style scoped>\n",
       "    .dataframe tbody tr th:only-of-type {\n",
       "        vertical-align: middle;\n",
       "    }\n",
       "\n",
       "    .dataframe tbody tr th {\n",
       "        vertical-align: top;\n",
       "    }\n",
       "\n",
       "    .dataframe thead th {\n",
       "        text-align: right;\n",
       "    }\n",
       "</style>\n",
       "<table border=\"1\" class=\"dataframe\">\n",
       "  <thead>\n",
       "    <tr style=\"text-align: right;\">\n",
       "      <th></th>\n",
       "      <th>user_id</th>\n",
       "      <th>Verwendungszweck</th>\n",
       "      <th>Registrierungsdatum</th>\n",
       "      <th>Jahr_Geburt</th>\n",
       "      <th>Monat_Geburt</th>\n",
       "      <th>Staatsangehörigkeit</th>\n",
       "      <th>Geschlecht</th>\n",
       "      <th>angefragtes_Kreditvolumen</th>\n",
       "      <th>Familienstand</th>\n",
       "      <th>Wohnsituation</th>\n",
       "      <th>dort_wohnhaft_seit</th>\n",
       "      <th>Bundesland</th>\n",
       "      <th>email_domain_encoded</th>\n",
       "    </tr>\n",
       "  </thead>\n",
       "  <tbody>\n",
       "    <tr>\n",
       "      <th>0</th>\n",
       "      <td>310426050</td>\n",
       "      <td>Existenzgründung</td>\n",
       "      <td>2017-01-01 01:04:00</td>\n",
       "      <td>1975.0</td>\n",
       "      <td>12.0</td>\n",
       "      <td>DE</td>\n",
       "      <td>f</td>\n",
       "      <td>10.0</td>\n",
       "      <td>ledig</td>\n",
       "      <td>zur Miete</td>\n",
       "      <td>2016-07-05 00:00:00</td>\n",
       "      <td>Bayern</td>\n",
       "      <td>f74d39fa044aa309eaea14b9f57fe79c</td>\n",
       "    </tr>\n",
       "    <tr>\n",
       "      <th>1</th>\n",
       "      <td>310426380</td>\n",
       "      <td>Möbel / Renovierung / Umzug</td>\n",
       "      <td>2017-01-01 01:41:12</td>\n",
       "      <td>1985.0</td>\n",
       "      <td>11.0</td>\n",
       "      <td>DE</td>\n",
       "      <td>f</td>\n",
       "      <td>25.0</td>\n",
       "      <td>ledig</td>\n",
       "      <td>zur Miete</td>\n",
       "      <td>2014-02-02 00:00:00</td>\n",
       "      <td>Hessen</td>\n",
       "      <td>47410c608c49e7a0a0708031355608e1</td>\n",
       "    </tr>\n",
       "    <tr>\n",
       "      <th>2</th>\n",
       "      <td>310426710</td>\n",
       "      <td>Möbel / Renovierung / Umzug</td>\n",
       "      <td>2017-01-01 02:24:30</td>\n",
       "      <td>1959.0</td>\n",
       "      <td>1.0</td>\n",
       "      <td>DE</td>\n",
       "      <td>m</td>\n",
       "      <td>5.0</td>\n",
       "      <td>getrennt lebend</td>\n",
       "      <td>zur Miete</td>\n",
       "      <td>2014-04-04 00:00:00</td>\n",
       "      <td>Hessen</td>\n",
       "      <td>38ec103fb9e09bf2354c72a5768e4f24</td>\n",
       "    </tr>\n",
       "    <tr>\n",
       "      <th>3</th>\n",
       "      <td>310426875</td>\n",
       "      <td>Autokredit</td>\n",
       "      <td>2017-01-01 02:29:23</td>\n",
       "      <td>1994.0</td>\n",
       "      <td>12.0</td>\n",
       "      <td>DE</td>\n",
       "      <td>m</td>\n",
       "      <td>6.5</td>\n",
       "      <td>ledig</td>\n",
       "      <td>bei den Eltern</td>\n",
       "      <td>1997-03-05 00:00:00</td>\n",
       "      <td>Schlewig-Holstein</td>\n",
       "      <td>e4c865c1d21d64f32364e30ec075af6a</td>\n",
       "    </tr>\n",
       "    <tr>\n",
       "      <th>4</th>\n",
       "      <td>310427040</td>\n",
       "      <td>Möbel / Renovierung / Umzug</td>\n",
       "      <td>2017-01-01 02:54:53</td>\n",
       "      <td>1981.0</td>\n",
       "      <td>1.0</td>\n",
       "      <td>DE</td>\n",
       "      <td>f</td>\n",
       "      <td>6.5</td>\n",
       "      <td>ledig</td>\n",
       "      <td>bei den Eltern</td>\n",
       "      <td>2014-10-03 00:00:00</td>\n",
       "      <td>Baden-Württemberg</td>\n",
       "      <td>83c04328c2935e8aef7cdd3eb4395d04</td>\n",
       "    </tr>\n",
       "  </tbody>\n",
       "</table>\n",
       "</div>"
      ],
      "text/plain": [
       "     user_id             Verwendungszweck  Registrierungsdatum  Jahr_Geburt  \\\n",
       "0  310426050             Existenzgründung  2017-01-01 01:04:00       1975.0   \n",
       "1  310426380  Möbel / Renovierung / Umzug  2017-01-01 01:41:12       1985.0   \n",
       "2  310426710  Möbel / Renovierung / Umzug  2017-01-01 02:24:30       1959.0   \n",
       "3  310426875                   Autokredit  2017-01-01 02:29:23       1994.0   \n",
       "4  310427040  Möbel / Renovierung / Umzug  2017-01-01 02:54:53       1981.0   \n",
       "\n",
       "   Monat_Geburt Staatsangehörigkeit Geschlecht  angefragtes_Kreditvolumen  \\\n",
       "0          12.0                  DE          f                       10.0   \n",
       "1          11.0                  DE          f                       25.0   \n",
       "2           1.0                  DE          m                        5.0   \n",
       "3          12.0                  DE          m                        6.5   \n",
       "4           1.0                  DE          f                        6.5   \n",
       "\n",
       "     Familienstand   Wohnsituation   dort_wohnhaft_seit         Bundesland  \\\n",
       "0            ledig       zur Miete  2016-07-05 00:00:00             Bayern   \n",
       "1            ledig       zur Miete  2014-02-02 00:00:00             Hessen   \n",
       "2  getrennt lebend       zur Miete  2014-04-04 00:00:00             Hessen   \n",
       "3            ledig  bei den Eltern  1997-03-05 00:00:00  Schlewig-Holstein   \n",
       "4            ledig  bei den Eltern  2014-10-03 00:00:00  Baden-Württemberg   \n",
       "\n",
       "               email_domain_encoded  \n",
       "0  f74d39fa044aa309eaea14b9f57fe79c  \n",
       "1  47410c608c49e7a0a0708031355608e1  \n",
       "2  38ec103fb9e09bf2354c72a5768e4f24  \n",
       "3  e4c865c1d21d64f32364e30ec075af6a  \n",
       "4  83c04328c2935e8aef7cdd3eb4395d04  "
      ]
     },
     "execution_count": 99,
     "metadata": {},
     "output_type": "execute_result"
    }
   ],
   "source": [
    "df_re = pd.read_csv(\"borrower_registrations.csv\", index_col=0)\n",
    "df_re.head(5)"
   ]
  },
  {
   "cell_type": "code",
   "execution_count": 100,
   "id": "b6de0c35",
   "metadata": {},
   "outputs": [
    {
     "data": {
      "text/html": [
       "<div>\n",
       "<style scoped>\n",
       "    .dataframe tbody tr th:only-of-type {\n",
       "        vertical-align: middle;\n",
       "    }\n",
       "\n",
       "    .dataframe tbody tr th {\n",
       "        vertical-align: top;\n",
       "    }\n",
       "\n",
       "    .dataframe thead th {\n",
       "        text-align: right;\n",
       "    }\n",
       "</style>\n",
       "<table border=\"1\" class=\"dataframe\">\n",
       "  <thead>\n",
       "    <tr style=\"text-align: right;\">\n",
       "      <th></th>\n",
       "      <th>user_id</th>\n",
       "      <th>flag_filled_page_2</th>\n",
       "    </tr>\n",
       "  </thead>\n",
       "  <tbody>\n",
       "    <tr>\n",
       "      <th>0</th>\n",
       "      <td>310426050</td>\n",
       "      <td>1</td>\n",
       "    </tr>\n",
       "    <tr>\n",
       "      <th>1</th>\n",
       "      <td>310426380</td>\n",
       "      <td>0</td>\n",
       "    </tr>\n",
       "    <tr>\n",
       "      <th>2</th>\n",
       "      <td>310426710</td>\n",
       "      <td>0</td>\n",
       "    </tr>\n",
       "    <tr>\n",
       "      <th>3</th>\n",
       "      <td>310426875</td>\n",
       "      <td>1</td>\n",
       "    </tr>\n",
       "    <tr>\n",
       "      <th>4</th>\n",
       "      <td>310427040</td>\n",
       "      <td>1</td>\n",
       "    </tr>\n",
       "    <tr>\n",
       "      <th>5</th>\n",
       "      <td>310427205</td>\n",
       "      <td>1</td>\n",
       "    </tr>\n",
       "    <tr>\n",
       "      <th>6</th>\n",
       "      <td>310427535</td>\n",
       "      <td>1</td>\n",
       "    </tr>\n",
       "    <tr>\n",
       "      <th>7</th>\n",
       "      <td>310427700</td>\n",
       "      <td>0</td>\n",
       "    </tr>\n",
       "    <tr>\n",
       "      <th>8</th>\n",
       "      <td>310428030</td>\n",
       "      <td>0</td>\n",
       "    </tr>\n",
       "    <tr>\n",
       "      <th>9</th>\n",
       "      <td>310428195</td>\n",
       "      <td>1</td>\n",
       "    </tr>\n",
       "  </tbody>\n",
       "</table>\n",
       "</div>"
      ],
      "text/plain": [
       "     user_id  flag_filled_page_2\n",
       "0  310426050                   1\n",
       "1  310426380                   0\n",
       "2  310426710                   0\n",
       "3  310426875                   1\n",
       "4  310427040                   1\n",
       "5  310427205                   1\n",
       "6  310427535                   1\n",
       "7  310427700                   0\n",
       "8  310428030                   0\n",
       "9  310428195                   1"
      ]
     },
     "execution_count": 100,
     "metadata": {},
     "output_type": "execute_result"
    }
   ],
   "source": [
    "df_lab = pd.read_csv(\"borrower_labels.csv\", sep=\"|\")\n",
    "df_lab.head(10)"
   ]
  },
  {
   "cell_type": "markdown",
   "id": "0fd64bff",
   "metadata": {},
   "source": [
    "## II. Data Analysis and handling missing data"
   ]
  },
  {
   "cell_type": "markdown",
   "id": "bbb08eb2",
   "metadata": {},
   "source": [
    "### 1. Analyzing missing data\n"
   ]
  },
  {
   "cell_type": "code",
   "execution_count": 101,
   "id": "4cef37fc",
   "metadata": {},
   "outputs": [
    {
     "name": "stdout",
     "output_type": "stream",
     "text": [
      "<class 'pandas.core.frame.DataFrame'>\n",
      "Int64Index: 146829 entries, 0 to 146828\n",
      "Data columns (total 13 columns):\n",
      " #   Column                     Non-Null Count   Dtype  \n",
      "---  ------                     --------------   -----  \n",
      " 0   user_id                    146829 non-null  int64  \n",
      " 1   Verwendungszweck           146800 non-null  object \n",
      " 2   Registrierungsdatum        146829 non-null  object \n",
      " 3   Jahr_Geburt                146823 non-null  float64\n",
      " 4   Monat_Geburt               146823 non-null  float64\n",
      " 5   Staatsangehörigkeit        146823 non-null  object \n",
      " 6   Geschlecht                 146829 non-null  object \n",
      " 7   angefragtes_Kreditvolumen  146800 non-null  float64\n",
      " 8   Familienstand              146829 non-null  object \n",
      " 9   Wohnsituation              146829 non-null  object \n",
      " 10  dort_wohnhaft_seit         146829 non-null  object \n",
      " 11  Bundesland                 130582 non-null  object \n",
      " 12  email_domain_encoded       146829 non-null  object \n",
      "dtypes: float64(3), int64(1), object(9)\n",
      "memory usage: 15.7+ MB\n"
     ]
    }
   ],
   "source": [
    "df_re.info()"
   ]
  },
  {
   "cell_type": "code",
   "execution_count": 102,
   "id": "9a48aedb",
   "metadata": {},
   "outputs": [
    {
     "name": "stdout",
     "output_type": "stream",
     "text": [
      "<class 'pandas.core.frame.DataFrame'>\n",
      "RangeIndex: 146829 entries, 0 to 146828\n",
      "Data columns (total 2 columns):\n",
      " #   Column              Non-Null Count   Dtype\n",
      "---  ------              --------------   -----\n",
      " 0   user_id             146829 non-null  int64\n",
      " 1   flag_filled_page_2  146829 non-null  int64\n",
      "dtypes: int64(2)\n",
      "memory usage: 2.2 MB\n"
     ]
    }
   ],
   "source": [
    "df_lab.info()"
   ]
  },
  {
   "cell_type": "code",
   "execution_count": 103,
   "id": "19a119c2",
   "metadata": {},
   "outputs": [
    {
     "name": "stdout",
     "output_type": "stream",
     "text": [
      "The percentage of missing data in each column of borrowed_registrations:\n",
      "user_id: \t\t\t 0.0 % \n",
      "Verwendungszweck: \t\t\t 0.02 % \n",
      "Registrierungsdatum: \t\t\t 0.0 % \n",
      "Jahr_Geburt: \t\t\t 0.004 % \n",
      "Monat_Geburt: \t\t\t 0.004 % \n",
      "Staatsangehörigkeit: \t\t\t 0.004 % \n",
      "Geschlecht: \t\t\t 0.0 % \n",
      "angefragtes_Kreditvolumen: \t\t\t 0.02 % \n",
      "Familienstand: \t\t\t 0.0 % \n",
      "Wohnsituation: \t\t\t 0.0 % \n",
      "dort_wohnhaft_seit: \t\t\t 0.0 % \n",
      "Bundesland: \t\t\t 11.065 % \n",
      "email_domain_encoded: \t\t\t 0.0 % \n"
     ]
    }
   ],
   "source": [
    "# Caculating the percentage of missing data in df_re. Then we can decide the way to deal with these missing data\n",
    "print(\"The percentage of missing data in each column of borrowed_registrations:\")\n",
    "for col in df_re.columns:\n",
    "    missing_data = df_re[col].isna().sum()\n",
    "    missing_percent = round((missing_data / len(df_re))*100, 3)\n",
    "    print(f\"{col}: \\t\\t\\t {missing_percent} % \")"
   ]
  },
  {
   "cell_type": "markdown",
   "id": "5fb870b0",
   "metadata": {},
   "source": [
    "**Considering to handle missing values:**\n",
    "* From the above, we see that the column **Bundesland** has a huge amount of missing data. Because this column contains categorical variables and it may not correct if we just fill missing data with the most frequent value in this column. So, i think we should analyse this column more detail\n",
    "* For other columns, the volume of missing values are small. We can consider to handle it or just simple remove the rows with missing data. I will choose to handle missing values. \n",
    "* For column **Verwendungszweck**, i fill missing values with the most frequent category in this column\n",
    "* For column **Staatsangehörigkeit**, i fill missing values with **DE**\n",
    "* For columns **Jahr_Geburt** and **Monat_Geburt**, i fill missing values with Mean value of each column"
   ]
  },
  {
   "cell_type": "markdown",
   "id": "524005e5",
   "metadata": {},
   "source": [
    "### 2. Analysing data in file borrowed_registrations.csv"
   ]
  },
  {
   "cell_type": "markdown",
   "id": "41285a0b",
   "metadata": {},
   "source": [
    "#### a. Column `Staatsangehörigkeit`\n",
    "\n",
    "* This column contains only 2 variables: DE or nan. \n",
    "* That means most users are from Germany. And our service is applied in frame of Germany \n",
    "* In this case, i think users' nationality doesn't play a big role in decision of borrowing money. So I tend to remove this feature from training model. "
   ]
  },
  {
   "cell_type": "code",
   "execution_count": 104,
   "id": "61667537",
   "metadata": {},
   "outputs": [
    {
     "data": {
      "text/plain": [
       "array(['DE', nan], dtype=object)"
      ]
     },
     "execution_count": 104,
     "metadata": {},
     "output_type": "execute_result"
    }
   ],
   "source": [
    "df_re[\"Staatsangehörigkeit\"].unique()"
   ]
  },
  {
   "cell_type": "markdown",
   "id": "64249574",
   "metadata": {},
   "source": [
    "#### b. Column `email_domain_encoded`\n",
    "* There is no dupliated user_id value in file borrowed_registrations.csv, but i found that one user_id can own more than one `email_domain`\n",
    "\n",
    "* I'm considering whether `email_domain_encoded` is an important feature or not. If it's not, we don't need to use this feature to train the model"
   ]
  },
  {
   "cell_type": "code",
   "execution_count": 105,
   "id": "0dd112cb",
   "metadata": {},
   "outputs": [
    {
     "data": {
      "text/plain": [
       "146829"
      ]
     },
     "execution_count": 105,
     "metadata": {},
     "output_type": "execute_result"
    }
   ],
   "source": [
    "df_re[\"user_id\"].nunique()"
   ]
  },
  {
   "cell_type": "code",
   "execution_count": 106,
   "id": "da4e95df",
   "metadata": {},
   "outputs": [
    {
     "data": {
      "text/plain": [
       "False"
      ]
     },
     "execution_count": 106,
     "metadata": {},
     "output_type": "execute_result"
    }
   ],
   "source": [
    "df_re[\"user_id\"].duplicated().any()"
   ]
  },
  {
   "cell_type": "code",
   "execution_count": 107,
   "id": "7cd87097",
   "metadata": {},
   "outputs": [
    {
     "data": {
      "text/plain": [
       "6056"
      ]
     },
     "execution_count": 107,
     "metadata": {},
     "output_type": "execute_result"
    }
   ],
   "source": [
    "df_re['email_domain_encoded'].nunique()"
   ]
  },
  {
   "cell_type": "markdown",
   "id": "0068da9f",
   "metadata": {},
   "source": [
    "#### c. Column `Verwendungszweck`\n",
    "* We can see that `sonstiges` occupies the most percentage of variables in column `Verwendungszweck`. Hence, I will fill the missing values of this column with `sonstiges`"
   ]
  },
  {
   "cell_type": "code",
   "execution_count": 108,
   "id": "1d1bb833",
   "metadata": {},
   "outputs": [
    {
     "data": {
      "text/plain": [
       "array(['Existenzgründung', 'Möbel / Renovierung / Umzug', 'Autokredit',\n",
       "       'sonstiges', 'Ausgleich Girokonto / Dispo', 'Urlaub',\n",
       "       'Ausbildungsfinanzierung', 'Ablösung anderer Kredite',\n",
       "       'PC / HiFi / TV / Video', nan], dtype=object)"
      ]
     },
     "execution_count": 108,
     "metadata": {},
     "output_type": "execute_result"
    }
   ],
   "source": [
    "df_re[\"Verwendungszweck\"].unique()"
   ]
  },
  {
   "cell_type": "code",
   "execution_count": 109,
   "id": "7e326ec5",
   "metadata": {},
   "outputs": [
    {
     "name": "stdout",
     "output_type": "stream",
     "text": [
      "Existenzgründung: \t\t\t 7.073 %\n",
      "Möbel / Renovierung / Umzug: \t\t\t 13.8 %\n",
      "Autokredit: \t\t\t 12.936 %\n",
      "sonstiges: \t\t\t 35.359 %\n",
      "Ausgleich Girokonto / Dispo: \t\t\t 11.942 %\n",
      "Urlaub: \t\t\t 2.771 %\n",
      "Ausbildungsfinanzierung: \t\t\t 4.868 %\n",
      "Ablösung anderer Kredite: \t\t\t 9.617 %\n",
      "PC / HiFi / TV / Video: \t\t\t 1.615 %\n",
      "nan: \t\t\t 0.0 %\n"
     ]
    }
   ],
   "source": [
    "for item in df_re[\"Verwendungszweck\"].unique():\n",
    "    amount_item = len(df_re[df_re[\"Verwendungszweck\"] == item])\n",
    "    percent_item = round(amount_item / len(df_re) * 100, 3)\n",
    "    print(f\"{item}: \\t\\t\\t {percent_item} %\")"
   ]
  },
  {
   "cell_type": "markdown",
   "id": "81a16029",
   "metadata": {},
   "source": [
    "#### d. Columns `Jahr_Geburt` and `Monat_Geburt`\n",
    "* For column `Monat_Geburt`, i don't think it is an important feature. So I will remove this column\n",
    "* For column `Jahr_Geburt`, i use this column to calculate a new feature is `Alter`, instead of using `Jahr_Geburt`. Then, to deal with missing value, i fill them with mean value"
   ]
  },
  {
   "cell_type": "code",
   "execution_count": 110,
   "id": "30b3dda9",
   "metadata": {},
   "outputs": [],
   "source": [
    "# convert dtype of Jahr_Geburt from float to int\n",
    "df_re_copied = df_re.copy()\n",
    "df_re_copied[\"Jahr_Geburt\"] = df_re_copied[\"Jahr_Geburt\"].astype('Int64')\n"
   ]
  },
  {
   "cell_type": "code",
   "execution_count": 111,
   "id": "fb773a4e",
   "metadata": {},
   "outputs": [
    {
     "data": {
      "text/html": [
       "<div>\n",
       "<style scoped>\n",
       "    .dataframe tbody tr th:only-of-type {\n",
       "        vertical-align: middle;\n",
       "    }\n",
       "\n",
       "    .dataframe tbody tr th {\n",
       "        vertical-align: top;\n",
       "    }\n",
       "\n",
       "    .dataframe thead th {\n",
       "        text-align: right;\n",
       "    }\n",
       "</style>\n",
       "<table border=\"1\" class=\"dataframe\">\n",
       "  <thead>\n",
       "    <tr style=\"text-align: right;\">\n",
       "      <th></th>\n",
       "      <th>user_id</th>\n",
       "      <th>Verwendungszweck</th>\n",
       "      <th>Registrierungsdatum</th>\n",
       "      <th>Jahr_Geburt</th>\n",
       "      <th>Monat_Geburt</th>\n",
       "      <th>Staatsangehörigkeit</th>\n",
       "      <th>Geschlecht</th>\n",
       "      <th>angefragtes_Kreditvolumen</th>\n",
       "      <th>Familienstand</th>\n",
       "      <th>Wohnsituation</th>\n",
       "      <th>dort_wohnhaft_seit</th>\n",
       "      <th>Bundesland</th>\n",
       "      <th>email_domain_encoded</th>\n",
       "      <th>Alter</th>\n",
       "    </tr>\n",
       "  </thead>\n",
       "  <tbody>\n",
       "    <tr>\n",
       "      <th>0</th>\n",
       "      <td>310426050</td>\n",
       "      <td>Existenzgründung</td>\n",
       "      <td>2017-01-01 01:04:00</td>\n",
       "      <td>1975</td>\n",
       "      <td>12.0</td>\n",
       "      <td>DE</td>\n",
       "      <td>f</td>\n",
       "      <td>10.0</td>\n",
       "      <td>ledig</td>\n",
       "      <td>zur Miete</td>\n",
       "      <td>2016-07-05 00:00:00</td>\n",
       "      <td>Bayern</td>\n",
       "      <td>f74d39fa044aa309eaea14b9f57fe79c</td>\n",
       "      <td>48</td>\n",
       "    </tr>\n",
       "    <tr>\n",
       "      <th>1</th>\n",
       "      <td>310426380</td>\n",
       "      <td>Möbel / Renovierung / Umzug</td>\n",
       "      <td>2017-01-01 01:41:12</td>\n",
       "      <td>1985</td>\n",
       "      <td>11.0</td>\n",
       "      <td>DE</td>\n",
       "      <td>f</td>\n",
       "      <td>25.0</td>\n",
       "      <td>ledig</td>\n",
       "      <td>zur Miete</td>\n",
       "      <td>2014-02-02 00:00:00</td>\n",
       "      <td>Hessen</td>\n",
       "      <td>47410c608c49e7a0a0708031355608e1</td>\n",
       "      <td>38</td>\n",
       "    </tr>\n",
       "    <tr>\n",
       "      <th>2</th>\n",
       "      <td>310426710</td>\n",
       "      <td>Möbel / Renovierung / Umzug</td>\n",
       "      <td>2017-01-01 02:24:30</td>\n",
       "      <td>1959</td>\n",
       "      <td>1.0</td>\n",
       "      <td>DE</td>\n",
       "      <td>m</td>\n",
       "      <td>5.0</td>\n",
       "      <td>getrennt lebend</td>\n",
       "      <td>zur Miete</td>\n",
       "      <td>2014-04-04 00:00:00</td>\n",
       "      <td>Hessen</td>\n",
       "      <td>38ec103fb9e09bf2354c72a5768e4f24</td>\n",
       "      <td>64</td>\n",
       "    </tr>\n",
       "    <tr>\n",
       "      <th>3</th>\n",
       "      <td>310426875</td>\n",
       "      <td>Autokredit</td>\n",
       "      <td>2017-01-01 02:29:23</td>\n",
       "      <td>1994</td>\n",
       "      <td>12.0</td>\n",
       "      <td>DE</td>\n",
       "      <td>m</td>\n",
       "      <td>6.5</td>\n",
       "      <td>ledig</td>\n",
       "      <td>bei den Eltern</td>\n",
       "      <td>1997-03-05 00:00:00</td>\n",
       "      <td>Schlewig-Holstein</td>\n",
       "      <td>e4c865c1d21d64f32364e30ec075af6a</td>\n",
       "      <td>29</td>\n",
       "    </tr>\n",
       "    <tr>\n",
       "      <th>4</th>\n",
       "      <td>310427040</td>\n",
       "      <td>Möbel / Renovierung / Umzug</td>\n",
       "      <td>2017-01-01 02:54:53</td>\n",
       "      <td>1981</td>\n",
       "      <td>1.0</td>\n",
       "      <td>DE</td>\n",
       "      <td>f</td>\n",
       "      <td>6.5</td>\n",
       "      <td>ledig</td>\n",
       "      <td>bei den Eltern</td>\n",
       "      <td>2014-10-03 00:00:00</td>\n",
       "      <td>Baden-Württemberg</td>\n",
       "      <td>83c04328c2935e8aef7cdd3eb4395d04</td>\n",
       "      <td>42</td>\n",
       "    </tr>\n",
       "  </tbody>\n",
       "</table>\n",
       "</div>"
      ],
      "text/plain": [
       "     user_id             Verwendungszweck  Registrierungsdatum  Jahr_Geburt  \\\n",
       "0  310426050             Existenzgründung  2017-01-01 01:04:00         1975   \n",
       "1  310426380  Möbel / Renovierung / Umzug  2017-01-01 01:41:12         1985   \n",
       "2  310426710  Möbel / Renovierung / Umzug  2017-01-01 02:24:30         1959   \n",
       "3  310426875                   Autokredit  2017-01-01 02:29:23         1994   \n",
       "4  310427040  Möbel / Renovierung / Umzug  2017-01-01 02:54:53         1981   \n",
       "\n",
       "   Monat_Geburt Staatsangehörigkeit Geschlecht  angefragtes_Kreditvolumen  \\\n",
       "0          12.0                  DE          f                       10.0   \n",
       "1          11.0                  DE          f                       25.0   \n",
       "2           1.0                  DE          m                        5.0   \n",
       "3          12.0                  DE          m                        6.5   \n",
       "4           1.0                  DE          f                        6.5   \n",
       "\n",
       "     Familienstand   Wohnsituation   dort_wohnhaft_seit         Bundesland  \\\n",
       "0            ledig       zur Miete  2016-07-05 00:00:00             Bayern   \n",
       "1            ledig       zur Miete  2014-02-02 00:00:00             Hessen   \n",
       "2  getrennt lebend       zur Miete  2014-04-04 00:00:00             Hessen   \n",
       "3            ledig  bei den Eltern  1997-03-05 00:00:00  Schlewig-Holstein   \n",
       "4            ledig  bei den Eltern  2014-10-03 00:00:00  Baden-Württemberg   \n",
       "\n",
       "               email_domain_encoded Alter  \n",
       "0  f74d39fa044aa309eaea14b9f57fe79c    48  \n",
       "1  47410c608c49e7a0a0708031355608e1    38  \n",
       "2  38ec103fb9e09bf2354c72a5768e4f24    64  \n",
       "3  e4c865c1d21d64f32364e30ec075af6a    29  \n",
       "4  83c04328c2935e8aef7cdd3eb4395d04    42  "
      ]
     },
     "execution_count": 111,
     "metadata": {},
     "output_type": "execute_result"
    }
   ],
   "source": [
    "# get the current year\n",
    "year = datetime.now().year\n",
    "\n",
    "# create a new column called Age\n",
    "df_re_copied['Alter'] = df_re_copied['Jahr_Geburt'].apply(lambda x: year - x)\n",
    "df_re_copied.head(5)"
   ]
  },
  {
   "cell_type": "markdown",
   "id": "1ff13f2d",
   "metadata": {},
   "source": [
    "#### e. Columns `Registrierungsdatum` and `dort_wohnhaft_seit`\n",
    "* For these columns, firstly i want to remove the time data inside. "
   ]
  },
  {
   "cell_type": "code",
   "execution_count": 112,
   "id": "1d08f9b1",
   "metadata": {},
   "outputs": [
    {
     "data": {
      "text/html": [
       "<div>\n",
       "<style scoped>\n",
       "    .dataframe tbody tr th:only-of-type {\n",
       "        vertical-align: middle;\n",
       "    }\n",
       "\n",
       "    .dataframe tbody tr th {\n",
       "        vertical-align: top;\n",
       "    }\n",
       "\n",
       "    .dataframe thead th {\n",
       "        text-align: right;\n",
       "    }\n",
       "</style>\n",
       "<table border=\"1\" class=\"dataframe\">\n",
       "  <thead>\n",
       "    <tr style=\"text-align: right;\">\n",
       "      <th></th>\n",
       "      <th>user_id</th>\n",
       "      <th>Verwendungszweck</th>\n",
       "      <th>Registrierungsdatum</th>\n",
       "      <th>Jahr_Geburt</th>\n",
       "      <th>Monat_Geburt</th>\n",
       "      <th>Staatsangehörigkeit</th>\n",
       "      <th>Geschlecht</th>\n",
       "      <th>angefragtes_Kreditvolumen</th>\n",
       "      <th>Familienstand</th>\n",
       "      <th>Wohnsituation</th>\n",
       "      <th>dort_wohnhaft_seit</th>\n",
       "      <th>Bundesland</th>\n",
       "      <th>email_domain_encoded</th>\n",
       "      <th>Alter</th>\n",
       "    </tr>\n",
       "  </thead>\n",
       "  <tbody>\n",
       "    <tr>\n",
       "      <th>0</th>\n",
       "      <td>310426050</td>\n",
       "      <td>Existenzgründung</td>\n",
       "      <td>2017-01-01</td>\n",
       "      <td>1975</td>\n",
       "      <td>12.0</td>\n",
       "      <td>DE</td>\n",
       "      <td>f</td>\n",
       "      <td>10.0</td>\n",
       "      <td>ledig</td>\n",
       "      <td>zur Miete</td>\n",
       "      <td>2016-07-05 00:00:00</td>\n",
       "      <td>Bayern</td>\n",
       "      <td>f74d39fa044aa309eaea14b9f57fe79c</td>\n",
       "      <td>48</td>\n",
       "    </tr>\n",
       "    <tr>\n",
       "      <th>1</th>\n",
       "      <td>310426380</td>\n",
       "      <td>Möbel / Renovierung / Umzug</td>\n",
       "      <td>2017-01-01</td>\n",
       "      <td>1985</td>\n",
       "      <td>11.0</td>\n",
       "      <td>DE</td>\n",
       "      <td>f</td>\n",
       "      <td>25.0</td>\n",
       "      <td>ledig</td>\n",
       "      <td>zur Miete</td>\n",
       "      <td>2014-02-02 00:00:00</td>\n",
       "      <td>Hessen</td>\n",
       "      <td>47410c608c49e7a0a0708031355608e1</td>\n",
       "      <td>38</td>\n",
       "    </tr>\n",
       "    <tr>\n",
       "      <th>2</th>\n",
       "      <td>310426710</td>\n",
       "      <td>Möbel / Renovierung / Umzug</td>\n",
       "      <td>2017-01-01</td>\n",
       "      <td>1959</td>\n",
       "      <td>1.0</td>\n",
       "      <td>DE</td>\n",
       "      <td>m</td>\n",
       "      <td>5.0</td>\n",
       "      <td>getrennt lebend</td>\n",
       "      <td>zur Miete</td>\n",
       "      <td>2014-04-04 00:00:00</td>\n",
       "      <td>Hessen</td>\n",
       "      <td>38ec103fb9e09bf2354c72a5768e4f24</td>\n",
       "      <td>64</td>\n",
       "    </tr>\n",
       "    <tr>\n",
       "      <th>3</th>\n",
       "      <td>310426875</td>\n",
       "      <td>Autokredit</td>\n",
       "      <td>2017-01-01</td>\n",
       "      <td>1994</td>\n",
       "      <td>12.0</td>\n",
       "      <td>DE</td>\n",
       "      <td>m</td>\n",
       "      <td>6.5</td>\n",
       "      <td>ledig</td>\n",
       "      <td>bei den Eltern</td>\n",
       "      <td>1997-03-05 00:00:00</td>\n",
       "      <td>Schlewig-Holstein</td>\n",
       "      <td>e4c865c1d21d64f32364e30ec075af6a</td>\n",
       "      <td>29</td>\n",
       "    </tr>\n",
       "    <tr>\n",
       "      <th>4</th>\n",
       "      <td>310427040</td>\n",
       "      <td>Möbel / Renovierung / Umzug</td>\n",
       "      <td>2017-01-01</td>\n",
       "      <td>1981</td>\n",
       "      <td>1.0</td>\n",
       "      <td>DE</td>\n",
       "      <td>f</td>\n",
       "      <td>6.5</td>\n",
       "      <td>ledig</td>\n",
       "      <td>bei den Eltern</td>\n",
       "      <td>2014-10-03 00:00:00</td>\n",
       "      <td>Baden-Württemberg</td>\n",
       "      <td>83c04328c2935e8aef7cdd3eb4395d04</td>\n",
       "      <td>42</td>\n",
       "    </tr>\n",
       "  </tbody>\n",
       "</table>\n",
       "</div>"
      ],
      "text/plain": [
       "     user_id             Verwendungszweck Registrierungsdatum  Jahr_Geburt  \\\n",
       "0  310426050             Existenzgründung          2017-01-01         1975   \n",
       "1  310426380  Möbel / Renovierung / Umzug          2017-01-01         1985   \n",
       "2  310426710  Möbel / Renovierung / Umzug          2017-01-01         1959   \n",
       "3  310426875                   Autokredit          2017-01-01         1994   \n",
       "4  310427040  Möbel / Renovierung / Umzug          2017-01-01         1981   \n",
       "\n",
       "   Monat_Geburt Staatsangehörigkeit Geschlecht  angefragtes_Kreditvolumen  \\\n",
       "0          12.0                  DE          f                       10.0   \n",
       "1          11.0                  DE          f                       25.0   \n",
       "2           1.0                  DE          m                        5.0   \n",
       "3          12.0                  DE          m                        6.5   \n",
       "4           1.0                  DE          f                        6.5   \n",
       "\n",
       "     Familienstand   Wohnsituation   dort_wohnhaft_seit         Bundesland  \\\n",
       "0            ledig       zur Miete  2016-07-05 00:00:00             Bayern   \n",
       "1            ledig       zur Miete  2014-02-02 00:00:00             Hessen   \n",
       "2  getrennt lebend       zur Miete  2014-04-04 00:00:00             Hessen   \n",
       "3            ledig  bei den Eltern  1997-03-05 00:00:00  Schlewig-Holstein   \n",
       "4            ledig  bei den Eltern  2014-10-03 00:00:00  Baden-Württemberg   \n",
       "\n",
       "               email_domain_encoded Alter  \n",
       "0  f74d39fa044aa309eaea14b9f57fe79c    48  \n",
       "1  47410c608c49e7a0a0708031355608e1    38  \n",
       "2  38ec103fb9e09bf2354c72a5768e4f24    64  \n",
       "3  e4c865c1d21d64f32364e30ec075af6a    29  \n",
       "4  83c04328c2935e8aef7cdd3eb4395d04    42  "
      ]
     },
     "execution_count": 112,
     "metadata": {},
     "output_type": "execute_result"
    }
   ],
   "source": [
    "df_re_copied['Registrierungsdatum'] = pd.to_datetime(df_re_copied['Registrierungsdatum']).apply(lambda x: x.date())\n",
    "df_re_copied.head(5)"
   ]
  },
  {
   "cell_type": "code",
   "execution_count": 113,
   "id": "02f3dde4",
   "metadata": {},
   "outputs": [
    {
     "data": {
      "text/html": [
       "<div>\n",
       "<style scoped>\n",
       "    .dataframe tbody tr th:only-of-type {\n",
       "        vertical-align: middle;\n",
       "    }\n",
       "\n",
       "    .dataframe tbody tr th {\n",
       "        vertical-align: top;\n",
       "    }\n",
       "\n",
       "    .dataframe thead th {\n",
       "        text-align: right;\n",
       "    }\n",
       "</style>\n",
       "<table border=\"1\" class=\"dataframe\">\n",
       "  <thead>\n",
       "    <tr style=\"text-align: right;\">\n",
       "      <th></th>\n",
       "      <th>user_id</th>\n",
       "      <th>Verwendungszweck</th>\n",
       "      <th>Registrierungsdatum</th>\n",
       "      <th>Jahr_Geburt</th>\n",
       "      <th>Monat_Geburt</th>\n",
       "      <th>Staatsangehörigkeit</th>\n",
       "      <th>Geschlecht</th>\n",
       "      <th>angefragtes_Kreditvolumen</th>\n",
       "      <th>Familienstand</th>\n",
       "      <th>Wohnsituation</th>\n",
       "      <th>dort_wohnhaft_seit</th>\n",
       "      <th>Bundesland</th>\n",
       "      <th>email_domain_encoded</th>\n",
       "      <th>Alter</th>\n",
       "    </tr>\n",
       "  </thead>\n",
       "  <tbody>\n",
       "    <tr>\n",
       "      <th>0</th>\n",
       "      <td>310426050</td>\n",
       "      <td>Existenzgründung</td>\n",
       "      <td>2017-01-01</td>\n",
       "      <td>1975</td>\n",
       "      <td>12.0</td>\n",
       "      <td>DE</td>\n",
       "      <td>f</td>\n",
       "      <td>10.0</td>\n",
       "      <td>ledig</td>\n",
       "      <td>zur Miete</td>\n",
       "      <td>2016-07-05</td>\n",
       "      <td>Bayern</td>\n",
       "      <td>f74d39fa044aa309eaea14b9f57fe79c</td>\n",
       "      <td>48</td>\n",
       "    </tr>\n",
       "    <tr>\n",
       "      <th>1</th>\n",
       "      <td>310426380</td>\n",
       "      <td>Möbel / Renovierung / Umzug</td>\n",
       "      <td>2017-01-01</td>\n",
       "      <td>1985</td>\n",
       "      <td>11.0</td>\n",
       "      <td>DE</td>\n",
       "      <td>f</td>\n",
       "      <td>25.0</td>\n",
       "      <td>ledig</td>\n",
       "      <td>zur Miete</td>\n",
       "      <td>2014-02-02</td>\n",
       "      <td>Hessen</td>\n",
       "      <td>47410c608c49e7a0a0708031355608e1</td>\n",
       "      <td>38</td>\n",
       "    </tr>\n",
       "    <tr>\n",
       "      <th>2</th>\n",
       "      <td>310426710</td>\n",
       "      <td>Möbel / Renovierung / Umzug</td>\n",
       "      <td>2017-01-01</td>\n",
       "      <td>1959</td>\n",
       "      <td>1.0</td>\n",
       "      <td>DE</td>\n",
       "      <td>m</td>\n",
       "      <td>5.0</td>\n",
       "      <td>getrennt lebend</td>\n",
       "      <td>zur Miete</td>\n",
       "      <td>2014-04-04</td>\n",
       "      <td>Hessen</td>\n",
       "      <td>38ec103fb9e09bf2354c72a5768e4f24</td>\n",
       "      <td>64</td>\n",
       "    </tr>\n",
       "    <tr>\n",
       "      <th>3</th>\n",
       "      <td>310426875</td>\n",
       "      <td>Autokredit</td>\n",
       "      <td>2017-01-01</td>\n",
       "      <td>1994</td>\n",
       "      <td>12.0</td>\n",
       "      <td>DE</td>\n",
       "      <td>m</td>\n",
       "      <td>6.5</td>\n",
       "      <td>ledig</td>\n",
       "      <td>bei den Eltern</td>\n",
       "      <td>1997-03-05</td>\n",
       "      <td>Schlewig-Holstein</td>\n",
       "      <td>e4c865c1d21d64f32364e30ec075af6a</td>\n",
       "      <td>29</td>\n",
       "    </tr>\n",
       "    <tr>\n",
       "      <th>4</th>\n",
       "      <td>310427040</td>\n",
       "      <td>Möbel / Renovierung / Umzug</td>\n",
       "      <td>2017-01-01</td>\n",
       "      <td>1981</td>\n",
       "      <td>1.0</td>\n",
       "      <td>DE</td>\n",
       "      <td>f</td>\n",
       "      <td>6.5</td>\n",
       "      <td>ledig</td>\n",
       "      <td>bei den Eltern</td>\n",
       "      <td>2014-10-03</td>\n",
       "      <td>Baden-Württemberg</td>\n",
       "      <td>83c04328c2935e8aef7cdd3eb4395d04</td>\n",
       "      <td>42</td>\n",
       "    </tr>\n",
       "  </tbody>\n",
       "</table>\n",
       "</div>"
      ],
      "text/plain": [
       "     user_id             Verwendungszweck Registrierungsdatum  Jahr_Geburt  \\\n",
       "0  310426050             Existenzgründung          2017-01-01         1975   \n",
       "1  310426380  Möbel / Renovierung / Umzug          2017-01-01         1985   \n",
       "2  310426710  Möbel / Renovierung / Umzug          2017-01-01         1959   \n",
       "3  310426875                   Autokredit          2017-01-01         1994   \n",
       "4  310427040  Möbel / Renovierung / Umzug          2017-01-01         1981   \n",
       "\n",
       "   Monat_Geburt Staatsangehörigkeit Geschlecht  angefragtes_Kreditvolumen  \\\n",
       "0          12.0                  DE          f                       10.0   \n",
       "1          11.0                  DE          f                       25.0   \n",
       "2           1.0                  DE          m                        5.0   \n",
       "3          12.0                  DE          m                        6.5   \n",
       "4           1.0                  DE          f                        6.5   \n",
       "\n",
       "     Familienstand   Wohnsituation dort_wohnhaft_seit         Bundesland  \\\n",
       "0            ledig       zur Miete         2016-07-05             Bayern   \n",
       "1            ledig       zur Miete         2014-02-02             Hessen   \n",
       "2  getrennt lebend       zur Miete         2014-04-04             Hessen   \n",
       "3            ledig  bei den Eltern         1997-03-05  Schlewig-Holstein   \n",
       "4            ledig  bei den Eltern         2014-10-03  Baden-Württemberg   \n",
       "\n",
       "               email_domain_encoded Alter  \n",
       "0  f74d39fa044aa309eaea14b9f57fe79c    48  \n",
       "1  47410c608c49e7a0a0708031355608e1    38  \n",
       "2  38ec103fb9e09bf2354c72a5768e4f24    64  \n",
       "3  e4c865c1d21d64f32364e30ec075af6a    29  \n",
       "4  83c04328c2935e8aef7cdd3eb4395d04    42  "
      ]
     },
     "execution_count": 113,
     "metadata": {},
     "output_type": "execute_result"
    }
   ],
   "source": [
    "df_re_copied['dort_wohnhaft_seit'] = pd.to_datetime(df_re_copied['dort_wohnhaft_seit'], errors='coerce').apply(lambda x: x.date())\n",
    "df_re_copied.head(5)"
   ]
  },
  {
   "cell_type": "markdown",
   "id": "9c5403a7",
   "metadata": {},
   "source": [
    "* Because of `out of bounds nanosecond timestamp` error, so I used `errors='coerce'`. Now the column 'dort_wohnhaft_seit' has a lot of missing values\n"
   ]
  },
  {
   "cell_type": "code",
   "execution_count": 114,
   "id": "9046790f",
   "metadata": {},
   "outputs": [
    {
     "data": {
      "text/plain": [
       "87"
      ]
     },
     "execution_count": 114,
     "metadata": {},
     "output_type": "execute_result"
    }
   ],
   "source": [
    "# number of missing data of column dort_wohnhaft_seit\n",
    "df_re_copied['dort_wohnhaft_seit'].isna().sum()\n"
   ]
  },
  {
   "cell_type": "markdown",
   "id": "1a7b7d07",
   "metadata": {},
   "source": [
    "#### f. Create a new feature called `num_miss_fields`\n",
    "* Normally, if a user doesn't fill in all the blanks in the first page, that may demonstrate this user isn't interested in the next part. Because they may feel it is complicated and waste a lot of time. So they give up. \n",
    "* Therefore, i create a new feature `num_miss_fields`, which count the number of missing fields that one user didn't complete in the first page."
   ]
  },
  {
   "cell_type": "code",
   "execution_count": 115,
   "id": "55241509",
   "metadata": {},
   "outputs": [
    {
     "data": {
      "text/html": [
       "<div>\n",
       "<style scoped>\n",
       "    .dataframe tbody tr th:only-of-type {\n",
       "        vertical-align: middle;\n",
       "    }\n",
       "\n",
       "    .dataframe tbody tr th {\n",
       "        vertical-align: top;\n",
       "    }\n",
       "\n",
       "    .dataframe thead th {\n",
       "        text-align: right;\n",
       "    }\n",
       "</style>\n",
       "<table border=\"1\" class=\"dataframe\">\n",
       "  <thead>\n",
       "    <tr style=\"text-align: right;\">\n",
       "      <th></th>\n",
       "      <th>user_id</th>\n",
       "      <th>Verwendungszweck</th>\n",
       "      <th>Registrierungsdatum</th>\n",
       "      <th>Jahr_Geburt</th>\n",
       "      <th>Monat_Geburt</th>\n",
       "      <th>Staatsangehörigkeit</th>\n",
       "      <th>Geschlecht</th>\n",
       "      <th>angefragtes_Kreditvolumen</th>\n",
       "      <th>Familienstand</th>\n",
       "      <th>Wohnsituation</th>\n",
       "      <th>dort_wohnhaft_seit</th>\n",
       "      <th>Bundesland</th>\n",
       "      <th>email_domain_encoded</th>\n",
       "      <th>Alter</th>\n",
       "      <th>num_miss_fields</th>\n",
       "    </tr>\n",
       "  </thead>\n",
       "  <tbody>\n",
       "    <tr>\n",
       "      <th>0</th>\n",
       "      <td>310426050</td>\n",
       "      <td>Existenzgründung</td>\n",
       "      <td>2017-01-01</td>\n",
       "      <td>1975</td>\n",
       "      <td>12.0</td>\n",
       "      <td>DE</td>\n",
       "      <td>f</td>\n",
       "      <td>10.0</td>\n",
       "      <td>ledig</td>\n",
       "      <td>zur Miete</td>\n",
       "      <td>2016-07-05</td>\n",
       "      <td>Bayern</td>\n",
       "      <td>f74d39fa044aa309eaea14b9f57fe79c</td>\n",
       "      <td>48</td>\n",
       "      <td>0</td>\n",
       "    </tr>\n",
       "    <tr>\n",
       "      <th>1</th>\n",
       "      <td>310426380</td>\n",
       "      <td>Möbel / Renovierung / Umzug</td>\n",
       "      <td>2017-01-01</td>\n",
       "      <td>1985</td>\n",
       "      <td>11.0</td>\n",
       "      <td>DE</td>\n",
       "      <td>f</td>\n",
       "      <td>25.0</td>\n",
       "      <td>ledig</td>\n",
       "      <td>zur Miete</td>\n",
       "      <td>2014-02-02</td>\n",
       "      <td>Hessen</td>\n",
       "      <td>47410c608c49e7a0a0708031355608e1</td>\n",
       "      <td>38</td>\n",
       "      <td>0</td>\n",
       "    </tr>\n",
       "    <tr>\n",
       "      <th>2</th>\n",
       "      <td>310426710</td>\n",
       "      <td>Möbel / Renovierung / Umzug</td>\n",
       "      <td>2017-01-01</td>\n",
       "      <td>1959</td>\n",
       "      <td>1.0</td>\n",
       "      <td>DE</td>\n",
       "      <td>m</td>\n",
       "      <td>5.0</td>\n",
       "      <td>getrennt lebend</td>\n",
       "      <td>zur Miete</td>\n",
       "      <td>2014-04-04</td>\n",
       "      <td>Hessen</td>\n",
       "      <td>38ec103fb9e09bf2354c72a5768e4f24</td>\n",
       "      <td>64</td>\n",
       "      <td>0</td>\n",
       "    </tr>\n",
       "    <tr>\n",
       "      <th>3</th>\n",
       "      <td>310426875</td>\n",
       "      <td>Autokredit</td>\n",
       "      <td>2017-01-01</td>\n",
       "      <td>1994</td>\n",
       "      <td>12.0</td>\n",
       "      <td>DE</td>\n",
       "      <td>m</td>\n",
       "      <td>6.5</td>\n",
       "      <td>ledig</td>\n",
       "      <td>bei den Eltern</td>\n",
       "      <td>1997-03-05</td>\n",
       "      <td>Schlewig-Holstein</td>\n",
       "      <td>e4c865c1d21d64f32364e30ec075af6a</td>\n",
       "      <td>29</td>\n",
       "      <td>0</td>\n",
       "    </tr>\n",
       "    <tr>\n",
       "      <th>4</th>\n",
       "      <td>310427040</td>\n",
       "      <td>Möbel / Renovierung / Umzug</td>\n",
       "      <td>2017-01-01</td>\n",
       "      <td>1981</td>\n",
       "      <td>1.0</td>\n",
       "      <td>DE</td>\n",
       "      <td>f</td>\n",
       "      <td>6.5</td>\n",
       "      <td>ledig</td>\n",
       "      <td>bei den Eltern</td>\n",
       "      <td>2014-10-03</td>\n",
       "      <td>Baden-Württemberg</td>\n",
       "      <td>83c04328c2935e8aef7cdd3eb4395d04</td>\n",
       "      <td>42</td>\n",
       "      <td>0</td>\n",
       "    </tr>\n",
       "  </tbody>\n",
       "</table>\n",
       "</div>"
      ],
      "text/plain": [
       "     user_id             Verwendungszweck Registrierungsdatum  Jahr_Geburt  \\\n",
       "0  310426050             Existenzgründung          2017-01-01         1975   \n",
       "1  310426380  Möbel / Renovierung / Umzug          2017-01-01         1985   \n",
       "2  310426710  Möbel / Renovierung / Umzug          2017-01-01         1959   \n",
       "3  310426875                   Autokredit          2017-01-01         1994   \n",
       "4  310427040  Möbel / Renovierung / Umzug          2017-01-01         1981   \n",
       "\n",
       "   Monat_Geburt Staatsangehörigkeit Geschlecht  angefragtes_Kreditvolumen  \\\n",
       "0          12.0                  DE          f                       10.0   \n",
       "1          11.0                  DE          f                       25.0   \n",
       "2           1.0                  DE          m                        5.0   \n",
       "3          12.0                  DE          m                        6.5   \n",
       "4           1.0                  DE          f                        6.5   \n",
       "\n",
       "     Familienstand   Wohnsituation dort_wohnhaft_seit         Bundesland  \\\n",
       "0            ledig       zur Miete         2016-07-05             Bayern   \n",
       "1            ledig       zur Miete         2014-02-02             Hessen   \n",
       "2  getrennt lebend       zur Miete         2014-04-04             Hessen   \n",
       "3            ledig  bei den Eltern         1997-03-05  Schlewig-Holstein   \n",
       "4            ledig  bei den Eltern         2014-10-03  Baden-Württemberg   \n",
       "\n",
       "               email_domain_encoded Alter  num_miss_fields  \n",
       "0  f74d39fa044aa309eaea14b9f57fe79c    48                0  \n",
       "1  47410c608c49e7a0a0708031355608e1    38                0  \n",
       "2  38ec103fb9e09bf2354c72a5768e4f24    64                0  \n",
       "3  e4c865c1d21d64f32364e30ec075af6a    29                0  \n",
       "4  83c04328c2935e8aef7cdd3eb4395d04    42                0  "
      ]
     },
     "execution_count": 115,
     "metadata": {},
     "output_type": "execute_result"
    }
   ],
   "source": [
    "df_re_copied['num_miss_fields'] = df_re_copied.iloc[:, :-1 ].isnull().sum(axis=1)\n",
    "df_re_copied.head(5)"
   ]
  },
  {
   "cell_type": "markdown",
   "id": "0d8244a6",
   "metadata": {},
   "source": [
    "#### g. Dropping some unimportant columns for training model\n"
   ]
  },
  {
   "cell_type": "code",
   "execution_count": 116,
   "id": "e422855b",
   "metadata": {},
   "outputs": [
    {
     "data": {
      "text/html": [
       "<div>\n",
       "<style scoped>\n",
       "    .dataframe tbody tr th:only-of-type {\n",
       "        vertical-align: middle;\n",
       "    }\n",
       "\n",
       "    .dataframe tbody tr th {\n",
       "        vertical-align: top;\n",
       "    }\n",
       "\n",
       "    .dataframe thead th {\n",
       "        text-align: right;\n",
       "    }\n",
       "</style>\n",
       "<table border=\"1\" class=\"dataframe\">\n",
       "  <thead>\n",
       "    <tr style=\"text-align: right;\">\n",
       "      <th></th>\n",
       "      <th>user_id</th>\n",
       "      <th>Verwendungszweck</th>\n",
       "      <th>Registrierungsdatum</th>\n",
       "      <th>Geschlecht</th>\n",
       "      <th>angefragtes_Kreditvolumen</th>\n",
       "      <th>Familienstand</th>\n",
       "      <th>Wohnsituation</th>\n",
       "      <th>dort_wohnhaft_seit</th>\n",
       "      <th>Bundesland</th>\n",
       "      <th>Alter</th>\n",
       "      <th>num_miss_fields</th>\n",
       "    </tr>\n",
       "  </thead>\n",
       "  <tbody>\n",
       "    <tr>\n",
       "      <th>0</th>\n",
       "      <td>310426050</td>\n",
       "      <td>Existenzgründung</td>\n",
       "      <td>2017-01-01</td>\n",
       "      <td>f</td>\n",
       "      <td>10.0</td>\n",
       "      <td>ledig</td>\n",
       "      <td>zur Miete</td>\n",
       "      <td>2016-07-05</td>\n",
       "      <td>Bayern</td>\n",
       "      <td>48</td>\n",
       "      <td>0</td>\n",
       "    </tr>\n",
       "    <tr>\n",
       "      <th>1</th>\n",
       "      <td>310426380</td>\n",
       "      <td>Möbel / Renovierung / Umzug</td>\n",
       "      <td>2017-01-01</td>\n",
       "      <td>f</td>\n",
       "      <td>25.0</td>\n",
       "      <td>ledig</td>\n",
       "      <td>zur Miete</td>\n",
       "      <td>2014-02-02</td>\n",
       "      <td>Hessen</td>\n",
       "      <td>38</td>\n",
       "      <td>0</td>\n",
       "    </tr>\n",
       "    <tr>\n",
       "      <th>2</th>\n",
       "      <td>310426710</td>\n",
       "      <td>Möbel / Renovierung / Umzug</td>\n",
       "      <td>2017-01-01</td>\n",
       "      <td>m</td>\n",
       "      <td>5.0</td>\n",
       "      <td>getrennt lebend</td>\n",
       "      <td>zur Miete</td>\n",
       "      <td>2014-04-04</td>\n",
       "      <td>Hessen</td>\n",
       "      <td>64</td>\n",
       "      <td>0</td>\n",
       "    </tr>\n",
       "    <tr>\n",
       "      <th>3</th>\n",
       "      <td>310426875</td>\n",
       "      <td>Autokredit</td>\n",
       "      <td>2017-01-01</td>\n",
       "      <td>m</td>\n",
       "      <td>6.5</td>\n",
       "      <td>ledig</td>\n",
       "      <td>bei den Eltern</td>\n",
       "      <td>1997-03-05</td>\n",
       "      <td>Schlewig-Holstein</td>\n",
       "      <td>29</td>\n",
       "      <td>0</td>\n",
       "    </tr>\n",
       "    <tr>\n",
       "      <th>4</th>\n",
       "      <td>310427040</td>\n",
       "      <td>Möbel / Renovierung / Umzug</td>\n",
       "      <td>2017-01-01</td>\n",
       "      <td>f</td>\n",
       "      <td>6.5</td>\n",
       "      <td>ledig</td>\n",
       "      <td>bei den Eltern</td>\n",
       "      <td>2014-10-03</td>\n",
       "      <td>Baden-Württemberg</td>\n",
       "      <td>42</td>\n",
       "      <td>0</td>\n",
       "    </tr>\n",
       "  </tbody>\n",
       "</table>\n",
       "</div>"
      ],
      "text/plain": [
       "     user_id             Verwendungszweck Registrierungsdatum Geschlecht  \\\n",
       "0  310426050             Existenzgründung          2017-01-01          f   \n",
       "1  310426380  Möbel / Renovierung / Umzug          2017-01-01          f   \n",
       "2  310426710  Möbel / Renovierung / Umzug          2017-01-01          m   \n",
       "3  310426875                   Autokredit          2017-01-01          m   \n",
       "4  310427040  Möbel / Renovierung / Umzug          2017-01-01          f   \n",
       "\n",
       "   angefragtes_Kreditvolumen    Familienstand   Wohnsituation  \\\n",
       "0                       10.0            ledig       zur Miete   \n",
       "1                       25.0            ledig       zur Miete   \n",
       "2                        5.0  getrennt lebend       zur Miete   \n",
       "3                        6.5            ledig  bei den Eltern   \n",
       "4                        6.5            ledig  bei den Eltern   \n",
       "\n",
       "  dort_wohnhaft_seit         Bundesland Alter  num_miss_fields  \n",
       "0         2016-07-05             Bayern    48                0  \n",
       "1         2014-02-02             Hessen    38                0  \n",
       "2         2014-04-04             Hessen    64                0  \n",
       "3         1997-03-05  Schlewig-Holstein    29                0  \n",
       "4         2014-10-03  Baden-Württemberg    42                0  "
      ]
     },
     "execution_count": 116,
     "metadata": {},
     "output_type": "execute_result"
    }
   ],
   "source": [
    "df = df_re_copied.drop(columns=['Jahr_Geburt', 'Monat_Geburt', 'Staatsangehörigkeit', 'email_domain_encoded'])\n",
    "df.head(5)"
   ]
  },
  {
   "cell_type": "code",
   "execution_count": 117,
   "id": "c7e53d63",
   "metadata": {},
   "outputs": [
    {
     "data": {
      "text/plain": [
       "datetime.date(2017, 6, 1)"
      ]
     },
     "execution_count": 117,
     "metadata": {},
     "output_type": "execute_result"
    }
   ],
   "source": [
    "df['Registrierungsdatum'].max()"
   ]
  },
  {
   "cell_type": "code",
   "execution_count": 118,
   "id": "ab7983dc",
   "metadata": {},
   "outputs": [
    {
     "data": {
      "text/plain": [
       "datetime.date(2017, 1, 1)"
      ]
     },
     "execution_count": 118,
     "metadata": {},
     "output_type": "execute_result"
    }
   ],
   "source": [
    "df['Registrierungsdatum'].min()"
   ]
  },
  {
   "cell_type": "markdown",
   "id": "8db8ee81",
   "metadata": {},
   "source": [
    "### 3. Handling missing data"
   ]
  },
  {
   "cell_type": "markdown",
   "id": "a4be536f",
   "metadata": {},
   "source": [
    "#### 3.1. Analyzing the relationship between `user_id` and `Bundesland` to see where the most user live in ( missing values are not observed)"
   ]
  },
  {
   "cell_type": "code",
   "execution_count": 119,
   "id": "63bd1dbb",
   "metadata": {},
   "outputs": [
    {
     "data": {
      "text/html": [
       "<div>\n",
       "<style scoped>\n",
       "    .dataframe tbody tr th:only-of-type {\n",
       "        vertical-align: middle;\n",
       "    }\n",
       "\n",
       "    .dataframe tbody tr th {\n",
       "        vertical-align: top;\n",
       "    }\n",
       "\n",
       "    .dataframe thead th {\n",
       "        text-align: right;\n",
       "    }\n",
       "</style>\n",
       "<table border=\"1\" class=\"dataframe\">\n",
       "  <thead>\n",
       "    <tr style=\"text-align: right;\">\n",
       "      <th></th>\n",
       "      <th>Bundesland</th>\n",
       "      <th>user_id</th>\n",
       "    </tr>\n",
       "  </thead>\n",
       "  <tbody>\n",
       "    <tr>\n",
       "      <th>0</th>\n",
       "      <td>Baden-Württemberg</td>\n",
       "      <td>16620</td>\n",
       "    </tr>\n",
       "    <tr>\n",
       "      <th>1</th>\n",
       "      <td>Bayern</td>\n",
       "      <td>19512</td>\n",
       "    </tr>\n",
       "    <tr>\n",
       "      <th>2</th>\n",
       "      <td>Berlin</td>\n",
       "      <td>6763</td>\n",
       "    </tr>\n",
       "    <tr>\n",
       "      <th>3</th>\n",
       "      <td>Brandenburg</td>\n",
       "      <td>3662</td>\n",
       "    </tr>\n",
       "    <tr>\n",
       "      <th>4</th>\n",
       "      <td>Bremen</td>\n",
       "      <td>1350</td>\n",
       "    </tr>\n",
       "    <tr>\n",
       "      <th>5</th>\n",
       "      <td>Hamburg</td>\n",
       "      <td>3176</td>\n",
       "    </tr>\n",
       "    <tr>\n",
       "      <th>6</th>\n",
       "      <td>Hessen</td>\n",
       "      <td>10591</td>\n",
       "    </tr>\n",
       "    <tr>\n",
       "      <th>7</th>\n",
       "      <td>Mecklenburg-Vorpommern</td>\n",
       "      <td>3312</td>\n",
       "    </tr>\n",
       "    <tr>\n",
       "      <th>8</th>\n",
       "      <td>Niedersachsen</td>\n",
       "      <td>14311</td>\n",
       "    </tr>\n",
       "    <tr>\n",
       "      <th>9</th>\n",
       "      <td>Nordrhein-Westfalen</td>\n",
       "      <td>31584</td>\n",
       "    </tr>\n",
       "    <tr>\n",
       "      <th>10</th>\n",
       "      <td>Rheinland-Pfalz</td>\n",
       "      <td>7711</td>\n",
       "    </tr>\n",
       "    <tr>\n",
       "      <th>11</th>\n",
       "      <td>Saarland</td>\n",
       "      <td>1931</td>\n",
       "    </tr>\n",
       "    <tr>\n",
       "      <th>12</th>\n",
       "      <td>Sachsen-Anhalt</td>\n",
       "      <td>1945</td>\n",
       "    </tr>\n",
       "    <tr>\n",
       "      <th>13</th>\n",
       "      <td>Schlewig-Holstein</td>\n",
       "      <td>5457</td>\n",
       "    </tr>\n",
       "    <tr>\n",
       "      <th>14</th>\n",
       "      <td>Thüringen</td>\n",
       "      <td>2657</td>\n",
       "    </tr>\n",
       "  </tbody>\n",
       "</table>\n",
       "</div>"
      ],
      "text/plain": [
       "                Bundesland  user_id\n",
       "0        Baden-Württemberg    16620\n",
       "1                   Bayern    19512\n",
       "2                   Berlin     6763\n",
       "3              Brandenburg     3662\n",
       "4                   Bremen     1350\n",
       "5                  Hamburg     3176\n",
       "6                   Hessen    10591\n",
       "7   Mecklenburg-Vorpommern     3312\n",
       "8            Niedersachsen    14311\n",
       "9      Nordrhein-Westfalen    31584\n",
       "10         Rheinland-Pfalz     7711\n",
       "11                Saarland     1931\n",
       "12          Sachsen-Anhalt     1945\n",
       "13       Schlewig-Holstein     5457\n",
       "14               Thüringen     2657"
      ]
     },
     "execution_count": 119,
     "metadata": {},
     "output_type": "execute_result"
    }
   ],
   "source": [
    "us_bund = df.groupby('Bundesland')['user_id'].count().reset_index()\n",
    "us_bund"
   ]
  },
  {
   "cell_type": "code",
   "execution_count": 120,
   "id": "ed6a78d1",
   "metadata": {},
   "outputs": [
    {
     "data": {
      "image/png": "[encoded data removed]",
      "text/plain": [
       "<Figure size 1080x432 with 1 Axes>"
      ]
     },
     "metadata": {},
     "output_type": "display_data"
    }
   ],
   "source": [
    "fig, ax = plt.subplots(1, 1, figsize=(15, 6))\n",
    "sns.barplot(data = us_bund, x='Bundesland', y='user_id')\n",
    "ax.set_xticklabels(us_bund['Bundesland'], rotation=90)\n",
    "plt.title('Distribution of user according to Bundesland');"
   ]
  },
  {
   "cell_type": "code",
   "execution_count": 121,
   "id": "25b04efd",
   "metadata": {},
   "outputs": [
    {
     "data": {
      "image/png": "[encoded data removed]",
      "text/plain": [
       "<Figure size 576x576 with 1 Axes>"
      ]
     },
     "metadata": {},
     "output_type": "display_data"
    }
   ],
   "source": [
    "plt.figure(figsize=(8, 8))\n",
    "plt.pie(us_bund['user_id'], labels=us_bund['Bundesland'], autopct='%d%%')\n",
    "plt.show()"
   ]
  },
  {
   "cell_type": "markdown",
   "id": "f38fba3b",
   "metadata": {},
   "source": [
    "* We know that the column `Bundesland` has a huge amount of missing data (11.065%). From the above pipe chart, we see that most categories in this column occupy lower than 10%, except for few special areas. So I suggest to replace missing data with a new category called **unbekannt**\n"
   ]
  },
  {
   "cell_type": "markdown",
   "id": "b96bd6af",
   "metadata": {},
   "source": [
    "#### 3.2. replacing missing values of column `Bundesland` with `unbekannt` and missung values of column `Verwendungszweck` with the most frequent category in that column"
   ]
  },
  {
   "cell_type": "code",
   "execution_count": 122,
   "id": "05abf2b5",
   "metadata": {},
   "outputs": [],
   "source": [
    "df = df.fillna({'Bundesland': 'unbekannt', 'Verwendungszweck': df['Verwendungszweck'].value_counts().index[0]})"
   ]
  },
  {
   "cell_type": "markdown",
   "id": "ff1529bf",
   "metadata": {},
   "source": [
    "#### 3.3. Handling missing values of numemical variables\n",
    "* Columns `angefragtes_Kreditvolumen` and `Alter`"
   ]
  },
  {
   "cell_type": "markdown",
   "id": "f286618e",
   "metadata": {},
   "source": [
    "##### 3.3.a. column Alter"
   ]
  },
  {
   "cell_type": "code",
   "execution_count": 123,
   "id": "cdd667b3",
   "metadata": {},
   "outputs": [
    {
     "data": {
      "text/plain": [
       "array([48, 38, 64, 29, 42, 44, 34, 32, 39, 40, 35, 37, 31, 60, 43, 66, 51,\n",
       "       30, 45, 57, 69, 63, 41, 62, 65, 56, 46, 78, 36, 33, 50, 28, 2026,\n",
       "       71, 73, 47, 58, 59, 77, 49, 68, 52, 61, 67, 74, 55, 72, 54, 79, 53,\n",
       "       76, 70, 75, 27, 83, 80, <NA>, 9], dtype=object)"
      ]
     },
     "execution_count": 123,
     "metadata": {},
     "output_type": "execute_result"
    }
   ],
   "source": [
    "df['Alter'].unique()"
   ]
  },
  {
   "cell_type": "code",
   "execution_count": 124,
   "id": "4b62d120",
   "metadata": {},
   "outputs": [
    {
     "data": {
      "text/html": [
       "<div>\n",
       "<style scoped>\n",
       "    .dataframe tbody tr th:only-of-type {\n",
       "        vertical-align: middle;\n",
       "    }\n",
       "\n",
       "    .dataframe tbody tr th {\n",
       "        vertical-align: top;\n",
       "    }\n",
       "\n",
       "    .dataframe thead th {\n",
       "        text-align: right;\n",
       "    }\n",
       "</style>\n",
       "<table border=\"1\" class=\"dataframe\">\n",
       "  <thead>\n",
       "    <tr style=\"text-align: right;\">\n",
       "      <th></th>\n",
       "      <th>user_id</th>\n",
       "      <th>Verwendungszweck</th>\n",
       "      <th>Registrierungsdatum</th>\n",
       "      <th>Jahr_Geburt</th>\n",
       "      <th>Monat_Geburt</th>\n",
       "      <th>Staatsangehörigkeit</th>\n",
       "      <th>Geschlecht</th>\n",
       "      <th>angefragtes_Kreditvolumen</th>\n",
       "      <th>Familienstand</th>\n",
       "      <th>Wohnsituation</th>\n",
       "      <th>dort_wohnhaft_seit</th>\n",
       "      <th>Bundesland</th>\n",
       "      <th>email_domain_encoded</th>\n",
       "    </tr>\n",
       "  </thead>\n",
       "  <tbody>\n",
       "    <tr>\n",
       "      <th>51</th>\n",
       "      <td>310439250</td>\n",
       "      <td>Autokredit</td>\n",
       "      <td>2017-01-01 11:56:04</td>\n",
       "      <td>-3.0</td>\n",
       "      <td>3.0</td>\n",
       "      <td>DE</td>\n",
       "      <td>f</td>\n",
       "      <td>5.0</td>\n",
       "      <td>verheiratet / eingetragene Partnerschaft</td>\n",
       "      <td>zur Miete</td>\n",
       "      <td>2014-03-05 00:00:00</td>\n",
       "      <td>NaN</td>\n",
       "      <td>9630d5d23e65cdd4ecf28357798e4da5</td>\n",
       "    </tr>\n",
       "    <tr>\n",
       "      <th>58</th>\n",
       "      <td>310440570</td>\n",
       "      <td>Existenzgründung</td>\n",
       "      <td>2017-01-01 12:07:08</td>\n",
       "      <td>-3.0</td>\n",
       "      <td>3.0</td>\n",
       "      <td>DE</td>\n",
       "      <td>f</td>\n",
       "      <td>7.5</td>\n",
       "      <td>ledig</td>\n",
       "      <td>bei den Eltern</td>\n",
       "      <td>2012-11-02 00:00:00</td>\n",
       "      <td>NaN</td>\n",
       "      <td>9630d5d23e65cdd4ecf28357798e4da5</td>\n",
       "    </tr>\n",
       "    <tr>\n",
       "      <th>462</th>\n",
       "      <td>310559040</td>\n",
       "      <td>Ausgleich Girokonto / Dispo</td>\n",
       "      <td>2017-01-02 09:55:44</td>\n",
       "      <td>-3.0</td>\n",
       "      <td>3.0</td>\n",
       "      <td>DE</td>\n",
       "      <td>f</td>\n",
       "      <td>5.5</td>\n",
       "      <td>ledig</td>\n",
       "      <td>im Eigentum</td>\n",
       "      <td>1992-12-03 00:00:00</td>\n",
       "      <td>NaN</td>\n",
       "      <td>9630d5d23e65cdd4ecf28357798e4da5</td>\n",
       "    </tr>\n",
       "    <tr>\n",
       "      <th>595</th>\n",
       "      <td>310665300</td>\n",
       "      <td>Autokredit</td>\n",
       "      <td>2017-01-02 12:17:53</td>\n",
       "      <td>-3.0</td>\n",
       "      <td>3.0</td>\n",
       "      <td>DE</td>\n",
       "      <td>f</td>\n",
       "      <td>20.0</td>\n",
       "      <td>verheiratet / eingetragene Partnerschaft</td>\n",
       "      <td>im Eigentum</td>\n",
       "      <td>1998-07-05 00:00:00</td>\n",
       "      <td>NaN</td>\n",
       "      <td>9630d5d23e65cdd4ecf28357798e4da5</td>\n",
       "    </tr>\n",
       "    <tr>\n",
       "      <th>603</th>\n",
       "      <td>310668270</td>\n",
       "      <td>sonstiges</td>\n",
       "      <td>2017-01-02 12:22:58</td>\n",
       "      <td>-3.0</td>\n",
       "      <td>3.0</td>\n",
       "      <td>DE</td>\n",
       "      <td>f</td>\n",
       "      <td>6.0</td>\n",
       "      <td>ledig</td>\n",
       "      <td>zur Miete</td>\n",
       "      <td>2016-06-04 00:00:00</td>\n",
       "      <td>NaN</td>\n",
       "      <td>9630d5d23e65cdd4ecf28357798e4da5</td>\n",
       "    </tr>\n",
       "    <tr>\n",
       "      <th>...</th>\n",
       "      <td>...</td>\n",
       "      <td>...</td>\n",
       "      <td>...</td>\n",
       "      <td>...</td>\n",
       "      <td>...</td>\n",
       "      <td>...</td>\n",
       "      <td>...</td>\n",
       "      <td>...</td>\n",
       "      <td>...</td>\n",
       "      <td>...</td>\n",
       "      <td>...</td>\n",
       "      <td>...</td>\n",
       "      <td>...</td>\n",
       "    </tr>\n",
       "    <tr>\n",
       "      <th>144508</th>\n",
       "      <td>359017230</td>\n",
       "      <td>sonstiges</td>\n",
       "      <td>2017-05-29 17:31:55</td>\n",
       "      <td>-3.0</td>\n",
       "      <td>3.0</td>\n",
       "      <td>DE</td>\n",
       "      <td>m</td>\n",
       "      <td>10.0</td>\n",
       "      <td>verheiratet / eingetragene Partnerschaft</td>\n",
       "      <td>im Eigentum</td>\n",
       "      <td>2000-06-04 00:00:00</td>\n",
       "      <td>NaN</td>\n",
       "      <td>9630d5d23e65cdd4ecf28357798e4da5</td>\n",
       "    </tr>\n",
       "    <tr>\n",
       "      <th>145217</th>\n",
       "      <td>359277435</td>\n",
       "      <td>Ausgleich Girokonto / Dispo</td>\n",
       "      <td>2017-05-30 13:51:30</td>\n",
       "      <td>-3.0</td>\n",
       "      <td>3.0</td>\n",
       "      <td>DE</td>\n",
       "      <td>m</td>\n",
       "      <td>7.5</td>\n",
       "      <td>geschieden</td>\n",
       "      <td>zur Miete</td>\n",
       "      <td>2013-03-05 00:00:00</td>\n",
       "      <td>NaN</td>\n",
       "      <td>9630d5d23e65cdd4ecf28357798e4da5</td>\n",
       "    </tr>\n",
       "    <tr>\n",
       "      <th>145777</th>\n",
       "      <td>359466030</td>\n",
       "      <td>sonstiges</td>\n",
       "      <td>2017-05-30 23:20:52</td>\n",
       "      <td>-3.0</td>\n",
       "      <td>3.0</td>\n",
       "      <td>DE</td>\n",
       "      <td>m</td>\n",
       "      <td>1.0</td>\n",
       "      <td>ledig</td>\n",
       "      <td>bei den Eltern</td>\n",
       "      <td>2012-02-03 00:00:00</td>\n",
       "      <td>NaN</td>\n",
       "      <td>9630d5d23e65cdd4ecf28357798e4da5</td>\n",
       "    </tr>\n",
       "    <tr>\n",
       "      <th>146290</th>\n",
       "      <td>359656440</td>\n",
       "      <td>Möbel / Renovierung / Umzug</td>\n",
       "      <td>2017-05-31 15:02:46</td>\n",
       "      <td>-3.0</td>\n",
       "      <td>3.0</td>\n",
       "      <td>DE</td>\n",
       "      <td>f</td>\n",
       "      <td>10.0</td>\n",
       "      <td>ledig</td>\n",
       "      <td>im Eigentum</td>\n",
       "      <td>1980-11-02 00:00:00</td>\n",
       "      <td>NaN</td>\n",
       "      <td>9630d5d23e65cdd4ecf28357798e4da5</td>\n",
       "    </tr>\n",
       "    <tr>\n",
       "      <th>146810</th>\n",
       "      <td>359829030</td>\n",
       "      <td>Ausgleich Girokonto / Dispo</td>\n",
       "      <td>2017-06-01 00:02:28</td>\n",
       "      <td>-3.0</td>\n",
       "      <td>3.0</td>\n",
       "      <td>DE</td>\n",
       "      <td>m</td>\n",
       "      <td>1.0</td>\n",
       "      <td>ledig</td>\n",
       "      <td>zur Miete</td>\n",
       "      <td>2016-04-04 00:00:00</td>\n",
       "      <td>NaN</td>\n",
       "      <td>9630d5d23e65cdd4ecf28357798e4da5</td>\n",
       "    </tr>\n",
       "  </tbody>\n",
       "</table>\n",
       "<p>758 rows × 13 columns</p>\n",
       "</div>"
      ],
      "text/plain": [
       "          user_id             Verwendungszweck  Registrierungsdatum  \\\n",
       "51      310439250                   Autokredit  2017-01-01 11:56:04   \n",
       "58      310440570             Existenzgründung  2017-01-01 12:07:08   \n",
       "462     310559040  Ausgleich Girokonto / Dispo  2017-01-02 09:55:44   \n",
       "595     310665300                   Autokredit  2017-01-02 12:17:53   \n",
       "603     310668270                    sonstiges  2017-01-02 12:22:58   \n",
       "...           ...                          ...                  ...   \n",
       "144508  359017230                    sonstiges  2017-05-29 17:31:55   \n",
       "145217  359277435  Ausgleich Girokonto / Dispo  2017-05-30 13:51:30   \n",
       "145777  359466030                    sonstiges  2017-05-30 23:20:52   \n",
       "146290  359656440  Möbel / Renovierung / Umzug  2017-05-31 15:02:46   \n",
       "146810  359829030  Ausgleich Girokonto / Dispo  2017-06-01 00:02:28   \n",
       "\n",
       "        Jahr_Geburt  Monat_Geburt Staatsangehörigkeit Geschlecht  \\\n",
       "51             -3.0           3.0                  DE          f   \n",
       "58             -3.0           3.0                  DE          f   \n",
       "462            -3.0           3.0                  DE          f   \n",
       "595            -3.0           3.0                  DE          f   \n",
       "603            -3.0           3.0                  DE          f   \n",
       "...             ...           ...                 ...        ...   \n",
       "144508         -3.0           3.0                  DE          m   \n",
       "145217         -3.0           3.0                  DE          m   \n",
       "145777         -3.0           3.0                  DE          m   \n",
       "146290         -3.0           3.0                  DE          f   \n",
       "146810         -3.0           3.0                  DE          m   \n",
       "\n",
       "        angefragtes_Kreditvolumen                             Familienstand  \\\n",
       "51                            5.0  verheiratet / eingetragene Partnerschaft   \n",
       "58                            7.5                                     ledig   \n",
       "462                           5.5                                     ledig   \n",
       "595                          20.0  verheiratet / eingetragene Partnerschaft   \n",
       "603                           6.0                                     ledig   \n",
       "...                           ...                                       ...   \n",
       "144508                       10.0  verheiratet / eingetragene Partnerschaft   \n",
       "145217                        7.5                                geschieden   \n",
       "145777                        1.0                                     ledig   \n",
       "146290                       10.0                                     ledig   \n",
       "146810                        1.0                                     ledig   \n",
       "\n",
       "         Wohnsituation   dort_wohnhaft_seit Bundesland  \\\n",
       "51           zur Miete  2014-03-05 00:00:00        NaN   \n",
       "58      bei den Eltern  2012-11-02 00:00:00        NaN   \n",
       "462        im Eigentum  1992-12-03 00:00:00        NaN   \n",
       "595        im Eigentum  1998-07-05 00:00:00        NaN   \n",
       "603          zur Miete  2016-06-04 00:00:00        NaN   \n",
       "...                ...                  ...        ...   \n",
       "144508     im Eigentum  2000-06-04 00:00:00        NaN   \n",
       "145217       zur Miete  2013-03-05 00:00:00        NaN   \n",
       "145777  bei den Eltern  2012-02-03 00:00:00        NaN   \n",
       "146290     im Eigentum  1980-11-02 00:00:00        NaN   \n",
       "146810       zur Miete  2016-04-04 00:00:00        NaN   \n",
       "\n",
       "                    email_domain_encoded  \n",
       "51      9630d5d23e65cdd4ecf28357798e4da5  \n",
       "58      9630d5d23e65cdd4ecf28357798e4da5  \n",
       "462     9630d5d23e65cdd4ecf28357798e4da5  \n",
       "595     9630d5d23e65cdd4ecf28357798e4da5  \n",
       "603     9630d5d23e65cdd4ecf28357798e4da5  \n",
       "...                                  ...  \n",
       "144508  9630d5d23e65cdd4ecf28357798e4da5  \n",
       "145217  9630d5d23e65cdd4ecf28357798e4da5  \n",
       "145777  9630d5d23e65cdd4ecf28357798e4da5  \n",
       "146290  9630d5d23e65cdd4ecf28357798e4da5  \n",
       "146810  9630d5d23e65cdd4ecf28357798e4da5  \n",
       "\n",
       "[758 rows x 13 columns]"
      ]
     },
     "execution_count": 124,
     "metadata": {},
     "output_type": "execute_result"
    }
   ],
   "source": [
    "df_re[(df_re['Jahr_Geburt'] > 2023) | (df_re['Jahr_Geburt'] <= 1900)]"
   ]
  },
  {
   "cell_type": "code",
   "execution_count": 125,
   "id": "327ce2fc",
   "metadata": {},
   "outputs": [
    {
     "data": {
      "text/html": [
       "<div>\n",
       "<style scoped>\n",
       "    .dataframe tbody tr th:only-of-type {\n",
       "        vertical-align: middle;\n",
       "    }\n",
       "\n",
       "    .dataframe tbody tr th {\n",
       "        vertical-align: top;\n",
       "    }\n",
       "\n",
       "    .dataframe thead th {\n",
       "        text-align: right;\n",
       "    }\n",
       "</style>\n",
       "<table border=\"1\" class=\"dataframe\">\n",
       "  <thead>\n",
       "    <tr style=\"text-align: right;\">\n",
       "      <th></th>\n",
       "      <th>user_id</th>\n",
       "      <th>Verwendungszweck</th>\n",
       "      <th>Registrierungsdatum</th>\n",
       "      <th>Jahr_Geburt</th>\n",
       "      <th>Monat_Geburt</th>\n",
       "      <th>Staatsangehörigkeit</th>\n",
       "      <th>Geschlecht</th>\n",
       "      <th>angefragtes_Kreditvolumen</th>\n",
       "      <th>Familienstand</th>\n",
       "      <th>Wohnsituation</th>\n",
       "      <th>dort_wohnhaft_seit</th>\n",
       "      <th>Bundesland</th>\n",
       "      <th>email_domain_encoded</th>\n",
       "    </tr>\n",
       "  </thead>\n",
       "  <tbody>\n",
       "    <tr>\n",
       "      <th>51</th>\n",
       "      <td>310439250</td>\n",
       "      <td>Autokredit</td>\n",
       "      <td>2017-01-01 11:56:04</td>\n",
       "      <td>-3.0</td>\n",
       "      <td>3.0</td>\n",
       "      <td>DE</td>\n",
       "      <td>f</td>\n",
       "      <td>5.0</td>\n",
       "      <td>verheiratet / eingetragene Partnerschaft</td>\n",
       "      <td>zur Miete</td>\n",
       "      <td>2014-03-05 00:00:00</td>\n",
       "      <td>NaN</td>\n",
       "      <td>9630d5d23e65cdd4ecf28357798e4da5</td>\n",
       "    </tr>\n",
       "    <tr>\n",
       "      <th>58</th>\n",
       "      <td>310440570</td>\n",
       "      <td>Existenzgründung</td>\n",
       "      <td>2017-01-01 12:07:08</td>\n",
       "      <td>-3.0</td>\n",
       "      <td>3.0</td>\n",
       "      <td>DE</td>\n",
       "      <td>f</td>\n",
       "      <td>7.5</td>\n",
       "      <td>ledig</td>\n",
       "      <td>bei den Eltern</td>\n",
       "      <td>2012-11-02 00:00:00</td>\n",
       "      <td>NaN</td>\n",
       "      <td>9630d5d23e65cdd4ecf28357798e4da5</td>\n",
       "    </tr>\n",
       "    <tr>\n",
       "      <th>462</th>\n",
       "      <td>310559040</td>\n",
       "      <td>Ausgleich Girokonto / Dispo</td>\n",
       "      <td>2017-01-02 09:55:44</td>\n",
       "      <td>-3.0</td>\n",
       "      <td>3.0</td>\n",
       "      <td>DE</td>\n",
       "      <td>f</td>\n",
       "      <td>5.5</td>\n",
       "      <td>ledig</td>\n",
       "      <td>im Eigentum</td>\n",
       "      <td>1992-12-03 00:00:00</td>\n",
       "      <td>NaN</td>\n",
       "      <td>9630d5d23e65cdd4ecf28357798e4da5</td>\n",
       "    </tr>\n",
       "    <tr>\n",
       "      <th>595</th>\n",
       "      <td>310665300</td>\n",
       "      <td>Autokredit</td>\n",
       "      <td>2017-01-02 12:17:53</td>\n",
       "      <td>-3.0</td>\n",
       "      <td>3.0</td>\n",
       "      <td>DE</td>\n",
       "      <td>f</td>\n",
       "      <td>20.0</td>\n",
       "      <td>verheiratet / eingetragene Partnerschaft</td>\n",
       "      <td>im Eigentum</td>\n",
       "      <td>1998-07-05 00:00:00</td>\n",
       "      <td>NaN</td>\n",
       "      <td>9630d5d23e65cdd4ecf28357798e4da5</td>\n",
       "    </tr>\n",
       "    <tr>\n",
       "      <th>603</th>\n",
       "      <td>310668270</td>\n",
       "      <td>sonstiges</td>\n",
       "      <td>2017-01-02 12:22:58</td>\n",
       "      <td>-3.0</td>\n",
       "      <td>3.0</td>\n",
       "      <td>DE</td>\n",
       "      <td>f</td>\n",
       "      <td>6.0</td>\n",
       "      <td>ledig</td>\n",
       "      <td>zur Miete</td>\n",
       "      <td>2016-06-04 00:00:00</td>\n",
       "      <td>NaN</td>\n",
       "      <td>9630d5d23e65cdd4ecf28357798e4da5</td>\n",
       "    </tr>\n",
       "    <tr>\n",
       "      <th>...</th>\n",
       "      <td>...</td>\n",
       "      <td>...</td>\n",
       "      <td>...</td>\n",
       "      <td>...</td>\n",
       "      <td>...</td>\n",
       "      <td>...</td>\n",
       "      <td>...</td>\n",
       "      <td>...</td>\n",
       "      <td>...</td>\n",
       "      <td>...</td>\n",
       "      <td>...</td>\n",
       "      <td>...</td>\n",
       "      <td>...</td>\n",
       "    </tr>\n",
       "    <tr>\n",
       "      <th>144508</th>\n",
       "      <td>359017230</td>\n",
       "      <td>sonstiges</td>\n",
       "      <td>2017-05-29 17:31:55</td>\n",
       "      <td>-3.0</td>\n",
       "      <td>3.0</td>\n",
       "      <td>DE</td>\n",
       "      <td>m</td>\n",
       "      <td>10.0</td>\n",
       "      <td>verheiratet / eingetragene Partnerschaft</td>\n",
       "      <td>im Eigentum</td>\n",
       "      <td>2000-06-04 00:00:00</td>\n",
       "      <td>NaN</td>\n",
       "      <td>9630d5d23e65cdd4ecf28357798e4da5</td>\n",
       "    </tr>\n",
       "    <tr>\n",
       "      <th>145217</th>\n",
       "      <td>359277435</td>\n",
       "      <td>Ausgleich Girokonto / Dispo</td>\n",
       "      <td>2017-05-30 13:51:30</td>\n",
       "      <td>-3.0</td>\n",
       "      <td>3.0</td>\n",
       "      <td>DE</td>\n",
       "      <td>m</td>\n",
       "      <td>7.5</td>\n",
       "      <td>geschieden</td>\n",
       "      <td>zur Miete</td>\n",
       "      <td>2013-03-05 00:00:00</td>\n",
       "      <td>NaN</td>\n",
       "      <td>9630d5d23e65cdd4ecf28357798e4da5</td>\n",
       "    </tr>\n",
       "    <tr>\n",
       "      <th>145777</th>\n",
       "      <td>359466030</td>\n",
       "      <td>sonstiges</td>\n",
       "      <td>2017-05-30 23:20:52</td>\n",
       "      <td>-3.0</td>\n",
       "      <td>3.0</td>\n",
       "      <td>DE</td>\n",
       "      <td>m</td>\n",
       "      <td>1.0</td>\n",
       "      <td>ledig</td>\n",
       "      <td>bei den Eltern</td>\n",
       "      <td>2012-02-03 00:00:00</td>\n",
       "      <td>NaN</td>\n",
       "      <td>9630d5d23e65cdd4ecf28357798e4da5</td>\n",
       "    </tr>\n",
       "    <tr>\n",
       "      <th>146290</th>\n",
       "      <td>359656440</td>\n",
       "      <td>Möbel / Renovierung / Umzug</td>\n",
       "      <td>2017-05-31 15:02:46</td>\n",
       "      <td>-3.0</td>\n",
       "      <td>3.0</td>\n",
       "      <td>DE</td>\n",
       "      <td>f</td>\n",
       "      <td>10.0</td>\n",
       "      <td>ledig</td>\n",
       "      <td>im Eigentum</td>\n",
       "      <td>1980-11-02 00:00:00</td>\n",
       "      <td>NaN</td>\n",
       "      <td>9630d5d23e65cdd4ecf28357798e4da5</td>\n",
       "    </tr>\n",
       "    <tr>\n",
       "      <th>146810</th>\n",
       "      <td>359829030</td>\n",
       "      <td>Ausgleich Girokonto / Dispo</td>\n",
       "      <td>2017-06-01 00:02:28</td>\n",
       "      <td>-3.0</td>\n",
       "      <td>3.0</td>\n",
       "      <td>DE</td>\n",
       "      <td>m</td>\n",
       "      <td>1.0</td>\n",
       "      <td>ledig</td>\n",
       "      <td>zur Miete</td>\n",
       "      <td>2016-04-04 00:00:00</td>\n",
       "      <td>NaN</td>\n",
       "      <td>9630d5d23e65cdd4ecf28357798e4da5</td>\n",
       "    </tr>\n",
       "  </tbody>\n",
       "</table>\n",
       "<p>758 rows × 13 columns</p>\n",
       "</div>"
      ],
      "text/plain": [
       "          user_id             Verwendungszweck  Registrierungsdatum  \\\n",
       "51      310439250                   Autokredit  2017-01-01 11:56:04   \n",
       "58      310440570             Existenzgründung  2017-01-01 12:07:08   \n",
       "462     310559040  Ausgleich Girokonto / Dispo  2017-01-02 09:55:44   \n",
       "595     310665300                   Autokredit  2017-01-02 12:17:53   \n",
       "603     310668270                    sonstiges  2017-01-02 12:22:58   \n",
       "...           ...                          ...                  ...   \n",
       "144508  359017230                    sonstiges  2017-05-29 17:31:55   \n",
       "145217  359277435  Ausgleich Girokonto / Dispo  2017-05-30 13:51:30   \n",
       "145777  359466030                    sonstiges  2017-05-30 23:20:52   \n",
       "146290  359656440  Möbel / Renovierung / Umzug  2017-05-31 15:02:46   \n",
       "146810  359829030  Ausgleich Girokonto / Dispo  2017-06-01 00:02:28   \n",
       "\n",
       "        Jahr_Geburt  Monat_Geburt Staatsangehörigkeit Geschlecht  \\\n",
       "51             -3.0           3.0                  DE          f   \n",
       "58             -3.0           3.0                  DE          f   \n",
       "462            -3.0           3.0                  DE          f   \n",
       "595            -3.0           3.0                  DE          f   \n",
       "603            -3.0           3.0                  DE          f   \n",
       "...             ...           ...                 ...        ...   \n",
       "144508         -3.0           3.0                  DE          m   \n",
       "145217         -3.0           3.0                  DE          m   \n",
       "145777         -3.0           3.0                  DE          m   \n",
       "146290         -3.0           3.0                  DE          f   \n",
       "146810         -3.0           3.0                  DE          m   \n",
       "\n",
       "        angefragtes_Kreditvolumen                             Familienstand  \\\n",
       "51                            5.0  verheiratet / eingetragene Partnerschaft   \n",
       "58                            7.5                                     ledig   \n",
       "462                           5.5                                     ledig   \n",
       "595                          20.0  verheiratet / eingetragene Partnerschaft   \n",
       "603                           6.0                                     ledig   \n",
       "...                           ...                                       ...   \n",
       "144508                       10.0  verheiratet / eingetragene Partnerschaft   \n",
       "145217                        7.5                                geschieden   \n",
       "145777                        1.0                                     ledig   \n",
       "146290                       10.0                                     ledig   \n",
       "146810                        1.0                                     ledig   \n",
       "\n",
       "         Wohnsituation   dort_wohnhaft_seit Bundesland  \\\n",
       "51           zur Miete  2014-03-05 00:00:00        NaN   \n",
       "58      bei den Eltern  2012-11-02 00:00:00        NaN   \n",
       "462        im Eigentum  1992-12-03 00:00:00        NaN   \n",
       "595        im Eigentum  1998-07-05 00:00:00        NaN   \n",
       "603          zur Miete  2016-06-04 00:00:00        NaN   \n",
       "...                ...                  ...        ...   \n",
       "144508     im Eigentum  2000-06-04 00:00:00        NaN   \n",
       "145217       zur Miete  2013-03-05 00:00:00        NaN   \n",
       "145777  bei den Eltern  2012-02-03 00:00:00        NaN   \n",
       "146290     im Eigentum  1980-11-02 00:00:00        NaN   \n",
       "146810       zur Miete  2016-04-04 00:00:00        NaN   \n",
       "\n",
       "                    email_domain_encoded  \n",
       "51      9630d5d23e65cdd4ecf28357798e4da5  \n",
       "58      9630d5d23e65cdd4ecf28357798e4da5  \n",
       "462     9630d5d23e65cdd4ecf28357798e4da5  \n",
       "595     9630d5d23e65cdd4ecf28357798e4da5  \n",
       "603     9630d5d23e65cdd4ecf28357798e4da5  \n",
       "...                                  ...  \n",
       "144508  9630d5d23e65cdd4ecf28357798e4da5  \n",
       "145217  9630d5d23e65cdd4ecf28357798e4da5  \n",
       "145777  9630d5d23e65cdd4ecf28357798e4da5  \n",
       "146290  9630d5d23e65cdd4ecf28357798e4da5  \n",
       "146810  9630d5d23e65cdd4ecf28357798e4da5  \n",
       "\n",
       "[758 rows x 13 columns]"
      ]
     },
     "execution_count": 125,
     "metadata": {},
     "output_type": "execute_result"
    }
   ],
   "source": [
    "df_re[df_re['Jahr_Geburt'] == -3.0]"
   ]
  },
  {
   "cell_type": "code",
   "execution_count": 126,
   "id": "8598f3c7",
   "metadata": {},
   "outputs": [
    {
     "data": {
      "text/html": [
       "<div>\n",
       "<style scoped>\n",
       "    .dataframe tbody tr th:only-of-type {\n",
       "        vertical-align: middle;\n",
       "    }\n",
       "\n",
       "    .dataframe tbody tr th {\n",
       "        vertical-align: top;\n",
       "    }\n",
       "\n",
       "    .dataframe thead th {\n",
       "        text-align: right;\n",
       "    }\n",
       "</style>\n",
       "<table border=\"1\" class=\"dataframe\">\n",
       "  <thead>\n",
       "    <tr style=\"text-align: right;\">\n",
       "      <th></th>\n",
       "      <th>user_id</th>\n",
       "      <th>Verwendungszweck</th>\n",
       "      <th>Registrierungsdatum</th>\n",
       "      <th>Jahr_Geburt</th>\n",
       "      <th>Monat_Geburt</th>\n",
       "      <th>Staatsangehörigkeit</th>\n",
       "      <th>Geschlecht</th>\n",
       "      <th>angefragtes_Kreditvolumen</th>\n",
       "      <th>Familienstand</th>\n",
       "      <th>Wohnsituation</th>\n",
       "      <th>dort_wohnhaft_seit</th>\n",
       "      <th>Bundesland</th>\n",
       "      <th>email_domain_encoded</th>\n",
       "    </tr>\n",
       "  </thead>\n",
       "  <tbody>\n",
       "    <tr>\n",
       "      <th>123105</th>\n",
       "      <td>351931305</td>\n",
       "      <td>Existenzgründung</td>\n",
       "      <td>2017-05-04 21:52:12</td>\n",
       "      <td>2014.0</td>\n",
       "      <td>8.0</td>\n",
       "      <td>DE</td>\n",
       "      <td>f</td>\n",
       "      <td>20.0</td>\n",
       "      <td>ledig</td>\n",
       "      <td>zur Miete</td>\n",
       "      <td>2015-12-04 00:00:00</td>\n",
       "      <td>Nordrhein-Westfalen</td>\n",
       "      <td>d11f81fa8f2fe87afa697002ff2302ee</td>\n",
       "    </tr>\n",
       "  </tbody>\n",
       "</table>\n",
       "</div>"
      ],
      "text/plain": [
       "          user_id  Verwendungszweck  Registrierungsdatum  Jahr_Geburt  \\\n",
       "123105  351931305  Existenzgründung  2017-05-04 21:52:12       2014.0   \n",
       "\n",
       "        Monat_Geburt Staatsangehörigkeit Geschlecht  \\\n",
       "123105           8.0                  DE          f   \n",
       "\n",
       "        angefragtes_Kreditvolumen Familienstand Wohnsituation  \\\n",
       "123105                       20.0         ledig     zur Miete   \n",
       "\n",
       "         dort_wohnhaft_seit           Bundesland  \\\n",
       "123105  2015-12-04 00:00:00  Nordrhein-Westfalen   \n",
       "\n",
       "                    email_domain_encoded  \n",
       "123105  d11f81fa8f2fe87afa697002ff2302ee  "
      ]
     },
     "execution_count": 126,
     "metadata": {},
     "output_type": "execute_result"
    }
   ],
   "source": [
    "df_re[(df_re['Jahr_Geburt'] >= 2013)]"
   ]
  },
  {
   "cell_type": "markdown",
   "id": "9a129375",
   "metadata": {},
   "source": [
    "* After checking the unique values of column `Alter`, i saw some unsuall.\n",
    "* Checking again the raw dataset `borrowed_registrations`, i find that there is a systematic problem in the column `Jahr_Geburt`. Because there is 758 user_id with `Jahr_Geburt` value = -3\n",
    "* There is also one user, who is less than 18 year old. I don't know whether the service of company allows users under 18 years old or not.\n",
    "\n",
    "--> **So I considere these data as outlier and try to fix it as well as missing values**\n"
   ]
  },
  {
   "cell_type": "code",
   "execution_count": 127,
   "id": "a514dcd1",
   "metadata": {},
   "outputs": [
    {
     "data": {
      "text/html": [
       "<div>\n",
       "<style scoped>\n",
       "    .dataframe tbody tr th:only-of-type {\n",
       "        vertical-align: middle;\n",
       "    }\n",
       "\n",
       "    .dataframe tbody tr th {\n",
       "        vertical-align: top;\n",
       "    }\n",
       "\n",
       "    .dataframe thead th {\n",
       "        text-align: right;\n",
       "    }\n",
       "</style>\n",
       "<table border=\"1\" class=\"dataframe\">\n",
       "  <thead>\n",
       "    <tr style=\"text-align: right;\">\n",
       "      <th></th>\n",
       "      <th>Alter</th>\n",
       "      <th>user_id</th>\n",
       "    </tr>\n",
       "  </thead>\n",
       "  <tbody>\n",
       "    <tr>\n",
       "      <th>0</th>\n",
       "      <td>2026</td>\n",
       "      <td>758</td>\n",
       "    </tr>\n",
       "    <tr>\n",
       "      <th>1</th>\n",
       "      <td>83</td>\n",
       "      <td>1</td>\n",
       "    </tr>\n",
       "    <tr>\n",
       "      <th>2</th>\n",
       "      <td>80</td>\n",
       "      <td>2</td>\n",
       "    </tr>\n",
       "    <tr>\n",
       "      <th>3</th>\n",
       "      <td>79</td>\n",
       "      <td>301</td>\n",
       "    </tr>\n",
       "    <tr>\n",
       "      <th>4</th>\n",
       "      <td>78</td>\n",
       "      <td>467</td>\n",
       "    </tr>\n",
       "  </tbody>\n",
       "</table>\n",
       "</div>"
      ],
      "text/plain": [
       "   Alter  user_id\n",
       "0   2026      758\n",
       "1     83        1\n",
       "2     80        2\n",
       "3     79      301\n",
       "4     78      467"
      ]
     },
     "execution_count": 127,
     "metadata": {},
     "output_type": "execute_result"
    }
   ],
   "source": [
    "# Firstly, analyzing distribution of user according to Age\n",
    "us_alt = df.groupby(['Alter']).agg({'user_id': 'count'}).sort_values(by='Alter', ascending=False).reset_index()\n",
    "us_alt.head(5)"
   ]
  },
  {
   "cell_type": "code",
   "execution_count": 128,
   "id": "e43f6a79",
   "metadata": {},
   "outputs": [
    {
     "name": "stderr",
     "output_type": "stream",
     "text": [
      "C:\\Users\\dream\\anaconda3\\lib\\site-packages\\seaborn\\distributions.py:2557: FutureWarning: `distplot` is a deprecated function and will be removed in a future version. Please adapt your code to use either `displot` (a figure-level function with similar flexibility) or `histplot` (an axes-level function for histograms).\n",
      "  warnings.warn(msg, FutureWarning)\n"
     ]
    },
    {
     "data": {
      "image/png": "[encoded data removed]",
      "text/plain": [
       "<Figure size 720x432 with 2 Axes>"
      ]
     },
     "metadata": {},
     "output_type": "display_data"
    }
   ],
   "source": [
    "plt.figure(figsize=(10, 6))\n",
    "plt.subplot(1,2,1)\n",
    "sns.distplot(x=us_alt['Alter'])\n",
    "plt.title('Distribution plot of users according to alters')\n",
    "\n",
    "plt.subplot(1,2,2)\n",
    "sns.histplot(data=us_alt, x='Alter', fill=False)\n",
    "plt.xlim(10, 100)\n",
    "plt.title(\"Histogramm of Alters of users (in which outliers are ignored)\")\n",
    "plt.subplots_adjust(wspace=1, hspace=1);"
   ]
  },
  {
   "cell_type": "markdown",
   "id": "f11756f6",
   "metadata": {},
   "source": [
    "* So I will replace outliers and missing values with Median"
   ]
  },
  {
   "cell_type": "code",
   "execution_count": 129,
   "id": "06d0d015",
   "metadata": {},
   "outputs": [],
   "source": [
    "median_alter = df['Alter'].median()\n",
    "df['Alter'] = df['Alter'].fillna(median_alter)\n",
    "df['Alter'] = df['Alter'].replace([9, 2026], median_alter)"
   ]
  },
  {
   "cell_type": "code",
   "execution_count": 130,
   "id": "cd9b4cfd",
   "metadata": {},
   "outputs": [
    {
     "data": {
      "image/png": "[encoded data removed]",
      "text/plain": [
       "<Figure size 432x288 with 1 Axes>"
      ]
     },
     "metadata": {},
     "output_type": "display_data"
    }
   ],
   "source": [
    "# Check again the distribution of user according to alter after handling outliers and missing values\n",
    "us_al = df.groupby(['Alter']).agg({'user_id': 'count'}).sort_values(by='Alter', ascending=False).reset_index()\n",
    "sns.histplot(data=us_al, x='Alter', fill=False)\n",
    "plt.title(\"Histogramm of Alters of users (after handling outliers and missing values)\")\n",
    "plt.show()"
   ]
  },
  {
   "cell_type": "markdown",
   "id": "3a6fb46d",
   "metadata": {},
   "source": [
    "##### 3.3.b column angefragtes_Kreditvolumen"
   ]
  },
  {
   "cell_type": "code",
   "execution_count": 131,
   "id": "78b83020",
   "metadata": {},
   "outputs": [
    {
     "data": {
      "text/html": [
       "<div>\n",
       "<style scoped>\n",
       "    .dataframe tbody tr th:only-of-type {\n",
       "        vertical-align: middle;\n",
       "    }\n",
       "\n",
       "    .dataframe tbody tr th {\n",
       "        vertical-align: top;\n",
       "    }\n",
       "\n",
       "    .dataframe thead th {\n",
       "        text-align: right;\n",
       "    }\n",
       "</style>\n",
       "<table border=\"1\" class=\"dataframe\">\n",
       "  <thead>\n",
       "    <tr style=\"text-align: right;\">\n",
       "      <th></th>\n",
       "      <th>angefragtes_Kreditvolumen</th>\n",
       "      <th>user_id</th>\n",
       "    </tr>\n",
       "  </thead>\n",
       "  <tbody>\n",
       "    <tr>\n",
       "      <th>0</th>\n",
       "      <td>1.0</td>\n",
       "      <td>15984</td>\n",
       "    </tr>\n",
       "    <tr>\n",
       "      <th>1</th>\n",
       "      <td>1.1</td>\n",
       "      <td>315</td>\n",
       "    </tr>\n",
       "    <tr>\n",
       "      <th>2</th>\n",
       "      <td>1.2</td>\n",
       "      <td>972</td>\n",
       "    </tr>\n",
       "    <tr>\n",
       "      <th>3</th>\n",
       "      <td>1.3</td>\n",
       "      <td>445</td>\n",
       "    </tr>\n",
       "    <tr>\n",
       "      <th>4</th>\n",
       "      <td>1.4</td>\n",
       "      <td>206</td>\n",
       "    </tr>\n",
       "  </tbody>\n",
       "</table>\n",
       "</div>"
      ],
      "text/plain": [
       "   angefragtes_Kreditvolumen  user_id\n",
       "0                        1.0    15984\n",
       "1                        1.1      315\n",
       "2                        1.2      972\n",
       "3                        1.3      445\n",
       "4                        1.4      206"
      ]
     },
     "execution_count": 131,
     "metadata": {},
     "output_type": "execute_result"
    }
   ],
   "source": [
    "us_kred = df.groupby('angefragtes_Kreditvolumen')['user_id'].count().reset_index()\n",
    "us_kred.head(5)"
   ]
  },
  {
   "cell_type": "code",
   "execution_count": 132,
   "id": "7449db61",
   "metadata": {},
   "outputs": [
    {
     "name": "stderr",
     "output_type": "stream",
     "text": [
      "C:\\Users\\dream\\anaconda3\\lib\\site-packages\\seaborn\\distributions.py:2557: FutureWarning: `distplot` is a deprecated function and will be removed in a future version. Please adapt your code to use either `displot` (a figure-level function with similar flexibility) or `histplot` (an axes-level function for histograms).\n",
      "  warnings.warn(msg, FutureWarning)\n"
     ]
    },
    {
     "data": {
      "image/png": "[encoded data removed]",
      "text/plain": [
       "<Figure size 576x432 with 1 Axes>"
      ]
     },
     "metadata": {},
     "output_type": "display_data"
    }
   ],
   "source": [
    "plt.subplots(figsize=(8, 6))\n",
    "sns.set_style('whitegrid')\n",
    "sns.distplot(us_kred['angefragtes_Kreditvolumen'], color='y')\n",
    "#sns.kdeplot(data=us_kred['angefragtes_Kreditvolumen'])\n",
    "plt.title('Distribution of user according to angefragtes_Kreditvolumen');"
   ]
  },
  {
   "cell_type": "code",
   "execution_count": 133,
   "id": "6bdcb8b1",
   "metadata": {},
   "outputs": [],
   "source": [
    "# Missing values in the column angefragtes_Kreditvolumen are replaced with the mean value of that column\n",
    "df['angefragtes_Kreditvolumen'] = df['angefragtes_Kreditvolumen'].fillna(df['angefragtes_Kreditvolumen'].mean())"
   ]
  },
  {
   "cell_type": "code",
   "execution_count": 134,
   "id": "0ac0ee4e",
   "metadata": {},
   "outputs": [
    {
     "name": "stdout",
     "output_type": "stream",
     "text": [
      "<class 'pandas.core.frame.DataFrame'>\n",
      "Int64Index: 146829 entries, 0 to 146828\n",
      "Data columns (total 11 columns):\n",
      " #   Column                     Non-Null Count   Dtype  \n",
      "---  ------                     --------------   -----  \n",
      " 0   user_id                    146829 non-null  int64  \n",
      " 1   Verwendungszweck           146829 non-null  object \n",
      " 2   Registrierungsdatum        146829 non-null  object \n",
      " 3   Geschlecht                 146829 non-null  object \n",
      " 4   angefragtes_Kreditvolumen  146829 non-null  float64\n",
      " 5   Familienstand              146829 non-null  object \n",
      " 6   Wohnsituation              146829 non-null  object \n",
      " 7   dort_wohnhaft_seit         146742 non-null  object \n",
      " 8   Bundesland                 146829 non-null  object \n",
      " 9   Alter                      146829 non-null  float64\n",
      " 10  num_miss_fields            146829 non-null  int64  \n",
      "dtypes: float64(2), int64(2), object(7)\n",
      "memory usage: 13.4+ MB\n"
     ]
    }
   ],
   "source": [
    "df.info()"
   ]
  },
  {
   "cell_type": "markdown",
   "id": "d889624b",
   "metadata": {},
   "source": [
    "#### 3.4. Handling data type datetime\n",
    "* a. Column `dort_wohnhaft_seit` has missing values and it should be analyzed further to know whether it is an important feature or not:\n",
    "\n",
    "    * extract year in `dort_wohnhaft_seit` and then calculate the number of years up till now \n",
    "    \n",
    "* b. Column `Registrierungsdatum`, in my opinion it is not really important for training model. So I'll drop it"
   ]
  },
  {
   "cell_type": "code",
   "execution_count": 135,
   "id": "d97a49e4",
   "metadata": {},
   "outputs": [],
   "source": [
    "# extract year in dort_wohnhaft_seit and then calculate the number of years up till now. year in apply() is the current year\n",
    "df['anzahl_Wohnjahre'] = pd.to_datetime(df['dort_wohnhaft_seit']).dt.year.astype('Int64').apply(lambda x: year - x)"
   ]
  },
  {
   "cell_type": "code",
   "execution_count": 136,
   "id": "7a19419d",
   "metadata": {},
   "outputs": [
    {
     "data": {
      "text/plain": [
       "array([7, 9, 26, 11, 10, 8, 12, 36, 16, 54, 20, 33, 24, 21, 17, 15, 13,\n",
       "       38, 14, 32, 23, 30, 34, 22, 31, 19, 44, 53, 25, 6, 28, 42, 27, 56,\n",
       "       35, 18, 29, 60, 48, 65, 50, 61, 71, 46, 51, 43, <NA>, 40, 39, 37,\n",
       "       58, 41, 55, 45, 67, 47, 113, 62, 49, 66, 69, 57, 52, 106, 63, 116,\n",
       "       59, 108, 72, 123, 68, 73, 64, 75, 107, 79, 110, 109, 74, 70, 76,\n",
       "       81, 111, 112, 82, 104, 92, 117, 135, 78, 121, 102, 124, 77, 128,\n",
       "       84, 125, 138, 126, 119, 105], dtype=object)"
      ]
     },
     "execution_count": 136,
     "metadata": {},
     "output_type": "execute_result"
    }
   ],
   "source": [
    "df['anzahl_Wohnjahre'].unique()"
   ]
  },
  {
   "cell_type": "code",
   "execution_count": 137,
   "id": "436add13",
   "metadata": {},
   "outputs": [
    {
     "data": {
      "text/html": [
       "<div>\n",
       "<style scoped>\n",
       "    .dataframe tbody tr th:only-of-type {\n",
       "        vertical-align: middle;\n",
       "    }\n",
       "\n",
       "    .dataframe tbody tr th {\n",
       "        vertical-align: top;\n",
       "    }\n",
       "\n",
       "    .dataframe thead th {\n",
       "        text-align: right;\n",
       "    }\n",
       "</style>\n",
       "<table border=\"1\" class=\"dataframe\">\n",
       "  <thead>\n",
       "    <tr style=\"text-align: right;\">\n",
       "      <th></th>\n",
       "      <th>anzahl_Wohnjahre</th>\n",
       "      <th>user_id</th>\n",
       "    </tr>\n",
       "  </thead>\n",
       "  <tbody>\n",
       "    <tr>\n",
       "      <th>0</th>\n",
       "      <td>6</td>\n",
       "      <td>185</td>\n",
       "    </tr>\n",
       "    <tr>\n",
       "      <th>1</th>\n",
       "      <td>7</td>\n",
       "      <td>25841</td>\n",
       "    </tr>\n",
       "    <tr>\n",
       "      <th>2</th>\n",
       "      <td>8</td>\n",
       "      <td>24158</td>\n",
       "    </tr>\n",
       "    <tr>\n",
       "      <th>3</th>\n",
       "      <td>9</td>\n",
       "      <td>16306</td>\n",
       "    </tr>\n",
       "    <tr>\n",
       "      <th>4</th>\n",
       "      <td>10</td>\n",
       "      <td>12201</td>\n",
       "    </tr>\n",
       "  </tbody>\n",
       "</table>\n",
       "</div>"
      ],
      "text/plain": [
       "   anzahl_Wohnjahre  user_id\n",
       "0                 6      185\n",
       "1                 7    25841\n",
       "2                 8    24158\n",
       "3                 9    16306\n",
       "4                10    12201"
      ]
     },
     "execution_count": 137,
     "metadata": {},
     "output_type": "execute_result"
    }
   ],
   "source": [
    "us_wohnjahre = df.groupby('anzahl_Wohnjahre')['user_id'].count().reset_index()\n",
    "us_wohnjahre.head(5)"
   ]
  },
  {
   "cell_type": "code",
   "execution_count": 138,
   "id": "3bf79eda",
   "metadata": {},
   "outputs": [
    {
     "name": "stderr",
     "output_type": "stream",
     "text": [
      "C:\\Users\\dream\\anaconda3\\lib\\site-packages\\seaborn\\distributions.py:2557: FutureWarning: `distplot` is a deprecated function and will be removed in a future version. Please adapt your code to use either `displot` (a figure-level function with similar flexibility) or `histplot` (an axes-level function for histograms).\n",
      "  warnings.warn(msg, FutureWarning)\n"
     ]
    },
    {
     "data": {
      "image/png": "[encoded data removed]",
      "text/plain": [
       "<Figure size 576x432 with 1 Axes>"
      ]
     },
     "metadata": {},
     "output_type": "display_data"
    }
   ],
   "source": [
    "plt.subplots(figsize=(8, 6))\n",
    "sns.set_style('whitegrid')\n",
    "sns.distplot(us_wohnjahre['anzahl_Wohnjahre'], color='green')\n",
    "#sns.kdeplot(data=us_kred['angefragtes_Kreditvolumen'])\n",
    "plt.title('Distribution of user according to anzahl_Wohnjahre');"
   ]
  },
  {
   "cell_type": "markdown",
   "id": "3f7cf643",
   "metadata": {},
   "source": [
    "According to this plot, i consider to fill missing data of column `anzahl_Wohnjahre` mit Median of the column"
   ]
  },
  {
   "cell_type": "code",
   "execution_count": 139,
   "id": "2ce5ea6d",
   "metadata": {},
   "outputs": [],
   "source": [
    "median_wohnjahre = df['anzahl_Wohnjahre'].median()\n",
    "df['anzahl_Wohnjahre'] = df['anzahl_Wohnjahre'].fillna(median_wohnjahre)"
   ]
  },
  {
   "cell_type": "code",
   "execution_count": 140,
   "id": "6a6b19c2",
   "metadata": {},
   "outputs": [
    {
     "name": "stderr",
     "output_type": "stream",
     "text": [
      "C:\\Users\\dream\\anaconda3\\lib\\site-packages\\seaborn\\distributions.py:2557: FutureWarning: `distplot` is a deprecated function and will be removed in a future version. Please adapt your code to use either `displot` (a figure-level function with similar flexibility) or `histplot` (an axes-level function for histograms).\n",
      "  warnings.warn(msg, FutureWarning)\n"
     ]
    },
    {
     "data": {
      "image/png": "[encoded data removed]",
      "text/plain": [
       "<Figure size 576x432 with 1 Axes>"
      ]
     },
     "metadata": {},
     "output_type": "display_data"
    }
   ],
   "source": [
    "# plot again the data of column anzahl_Wohnjahre after replacing missing values\n",
    "us_wohn = df.groupby('anzahl_Wohnjahre')['user_id'].count().reset_index()\n",
    "\n",
    "plt.subplots(figsize=(8, 6))\n",
    "sns.set_style('whitegrid')\n",
    "sns.distplot(us_wohn['anzahl_Wohnjahre'], color='pink')\n",
    "#sns.kdeplot(data=us_kred['angefragtes_Kreditvolumen'])\n",
    "plt.title('Distribution of user according to anzahl_Wohnjahre after replacing missing values with Median');"
   ]
  },
  {
   "cell_type": "code",
   "execution_count": 141,
   "id": "09a9d96c",
   "metadata": {},
   "outputs": [
    {
     "data": {
      "text/html": [
       "<div>\n",
       "<style scoped>\n",
       "    .dataframe tbody tr th:only-of-type {\n",
       "        vertical-align: middle;\n",
       "    }\n",
       "\n",
       "    .dataframe tbody tr th {\n",
       "        vertical-align: top;\n",
       "    }\n",
       "\n",
       "    .dataframe thead th {\n",
       "        text-align: right;\n",
       "    }\n",
       "</style>\n",
       "<table border=\"1\" class=\"dataframe\">\n",
       "  <thead>\n",
       "    <tr style=\"text-align: right;\">\n",
       "      <th></th>\n",
       "      <th>user_id</th>\n",
       "      <th>Verwendungszweck</th>\n",
       "      <th>Registrierungsdatum</th>\n",
       "      <th>Geschlecht</th>\n",
       "      <th>angefragtes_Kreditvolumen</th>\n",
       "      <th>Familienstand</th>\n",
       "      <th>Wohnsituation</th>\n",
       "      <th>dort_wohnhaft_seit</th>\n",
       "      <th>Bundesland</th>\n",
       "      <th>Alter</th>\n",
       "      <th>num_miss_fields</th>\n",
       "      <th>anzahl_Wohnjahre</th>\n",
       "    </tr>\n",
       "  </thead>\n",
       "  <tbody>\n",
       "    <tr>\n",
       "      <th>0</th>\n",
       "      <td>310426050</td>\n",
       "      <td>Existenzgründung</td>\n",
       "      <td>2017-01-01</td>\n",
       "      <td>f</td>\n",
       "      <td>10.0</td>\n",
       "      <td>ledig</td>\n",
       "      <td>zur Miete</td>\n",
       "      <td>2016-07-05</td>\n",
       "      <td>Bayern</td>\n",
       "      <td>48.0</td>\n",
       "      <td>0</td>\n",
       "      <td>7.0</td>\n",
       "    </tr>\n",
       "    <tr>\n",
       "      <th>1</th>\n",
       "      <td>310426380</td>\n",
       "      <td>Möbel / Renovierung / Umzug</td>\n",
       "      <td>2017-01-01</td>\n",
       "      <td>f</td>\n",
       "      <td>25.0</td>\n",
       "      <td>ledig</td>\n",
       "      <td>zur Miete</td>\n",
       "      <td>2014-02-02</td>\n",
       "      <td>Hessen</td>\n",
       "      <td>38.0</td>\n",
       "      <td>0</td>\n",
       "      <td>9.0</td>\n",
       "    </tr>\n",
       "    <tr>\n",
       "      <th>2</th>\n",
       "      <td>310426710</td>\n",
       "      <td>Möbel / Renovierung / Umzug</td>\n",
       "      <td>2017-01-01</td>\n",
       "      <td>m</td>\n",
       "      <td>5.0</td>\n",
       "      <td>getrennt lebend</td>\n",
       "      <td>zur Miete</td>\n",
       "      <td>2014-04-04</td>\n",
       "      <td>Hessen</td>\n",
       "      <td>64.0</td>\n",
       "      <td>0</td>\n",
       "      <td>9.0</td>\n",
       "    </tr>\n",
       "    <tr>\n",
       "      <th>3</th>\n",
       "      <td>310426875</td>\n",
       "      <td>Autokredit</td>\n",
       "      <td>2017-01-01</td>\n",
       "      <td>m</td>\n",
       "      <td>6.5</td>\n",
       "      <td>ledig</td>\n",
       "      <td>bei den Eltern</td>\n",
       "      <td>1997-03-05</td>\n",
       "      <td>Schlewig-Holstein</td>\n",
       "      <td>29.0</td>\n",
       "      <td>0</td>\n",
       "      <td>26.0</td>\n",
       "    </tr>\n",
       "    <tr>\n",
       "      <th>4</th>\n",
       "      <td>310427040</td>\n",
       "      <td>Möbel / Renovierung / Umzug</td>\n",
       "      <td>2017-01-01</td>\n",
       "      <td>f</td>\n",
       "      <td>6.5</td>\n",
       "      <td>ledig</td>\n",
       "      <td>bei den Eltern</td>\n",
       "      <td>2014-10-03</td>\n",
       "      <td>Baden-Württemberg</td>\n",
       "      <td>42.0</td>\n",
       "      <td>0</td>\n",
       "      <td>9.0</td>\n",
       "    </tr>\n",
       "  </tbody>\n",
       "</table>\n",
       "</div>"
      ],
      "text/plain": [
       "     user_id             Verwendungszweck Registrierungsdatum Geschlecht  \\\n",
       "0  310426050             Existenzgründung          2017-01-01          f   \n",
       "1  310426380  Möbel / Renovierung / Umzug          2017-01-01          f   \n",
       "2  310426710  Möbel / Renovierung / Umzug          2017-01-01          m   \n",
       "3  310426875                   Autokredit          2017-01-01          m   \n",
       "4  310427040  Möbel / Renovierung / Umzug          2017-01-01          f   \n",
       "\n",
       "   angefragtes_Kreditvolumen    Familienstand   Wohnsituation  \\\n",
       "0                       10.0            ledig       zur Miete   \n",
       "1                       25.0            ledig       zur Miete   \n",
       "2                        5.0  getrennt lebend       zur Miete   \n",
       "3                        6.5            ledig  bei den Eltern   \n",
       "4                        6.5            ledig  bei den Eltern   \n",
       "\n",
       "  dort_wohnhaft_seit         Bundesland  Alter  num_miss_fields  \\\n",
       "0         2016-07-05             Bayern   48.0                0   \n",
       "1         2014-02-02             Hessen   38.0                0   \n",
       "2         2014-04-04             Hessen   64.0                0   \n",
       "3         1997-03-05  Schlewig-Holstein   29.0                0   \n",
       "4         2014-10-03  Baden-Württemberg   42.0                0   \n",
       "\n",
       "   anzahl_Wohnjahre  \n",
       "0               7.0  \n",
       "1               9.0  \n",
       "2               9.0  \n",
       "3              26.0  \n",
       "4               9.0  "
      ]
     },
     "execution_count": 141,
     "metadata": {},
     "output_type": "execute_result"
    }
   ],
   "source": [
    "df.head(5)"
   ]
  },
  {
   "cell_type": "code",
   "execution_count": 142,
   "id": "7a01b4b2",
   "metadata": {},
   "outputs": [
    {
     "data": {
      "text/html": [
       "<div>\n",
       "<style scoped>\n",
       "    .dataframe tbody tr th:only-of-type {\n",
       "        vertical-align: middle;\n",
       "    }\n",
       "\n",
       "    .dataframe tbody tr th {\n",
       "        vertical-align: top;\n",
       "    }\n",
       "\n",
       "    .dataframe thead th {\n",
       "        text-align: right;\n",
       "    }\n",
       "</style>\n",
       "<table border=\"1\" class=\"dataframe\">\n",
       "  <thead>\n",
       "    <tr style=\"text-align: right;\">\n",
       "      <th></th>\n",
       "      <th>user_id</th>\n",
       "      <th>Verwendungszweck</th>\n",
       "      <th>Geschlecht</th>\n",
       "      <th>angefragtes_Kreditvolumen</th>\n",
       "      <th>Familienstand</th>\n",
       "      <th>Wohnsituation</th>\n",
       "      <th>Bundesland</th>\n",
       "      <th>Alter</th>\n",
       "      <th>num_miss_fields</th>\n",
       "      <th>anzahl_Wohnjahre</th>\n",
       "    </tr>\n",
       "  </thead>\n",
       "  <tbody>\n",
       "    <tr>\n",
       "      <th>0</th>\n",
       "      <td>310426050</td>\n",
       "      <td>Existenzgründung</td>\n",
       "      <td>f</td>\n",
       "      <td>10.0</td>\n",
       "      <td>ledig</td>\n",
       "      <td>zur Miete</td>\n",
       "      <td>Bayern</td>\n",
       "      <td>48.0</td>\n",
       "      <td>0</td>\n",
       "      <td>7.0</td>\n",
       "    </tr>\n",
       "    <tr>\n",
       "      <th>1</th>\n",
       "      <td>310426380</td>\n",
       "      <td>Möbel / Renovierung / Umzug</td>\n",
       "      <td>f</td>\n",
       "      <td>25.0</td>\n",
       "      <td>ledig</td>\n",
       "      <td>zur Miete</td>\n",
       "      <td>Hessen</td>\n",
       "      <td>38.0</td>\n",
       "      <td>0</td>\n",
       "      <td>9.0</td>\n",
       "    </tr>\n",
       "    <tr>\n",
       "      <th>2</th>\n",
       "      <td>310426710</td>\n",
       "      <td>Möbel / Renovierung / Umzug</td>\n",
       "      <td>m</td>\n",
       "      <td>5.0</td>\n",
       "      <td>getrennt lebend</td>\n",
       "      <td>zur Miete</td>\n",
       "      <td>Hessen</td>\n",
       "      <td>64.0</td>\n",
       "      <td>0</td>\n",
       "      <td>9.0</td>\n",
       "    </tr>\n",
       "    <tr>\n",
       "      <th>3</th>\n",
       "      <td>310426875</td>\n",
       "      <td>Autokredit</td>\n",
       "      <td>m</td>\n",
       "      <td>6.5</td>\n",
       "      <td>ledig</td>\n",
       "      <td>bei den Eltern</td>\n",
       "      <td>Schlewig-Holstein</td>\n",
       "      <td>29.0</td>\n",
       "      <td>0</td>\n",
       "      <td>26.0</td>\n",
       "    </tr>\n",
       "    <tr>\n",
       "      <th>4</th>\n",
       "      <td>310427040</td>\n",
       "      <td>Möbel / Renovierung / Umzug</td>\n",
       "      <td>f</td>\n",
       "      <td>6.5</td>\n",
       "      <td>ledig</td>\n",
       "      <td>bei den Eltern</td>\n",
       "      <td>Baden-Württemberg</td>\n",
       "      <td>42.0</td>\n",
       "      <td>0</td>\n",
       "      <td>9.0</td>\n",
       "    </tr>\n",
       "  </tbody>\n",
       "</table>\n",
       "</div>"
      ],
      "text/plain": [
       "     user_id             Verwendungszweck Geschlecht  \\\n",
       "0  310426050             Existenzgründung          f   \n",
       "1  310426380  Möbel / Renovierung / Umzug          f   \n",
       "2  310426710  Möbel / Renovierung / Umzug          m   \n",
       "3  310426875                   Autokredit          m   \n",
       "4  310427040  Möbel / Renovierung / Umzug          f   \n",
       "\n",
       "   angefragtes_Kreditvolumen    Familienstand   Wohnsituation  \\\n",
       "0                       10.0            ledig       zur Miete   \n",
       "1                       25.0            ledig       zur Miete   \n",
       "2                        5.0  getrennt lebend       zur Miete   \n",
       "3                        6.5            ledig  bei den Eltern   \n",
       "4                        6.5            ledig  bei den Eltern   \n",
       "\n",
       "          Bundesland  Alter  num_miss_fields  anzahl_Wohnjahre  \n",
       "0             Bayern   48.0                0               7.0  \n",
       "1             Hessen   38.0                0               9.0  \n",
       "2             Hessen   64.0                0               9.0  \n",
       "3  Schlewig-Holstein   29.0                0              26.0  \n",
       "4  Baden-Württemberg   42.0                0               9.0  "
      ]
     },
     "execution_count": 142,
     "metadata": {},
     "output_type": "execute_result"
    }
   ],
   "source": [
    "# drop columns Registrierungsdatum and dort_wohnhaft_seit\n",
    "data = df.drop(columns= ['Registrierungsdatum', 'dort_wohnhaft_seit'])\n",
    "data.head(5)"
   ]
  },
  {
   "cell_type": "markdown",
   "id": "042c3728",
   "metadata": {},
   "source": [
    "### 4. Analyzing features"
   ]
  },
  {
   "cell_type": "markdown",
   "id": "d2dce02f",
   "metadata": {},
   "source": [
    "#### 4.1. Correlations between features"
   ]
  },
  {
   "cell_type": "code",
   "execution_count": 143,
   "id": "cbbca3c9",
   "metadata": {},
   "outputs": [
    {
     "data": {
      "text/html": [
       "<div>\n",
       "<style scoped>\n",
       "    .dataframe tbody tr th:only-of-type {\n",
       "        vertical-align: middle;\n",
       "    }\n",
       "\n",
       "    .dataframe tbody tr th {\n",
       "        vertical-align: top;\n",
       "    }\n",
       "\n",
       "    .dataframe thead th {\n",
       "        text-align: right;\n",
       "    }\n",
       "</style>\n",
       "<table border=\"1\" class=\"dataframe\">\n",
       "  <thead>\n",
       "    <tr style=\"text-align: right;\">\n",
       "      <th></th>\n",
       "      <th>angefragtes_Kreditvolumen</th>\n",
       "      <th>Alter</th>\n",
       "      <th>num_miss_fields</th>\n",
       "      <th>anzahl_Wohnjahre</th>\n",
       "    </tr>\n",
       "  </thead>\n",
       "  <tbody>\n",
       "    <tr>\n",
       "      <th>angefragtes_Kreditvolumen</th>\n",
       "      <td>1.000000</td>\n",
       "      <td>0.134667</td>\n",
       "      <td>0.002810</td>\n",
       "      <td>0.067246</td>\n",
       "    </tr>\n",
       "    <tr>\n",
       "      <th>Alter</th>\n",
       "      <td>0.134667</td>\n",
       "      <td>1.000000</td>\n",
       "      <td>0.008875</td>\n",
       "      <td>0.260340</td>\n",
       "    </tr>\n",
       "    <tr>\n",
       "      <th>num_miss_fields</th>\n",
       "      <td>0.002810</td>\n",
       "      <td>0.008875</td>\n",
       "      <td>1.000000</td>\n",
       "      <td>0.014117</td>\n",
       "    </tr>\n",
       "    <tr>\n",
       "      <th>anzahl_Wohnjahre</th>\n",
       "      <td>0.067246</td>\n",
       "      <td>0.260340</td>\n",
       "      <td>0.014117</td>\n",
       "      <td>1.000000</td>\n",
       "    </tr>\n",
       "  </tbody>\n",
       "</table>\n",
       "</div>"
      ],
      "text/plain": [
       "                           angefragtes_Kreditvolumen     Alter  \\\n",
       "angefragtes_Kreditvolumen                   1.000000  0.134667   \n",
       "Alter                                       0.134667  1.000000   \n",
       "num_miss_fields                             0.002810  0.008875   \n",
       "anzahl_Wohnjahre                            0.067246  0.260340   \n",
       "\n",
       "                           num_miss_fields  anzahl_Wohnjahre  \n",
       "angefragtes_Kreditvolumen         0.002810          0.067246  \n",
       "Alter                             0.008875          0.260340  \n",
       "num_miss_fields                   1.000000          0.014117  \n",
       "anzahl_Wohnjahre                  0.014117          1.000000  "
      ]
     },
     "execution_count": 143,
     "metadata": {},
     "output_type": "execute_result"
    }
   ],
   "source": [
    "# Get correlation of features\n",
    "corr_features = data.corr()\n",
    "# visualize only one half of the heatmap\n",
    "corr_ones = np.ones_like(corr_features, dtype = bool)\n",
    "mask = np.triu(corr_ones)\n",
    "# removing the first rows and first two columns of corr_features and mask\n",
    "adjusted_corr_features = corr_features.iloc[1:, 1:]\n",
    "adjusted_mask = mask[1:, 1:]\n",
    "adjusted_corr_features"
   ]
  },
  {
   "cell_type": "code",
   "execution_count": 144,
   "id": "ff19b4bb",
   "metadata": {},
   "outputs": [
    {
     "data": {
      "image/png": "[encoded data removed]",
      "text/plain": [
       "<Figure size 576x432 with 2 Axes>"
      ]
     },
     "metadata": {},
     "output_type": "display_data"
    }
   ],
   "source": [
    "# draw the heatmap of corr_features\n",
    "fig, ax = plt.subplots(figsize=(8, 6))\n",
    "cmap = sns.diverging_palette(360, 64, 51, as_cmap=True)\n",
    "sns.heatmap(adjusted_corr_features, mask=adjusted_mask, annot=True, fmt='.2f', cmap=cmap, linecolor='white', linewidth=1)\n",
    "yticks = [i.upper() for i in adjusted_corr_features.index]\n",
    "xticks = [i.upper() for i in adjusted_corr_features.columns]\n",
    "ax.set_yticklabels(yticks, rotation=0)\n",
    "ax.set_xticklabels(xticks, rotation=90)\n",
    "ax.set(title=\"CORRELATION MATRIX OF FEATURES\");"
   ]
  },
  {
   "cell_type": "markdown",
   "id": "f032bcee",
   "metadata": {},
   "source": [
    "\"If two variables are correlated, we can predict one from the other. Therefore, if two features are correlated, the model only needs one, as the second does not add additional information.\"\n",
    "\n",
    "--> From the heatmap, we see that all features have no or low level of correlation with each other. So we keep all features to train models. Except for features `anzahl_Wohnjahre` and `Alter`, they may correlate with each other somehow. It is easy to understand, because most people tend to live for a long time in one place since their birth."
   ]
  },
  {
   "cell_type": "markdown",
   "id": "0dff2e12",
   "metadata": {},
   "source": [
    "#### 4.2. Merge `data` with labels in file `borrower_labels.csv` and analysing the relationship between features and labels"
   ]
  },
  {
   "cell_type": "code",
   "execution_count": 145,
   "id": "e866cb51",
   "metadata": {},
   "outputs": [
    {
     "data": {
      "text/plain": [
       "False"
      ]
     },
     "execution_count": 145,
     "metadata": {},
     "output_type": "execute_result"
    }
   ],
   "source": [
    "df_lab['user_id'].duplicated().any()"
   ]
  },
  {
   "cell_type": "code",
   "execution_count": 146,
   "id": "61b4761e",
   "metadata": {},
   "outputs": [],
   "source": [
    "# merge df_lab to data based on user_id\n",
    "dataset = data.merge(df_lab, how='left', on='user_id')"
   ]
  },
  {
   "cell_type": "code",
   "execution_count": 147,
   "id": "4bae2948",
   "metadata": {},
   "outputs": [
    {
     "data": {
      "text/html": [
       "<div>\n",
       "<style scoped>\n",
       "    .dataframe tbody tr th:only-of-type {\n",
       "        vertical-align: middle;\n",
       "    }\n",
       "\n",
       "    .dataframe tbody tr th {\n",
       "        vertical-align: top;\n",
       "    }\n",
       "\n",
       "    .dataframe thead th {\n",
       "        text-align: right;\n",
       "    }\n",
       "</style>\n",
       "<table border=\"1\" class=\"dataframe\">\n",
       "  <thead>\n",
       "    <tr style=\"text-align: right;\">\n",
       "      <th></th>\n",
       "      <th>user_id</th>\n",
       "      <th>Verwendungszweck</th>\n",
       "      <th>Geschlecht</th>\n",
       "      <th>angefragtes_Kreditvolumen</th>\n",
       "      <th>Familienstand</th>\n",
       "      <th>Wohnsituation</th>\n",
       "      <th>Bundesland</th>\n",
       "      <th>Alter</th>\n",
       "      <th>num_miss_fields</th>\n",
       "      <th>anzahl_Wohnjahre</th>\n",
       "      <th>flag_filled_page_2</th>\n",
       "    </tr>\n",
       "  </thead>\n",
       "  <tbody>\n",
       "    <tr>\n",
       "      <th>0</th>\n",
       "      <td>310426050</td>\n",
       "      <td>Existenzgründung</td>\n",
       "      <td>f</td>\n",
       "      <td>10.0</td>\n",
       "      <td>ledig</td>\n",
       "      <td>zur Miete</td>\n",
       "      <td>Bayern</td>\n",
       "      <td>48.0</td>\n",
       "      <td>0</td>\n",
       "      <td>7.0</td>\n",
       "      <td>1</td>\n",
       "    </tr>\n",
       "    <tr>\n",
       "      <th>1</th>\n",
       "      <td>310426380</td>\n",
       "      <td>Möbel / Renovierung / Umzug</td>\n",
       "      <td>f</td>\n",
       "      <td>25.0</td>\n",
       "      <td>ledig</td>\n",
       "      <td>zur Miete</td>\n",
       "      <td>Hessen</td>\n",
       "      <td>38.0</td>\n",
       "      <td>0</td>\n",
       "      <td>9.0</td>\n",
       "      <td>0</td>\n",
       "    </tr>\n",
       "    <tr>\n",
       "      <th>2</th>\n",
       "      <td>310426710</td>\n",
       "      <td>Möbel / Renovierung / Umzug</td>\n",
       "      <td>m</td>\n",
       "      <td>5.0</td>\n",
       "      <td>getrennt lebend</td>\n",
       "      <td>zur Miete</td>\n",
       "      <td>Hessen</td>\n",
       "      <td>64.0</td>\n",
       "      <td>0</td>\n",
       "      <td>9.0</td>\n",
       "      <td>0</td>\n",
       "    </tr>\n",
       "    <tr>\n",
       "      <th>3</th>\n",
       "      <td>310426875</td>\n",
       "      <td>Autokredit</td>\n",
       "      <td>m</td>\n",
       "      <td>6.5</td>\n",
       "      <td>ledig</td>\n",
       "      <td>bei den Eltern</td>\n",
       "      <td>Schlewig-Holstein</td>\n",
       "      <td>29.0</td>\n",
       "      <td>0</td>\n",
       "      <td>26.0</td>\n",
       "      <td>1</td>\n",
       "    </tr>\n",
       "    <tr>\n",
       "      <th>4</th>\n",
       "      <td>310427040</td>\n",
       "      <td>Möbel / Renovierung / Umzug</td>\n",
       "      <td>f</td>\n",
       "      <td>6.5</td>\n",
       "      <td>ledig</td>\n",
       "      <td>bei den Eltern</td>\n",
       "      <td>Baden-Württemberg</td>\n",
       "      <td>42.0</td>\n",
       "      <td>0</td>\n",
       "      <td>9.0</td>\n",
       "      <td>1</td>\n",
       "    </tr>\n",
       "  </tbody>\n",
       "</table>\n",
       "</div>"
      ],
      "text/plain": [
       "     user_id             Verwendungszweck Geschlecht  \\\n",
       "0  310426050             Existenzgründung          f   \n",
       "1  310426380  Möbel / Renovierung / Umzug          f   \n",
       "2  310426710  Möbel / Renovierung / Umzug          m   \n",
       "3  310426875                   Autokredit          m   \n",
       "4  310427040  Möbel / Renovierung / Umzug          f   \n",
       "\n",
       "   angefragtes_Kreditvolumen    Familienstand   Wohnsituation  \\\n",
       "0                       10.0            ledig       zur Miete   \n",
       "1                       25.0            ledig       zur Miete   \n",
       "2                        5.0  getrennt lebend       zur Miete   \n",
       "3                        6.5            ledig  bei den Eltern   \n",
       "4                        6.5            ledig  bei den Eltern   \n",
       "\n",
       "          Bundesland  Alter  num_miss_fields  anzahl_Wohnjahre  \\\n",
       "0             Bayern   48.0                0               7.0   \n",
       "1             Hessen   38.0                0               9.0   \n",
       "2             Hessen   64.0                0               9.0   \n",
       "3  Schlewig-Holstein   29.0                0              26.0   \n",
       "4  Baden-Württemberg   42.0                0               9.0   \n",
       "\n",
       "   flag_filled_page_2  \n",
       "0                   1  \n",
       "1                   0  \n",
       "2                   0  \n",
       "3                   1  \n",
       "4                   1  "
      ]
     },
     "execution_count": 147,
     "metadata": {},
     "output_type": "execute_result"
    }
   ],
   "source": [
    "dataset.head(5)"
   ]
  },
  {
   "cell_type": "markdown",
   "id": "b7ea7a04",
   "metadata": {},
   "source": [
    "#### a. Analyzing the relationship between gender and label"
   ]
  },
  {
   "cell_type": "code",
   "execution_count": 148,
   "id": "0711a970",
   "metadata": {},
   "outputs": [
    {
     "data": {
      "text/html": [
       "<div>\n",
       "<style scoped>\n",
       "    .dataframe tbody tr th:only-of-type {\n",
       "        vertical-align: middle;\n",
       "    }\n",
       "\n",
       "    .dataframe tbody tr th {\n",
       "        vertical-align: top;\n",
       "    }\n",
       "\n",
       "    .dataframe thead th {\n",
       "        text-align: right;\n",
       "    }\n",
       "</style>\n",
       "<table border=\"1\" class=\"dataframe\">\n",
       "  <thead>\n",
       "    <tr style=\"text-align: right;\">\n",
       "      <th></th>\n",
       "      <th>Geschlecht</th>\n",
       "      <th>flag_filled_page_2</th>\n",
       "      <th>user_id</th>\n",
       "    </tr>\n",
       "  </thead>\n",
       "  <tbody>\n",
       "    <tr>\n",
       "      <th>0</th>\n",
       "      <td>f</td>\n",
       "      <td>0</td>\n",
       "      <td>45019</td>\n",
       "    </tr>\n",
       "    <tr>\n",
       "      <th>1</th>\n",
       "      <td>f</td>\n",
       "      <td>1</td>\n",
       "      <td>48518</td>\n",
       "    </tr>\n",
       "    <tr>\n",
       "      <th>2</th>\n",
       "      <td>m</td>\n",
       "      <td>0</td>\n",
       "      <td>28502</td>\n",
       "    </tr>\n",
       "    <tr>\n",
       "      <th>3</th>\n",
       "      <td>m</td>\n",
       "      <td>1</td>\n",
       "      <td>24790</td>\n",
       "    </tr>\n",
       "  </tbody>\n",
       "</table>\n",
       "</div>"
      ],
      "text/plain": [
       "  Geschlecht  flag_filled_page_2  user_id\n",
       "0          f                   0    45019\n",
       "1          f                   1    48518\n",
       "2          m                   0    28502\n",
       "3          m                   1    24790"
      ]
     },
     "execution_count": 148,
     "metadata": {},
     "output_type": "execute_result"
    }
   ],
   "source": [
    "ge_lab = dataset.groupby(['Geschlecht', 'flag_filled_page_2']).agg({'user_id': 'count'}).reset_index()\n",
    "ge_lab"
   ]
  },
  {
   "cell_type": "code",
   "execution_count": 149,
   "id": "34340060",
   "metadata": {},
   "outputs": [
    {
     "data": {
      "image/png": "[encoded data removed]",
      "text/plain": [
       "<Figure size 432x288 with 1 Axes>"
      ]
     },
     "metadata": {},
     "output_type": "display_data"
    }
   ],
   "source": [
    "sns.barplot(data=ge_lab, x=\"Geschlecht\", y=\"user_id\", hue=\"flag_filled_page_2\")\n",
    "plt.ylabel('Number of users')\n",
    "plt.xlabel('Gender')\n",
    "plt.title('The number of users who filled and not filled the second page according to their gender')\n",
    "plt.show()"
   ]
  },
  {
   "cell_type": "markdown",
   "id": "40192456",
   "metadata": {},
   "source": [
    "* From the above grahp, we see that the number of female user is higher that that of male user. And female users tend to fill the second page more than male users.\n",
    "\n",
    "--> women is patient than man =)))"
   ]
  },
  {
   "cell_type": "markdown",
   "id": "b14f642d",
   "metadata": {},
   "source": [
    "#### b. Analyzing the relationship between num_miss_lab and label"
   ]
  },
  {
   "cell_type": "code",
   "execution_count": 150,
   "id": "62562369",
   "metadata": {},
   "outputs": [
    {
     "data": {
      "text/html": [
       "<div>\n",
       "<style scoped>\n",
       "    .dataframe tbody tr th:only-of-type {\n",
       "        vertical-align: middle;\n",
       "    }\n",
       "\n",
       "    .dataframe tbody tr th {\n",
       "        vertical-align: top;\n",
       "    }\n",
       "\n",
       "    .dataframe thead th {\n",
       "        text-align: right;\n",
       "    }\n",
       "</style>\n",
       "<table border=\"1\" class=\"dataframe\">\n",
       "  <thead>\n",
       "    <tr style=\"text-align: right;\">\n",
       "      <th></th>\n",
       "      <th>num_miss_fields</th>\n",
       "      <th>flag_filled_page_2</th>\n",
       "      <th>user_id</th>\n",
       "    </tr>\n",
       "  </thead>\n",
       "  <tbody>\n",
       "    <tr>\n",
       "      <th>0</th>\n",
       "      <td>0</td>\n",
       "      <td>0</td>\n",
       "      <td>65040</td>\n",
       "    </tr>\n",
       "    <tr>\n",
       "      <th>1</th>\n",
       "      <td>0</td>\n",
       "      <td>1</td>\n",
       "      <td>65460</td>\n",
       "    </tr>\n",
       "    <tr>\n",
       "      <th>2</th>\n",
       "      <td>1</td>\n",
       "      <td>0</td>\n",
       "      <td>8454</td>\n",
       "    </tr>\n",
       "    <tr>\n",
       "      <th>3</th>\n",
       "      <td>1</td>\n",
       "      <td>1</td>\n",
       "      <td>7834</td>\n",
       "    </tr>\n",
       "    <tr>\n",
       "      <th>4</th>\n",
       "      <td>2</td>\n",
       "      <td>0</td>\n",
       "      <td>14</td>\n",
       "    </tr>\n",
       "    <tr>\n",
       "      <th>5</th>\n",
       "      <td>2</td>\n",
       "      <td>1</td>\n",
       "      <td>11</td>\n",
       "    </tr>\n",
       "    <tr>\n",
       "      <th>6</th>\n",
       "      <td>3</td>\n",
       "      <td>0</td>\n",
       "      <td>7</td>\n",
       "    </tr>\n",
       "    <tr>\n",
       "      <th>7</th>\n",
       "      <td>3</td>\n",
       "      <td>1</td>\n",
       "      <td>1</td>\n",
       "    </tr>\n",
       "    <tr>\n",
       "      <th>8</th>\n",
       "      <td>4</td>\n",
       "      <td>0</td>\n",
       "      <td>2</td>\n",
       "    </tr>\n",
       "    <tr>\n",
       "      <th>9</th>\n",
       "      <td>6</td>\n",
       "      <td>1</td>\n",
       "      <td>2</td>\n",
       "    </tr>\n",
       "    <tr>\n",
       "      <th>10</th>\n",
       "      <td>7</td>\n",
       "      <td>0</td>\n",
       "      <td>4</td>\n",
       "    </tr>\n",
       "  </tbody>\n",
       "</table>\n",
       "</div>"
      ],
      "text/plain": [
       "    num_miss_fields  flag_filled_page_2  user_id\n",
       "0                 0                   0    65040\n",
       "1                 0                   1    65460\n",
       "2                 1                   0     8454\n",
       "3                 1                   1     7834\n",
       "4                 2                   0       14\n",
       "5                 2                   1       11\n",
       "6                 3                   0        7\n",
       "7                 3                   1        1\n",
       "8                 4                   0        2\n",
       "9                 6                   1        2\n",
       "10                7                   0        4"
      ]
     },
     "execution_count": 150,
     "metadata": {},
     "output_type": "execute_result"
    }
   ],
   "source": [
    "num_miss_lab = dataset.groupby(['num_miss_fields', 'flag_filled_page_2']).agg({'user_id': 'count'}).reset_index()\n",
    "num_miss_lab"
   ]
  },
  {
   "cell_type": "code",
   "execution_count": 151,
   "id": "e027d200",
   "metadata": {},
   "outputs": [
    {
     "data": {
      "image/png": "[encoded data removed]",
      "text/plain": [
       "<Figure size 576x432 with 1 Axes>"
      ]
     },
     "metadata": {},
     "output_type": "display_data"
    }
   ],
   "source": [
    "plt.figure(figsize=(8, 6))\n",
    "sns.set_palette('Paired')\n",
    "sns.barplot(data=num_miss_lab, x=\"num_miss_fields\", y=\"user_id\", hue=\"flag_filled_page_2\")\n",
    "plt.ylabel('Number of users')\n",
    "plt.xlabel('number of missing fields in the first page')\n",
    "plt.title('The number of users who filled and not filled the second page according to their number of missing fields in the first page')\n",
    "plt.legend(loc=5)\n",
    "plt.show()"
   ]
  },
  {
   "cell_type": "markdown",
   "id": "4198d005",
   "metadata": {},
   "source": [
    "* The more missing fields in the first page, the more tendency that user won't fill the second page"
   ]
  },
  {
   "cell_type": "code",
   "execution_count": 152,
   "id": "35527056",
   "metadata": {},
   "outputs": [
    {
     "data": {
      "text/html": [
       "<div>\n",
       "<style scoped>\n",
       "    .dataframe tbody tr th:only-of-type {\n",
       "        vertical-align: middle;\n",
       "    }\n",
       "\n",
       "    .dataframe tbody tr th {\n",
       "        vertical-align: top;\n",
       "    }\n",
       "\n",
       "    .dataframe thead th {\n",
       "        text-align: right;\n",
       "    }\n",
       "</style>\n",
       "<table border=\"1\" class=\"dataframe\">\n",
       "  <thead>\n",
       "    <tr style=\"text-align: right;\">\n",
       "      <th></th>\n",
       "      <th>Familienstand</th>\n",
       "      <th>flag_filled_page_2</th>\n",
       "      <th>user_id</th>\n",
       "    </tr>\n",
       "  </thead>\n",
       "  <tbody>\n",
       "    <tr>\n",
       "      <th>0</th>\n",
       "      <td>geschieden</td>\n",
       "      <td>0</td>\n",
       "      <td>7711</td>\n",
       "    </tr>\n",
       "    <tr>\n",
       "      <th>1</th>\n",
       "      <td>geschieden</td>\n",
       "      <td>1</td>\n",
       "      <td>7495</td>\n",
       "    </tr>\n",
       "    <tr>\n",
       "      <th>2</th>\n",
       "      <td>getrennt lebend</td>\n",
       "      <td>0</td>\n",
       "      <td>2645</td>\n",
       "    </tr>\n",
       "    <tr>\n",
       "      <th>3</th>\n",
       "      <td>getrennt lebend</td>\n",
       "      <td>1</td>\n",
       "      <td>2973</td>\n",
       "    </tr>\n",
       "    <tr>\n",
       "      <th>4</th>\n",
       "      <td>ledig</td>\n",
       "      <td>0</td>\n",
       "      <td>44021</td>\n",
       "    </tr>\n",
       "    <tr>\n",
       "      <th>5</th>\n",
       "      <td>ledig</td>\n",
       "      <td>1</td>\n",
       "      <td>40269</td>\n",
       "    </tr>\n",
       "    <tr>\n",
       "      <th>6</th>\n",
       "      <td>verheiratet / eingetragene Partnerschaft</td>\n",
       "      <td>0</td>\n",
       "      <td>17627</td>\n",
       "    </tr>\n",
       "    <tr>\n",
       "      <th>7</th>\n",
       "      <td>verheiratet / eingetragene Partnerschaft</td>\n",
       "      <td>1</td>\n",
       "      <td>21719</td>\n",
       "    </tr>\n",
       "    <tr>\n",
       "      <th>8</th>\n",
       "      <td>verwitwet</td>\n",
       "      <td>0</td>\n",
       "      <td>1517</td>\n",
       "    </tr>\n",
       "    <tr>\n",
       "      <th>9</th>\n",
       "      <td>verwitwet</td>\n",
       "      <td>1</td>\n",
       "      <td>852</td>\n",
       "    </tr>\n",
       "  </tbody>\n",
       "</table>\n",
       "</div>"
      ],
      "text/plain": [
       "                              Familienstand  flag_filled_page_2  user_id\n",
       "0                                geschieden                   0     7711\n",
       "1                                geschieden                   1     7495\n",
       "2                           getrennt lebend                   0     2645\n",
       "3                           getrennt lebend                   1     2973\n",
       "4                                     ledig                   0    44021\n",
       "5                                     ledig                   1    40269\n",
       "6  verheiratet / eingetragene Partnerschaft                   0    17627\n",
       "7  verheiratet / eingetragene Partnerschaft                   1    21719\n",
       "8                                 verwitwet                   0     1517\n",
       "9                                 verwitwet                   1      852"
      ]
     },
     "execution_count": 152,
     "metadata": {},
     "output_type": "execute_result"
    }
   ],
   "source": [
    "fam_lab = dataset.groupby(['Familienstand', 'flag_filled_page_2']).agg({'user_id': 'count'}).reset_index()\n",
    "fam_lab"
   ]
  },
  {
   "cell_type": "code",
   "execution_count": 153,
   "id": "e6733cc6",
   "metadata": {},
   "outputs": [
    {
     "data": {
      "image/png": "[encoded data removed]",
      "text/plain": [
       "<Figure size 1080x432 with 1 Axes>"
      ]
     },
     "metadata": {},
     "output_type": "display_data"
    }
   ],
   "source": [
    "plt.figure(figsize=(15, 6))\n",
    "sns.set_palette('pastel')\n",
    "sns.barplot(data=fam_lab, x=\"Familienstand\", y=\"user_id\", hue=\"flag_filled_page_2\")\n",
    "plt.ylabel('Number of users')\n",
    "plt.xlabel('Familienstand')\n",
    "plt.title('The number of users who filled and not filled the second page according to their familienstand')\n",
    "plt.legend(loc=5)\n",
    "plt.show()"
   ]
  },
  {
   "cell_type": "markdown",
   "id": "0fbc3c2a",
   "metadata": {},
   "source": [
    "* Most users are single or get married. Single users tend to skip the second page, while people having family tend to fill the second page."
   ]
  },
  {
   "cell_type": "markdown",
   "id": "4ab269c6",
   "metadata": {},
   "source": [
    "## III. Encoding categorical data \n",
    "\n",
    "* `Verwendungszweck`, `Geschlecht`, `Familienstand`, `Wohnsituation`, `Bundesland` are nominal categorical data, which as no particular order. \n",
    "\n",
    "\n",
    "* `Geschlecht`, `Wohnsituation`: i use the approach of one-hot encoding. Because the number of categories for these features are low\n",
    "* `Verwendungszweck`, `Familienstand`, `Bundesland`: i use the approach of Binary encoding. Because the number of categories for these features are high\n"
   ]
  },
  {
   "cell_type": "markdown",
   "id": "52309070",
   "metadata": {},
   "source": [
    "### 1. Split dataset into X and y data"
   ]
  },
  {
   "cell_type": "code",
   "execution_count": 180,
   "id": "356f6075",
   "metadata": {},
   "outputs": [],
   "source": [
    "X_dataset = dataset.drop(columns=['user_id', 'flag_filled_page_2']).copy()\n"
   ]
  },
  {
   "cell_type": "code",
   "execution_count": 181,
   "id": "2f10c937",
   "metadata": {},
   "outputs": [
    {
     "data": {
      "text/html": [
       "<div>\n",
       "<style scoped>\n",
       "    .dataframe tbody tr th:only-of-type {\n",
       "        vertical-align: middle;\n",
       "    }\n",
       "\n",
       "    .dataframe tbody tr th {\n",
       "        vertical-align: top;\n",
       "    }\n",
       "\n",
       "    .dataframe thead th {\n",
       "        text-align: right;\n",
       "    }\n",
       "</style>\n",
       "<table border=\"1\" class=\"dataframe\">\n",
       "  <thead>\n",
       "    <tr style=\"text-align: right;\">\n",
       "      <th></th>\n",
       "      <th>Verwendungszweck</th>\n",
       "      <th>Geschlecht</th>\n",
       "      <th>angefragtes_Kreditvolumen</th>\n",
       "      <th>Familienstand</th>\n",
       "      <th>Wohnsituation</th>\n",
       "      <th>Bundesland</th>\n",
       "      <th>Alter</th>\n",
       "      <th>num_miss_fields</th>\n",
       "      <th>anzahl_Wohnjahre</th>\n",
       "    </tr>\n",
       "  </thead>\n",
       "  <tbody>\n",
       "    <tr>\n",
       "      <th>0</th>\n",
       "      <td>Existenzgründung</td>\n",
       "      <td>f</td>\n",
       "      <td>10.0</td>\n",
       "      <td>ledig</td>\n",
       "      <td>zur Miete</td>\n",
       "      <td>Bayern</td>\n",
       "      <td>48.0</td>\n",
       "      <td>0</td>\n",
       "      <td>7.0</td>\n",
       "    </tr>\n",
       "    <tr>\n",
       "      <th>1</th>\n",
       "      <td>Möbel / Renovierung / Umzug</td>\n",
       "      <td>f</td>\n",
       "      <td>25.0</td>\n",
       "      <td>ledig</td>\n",
       "      <td>zur Miete</td>\n",
       "      <td>Hessen</td>\n",
       "      <td>38.0</td>\n",
       "      <td>0</td>\n",
       "      <td>9.0</td>\n",
       "    </tr>\n",
       "    <tr>\n",
       "      <th>2</th>\n",
       "      <td>Möbel / Renovierung / Umzug</td>\n",
       "      <td>m</td>\n",
       "      <td>5.0</td>\n",
       "      <td>getrennt lebend</td>\n",
       "      <td>zur Miete</td>\n",
       "      <td>Hessen</td>\n",
       "      <td>64.0</td>\n",
       "      <td>0</td>\n",
       "      <td>9.0</td>\n",
       "    </tr>\n",
       "    <tr>\n",
       "      <th>3</th>\n",
       "      <td>Autokredit</td>\n",
       "      <td>m</td>\n",
       "      <td>6.5</td>\n",
       "      <td>ledig</td>\n",
       "      <td>bei den Eltern</td>\n",
       "      <td>Schlewig-Holstein</td>\n",
       "      <td>29.0</td>\n",
       "      <td>0</td>\n",
       "      <td>26.0</td>\n",
       "    </tr>\n",
       "    <tr>\n",
       "      <th>4</th>\n",
       "      <td>Möbel / Renovierung / Umzug</td>\n",
       "      <td>f</td>\n",
       "      <td>6.5</td>\n",
       "      <td>ledig</td>\n",
       "      <td>bei den Eltern</td>\n",
       "      <td>Baden-Württemberg</td>\n",
       "      <td>42.0</td>\n",
       "      <td>0</td>\n",
       "      <td>9.0</td>\n",
       "    </tr>\n",
       "  </tbody>\n",
       "</table>\n",
       "</div>"
      ],
      "text/plain": [
       "              Verwendungszweck Geschlecht  angefragtes_Kreditvolumen  \\\n",
       "0             Existenzgründung          f                       10.0   \n",
       "1  Möbel / Renovierung / Umzug          f                       25.0   \n",
       "2  Möbel / Renovierung / Umzug          m                        5.0   \n",
       "3                   Autokredit          m                        6.5   \n",
       "4  Möbel / Renovierung / Umzug          f                        6.5   \n",
       "\n",
       "     Familienstand   Wohnsituation         Bundesland  Alter  num_miss_fields  \\\n",
       "0            ledig       zur Miete             Bayern   48.0                0   \n",
       "1            ledig       zur Miete             Hessen   38.0                0   \n",
       "2  getrennt lebend       zur Miete             Hessen   64.0                0   \n",
       "3            ledig  bei den Eltern  Schlewig-Holstein   29.0                0   \n",
       "4            ledig  bei den Eltern  Baden-Württemberg   42.0                0   \n",
       "\n",
       "   anzahl_Wohnjahre  \n",
       "0               7.0  \n",
       "1               9.0  \n",
       "2               9.0  \n",
       "3              26.0  \n",
       "4               9.0  "
      ]
     },
     "execution_count": 181,
     "metadata": {},
     "output_type": "execute_result"
    }
   ],
   "source": [
    "X_dataset.head(5)"
   ]
  },
  {
   "cell_type": "code",
   "execution_count": 182,
   "id": "305a9bd9",
   "metadata": {},
   "outputs": [
    {
     "data": {
      "text/plain": [
       "array([1, 0, 0, ..., 0, 1, 1], dtype=int64)"
      ]
     },
     "execution_count": 182,
     "metadata": {},
     "output_type": "execute_result"
    }
   ],
   "source": [
    "y = dataset.iloc[:, -1].values\n",
    "y"
   ]
  },
  {
   "cell_type": "markdown",
   "id": "a38dd71f",
   "metadata": {},
   "source": [
    "### 2. One-hot encoding for Geschlecht, Wohnsituation"
   ]
  },
  {
   "cell_type": "code",
   "execution_count": 183,
   "id": "05c3addb",
   "metadata": {},
   "outputs": [],
   "source": [
    "from sklearn.compose import ColumnTransformer\n",
    "from sklearn.preprocessing import OneHotEncoder\n",
    "ct = ColumnTransformer(transformers=[('encoder', OneHotEncoder(), ['Geschlecht', 'Wohnsituation'])], remainder=\"passthrough\")\n",
    "X_dataset = np.array(ct.fit_transform(X_dataset))"
   ]
  },
  {
   "cell_type": "code",
   "execution_count": 184,
   "id": "f9b275ce",
   "metadata": {},
   "outputs": [],
   "source": [
    "# after implementing OneHotEncoder, X_dataset has no feature name. So I try to get the feature name for the dataset\n",
    "columns_name = ct.get_feature_names()\n",
    "X_df = pd.DataFrame(X_dataset, columns=columns_name)"
   ]
  },
  {
   "cell_type": "code",
   "execution_count": 185,
   "id": "bbc1bb46",
   "metadata": {},
   "outputs": [
    {
     "data": {
      "text/html": [
       "<div>\n",
       "<style scoped>\n",
       "    .dataframe tbody tr th:only-of-type {\n",
       "        vertical-align: middle;\n",
       "    }\n",
       "\n",
       "    .dataframe tbody tr th {\n",
       "        vertical-align: top;\n",
       "    }\n",
       "\n",
       "    .dataframe thead th {\n",
       "        text-align: right;\n",
       "    }\n",
       "</style>\n",
       "<table border=\"1\" class=\"dataframe\">\n",
       "  <thead>\n",
       "    <tr style=\"text-align: right;\">\n",
       "      <th></th>\n",
       "      <th>encoder__x0_f</th>\n",
       "      <th>encoder__x0_m</th>\n",
       "      <th>encoder__x1_bei den Eltern</th>\n",
       "      <th>encoder__x1_im Eigentum</th>\n",
       "      <th>encoder__x1_zur Miete</th>\n",
       "      <th>Verwendungszweck</th>\n",
       "      <th>angefragtes_Kreditvolumen</th>\n",
       "      <th>Familienstand</th>\n",
       "      <th>Bundesland</th>\n",
       "      <th>Alter</th>\n",
       "      <th>num_miss_fields</th>\n",
       "      <th>anzahl_Wohnjahre</th>\n",
       "    </tr>\n",
       "  </thead>\n",
       "  <tbody>\n",
       "    <tr>\n",
       "      <th>0</th>\n",
       "      <td>1.0</td>\n",
       "      <td>0.0</td>\n",
       "      <td>0.0</td>\n",
       "      <td>0.0</td>\n",
       "      <td>1.0</td>\n",
       "      <td>Existenzgründung</td>\n",
       "      <td>10.0</td>\n",
       "      <td>ledig</td>\n",
       "      <td>Bayern</td>\n",
       "      <td>48.0</td>\n",
       "      <td>0</td>\n",
       "      <td>7.0</td>\n",
       "    </tr>\n",
       "    <tr>\n",
       "      <th>1</th>\n",
       "      <td>1.0</td>\n",
       "      <td>0.0</td>\n",
       "      <td>0.0</td>\n",
       "      <td>0.0</td>\n",
       "      <td>1.0</td>\n",
       "      <td>Möbel / Renovierung / Umzug</td>\n",
       "      <td>25.0</td>\n",
       "      <td>ledig</td>\n",
       "      <td>Hessen</td>\n",
       "      <td>38.0</td>\n",
       "      <td>0</td>\n",
       "      <td>9.0</td>\n",
       "    </tr>\n",
       "    <tr>\n",
       "      <th>2</th>\n",
       "      <td>0.0</td>\n",
       "      <td>1.0</td>\n",
       "      <td>0.0</td>\n",
       "      <td>0.0</td>\n",
       "      <td>1.0</td>\n",
       "      <td>Möbel / Renovierung / Umzug</td>\n",
       "      <td>5.0</td>\n",
       "      <td>getrennt lebend</td>\n",
       "      <td>Hessen</td>\n",
       "      <td>64.0</td>\n",
       "      <td>0</td>\n",
       "      <td>9.0</td>\n",
       "    </tr>\n",
       "    <tr>\n",
       "      <th>3</th>\n",
       "      <td>0.0</td>\n",
       "      <td>1.0</td>\n",
       "      <td>1.0</td>\n",
       "      <td>0.0</td>\n",
       "      <td>0.0</td>\n",
       "      <td>Autokredit</td>\n",
       "      <td>6.5</td>\n",
       "      <td>ledig</td>\n",
       "      <td>Schlewig-Holstein</td>\n",
       "      <td>29.0</td>\n",
       "      <td>0</td>\n",
       "      <td>26.0</td>\n",
       "    </tr>\n",
       "    <tr>\n",
       "      <th>4</th>\n",
       "      <td>1.0</td>\n",
       "      <td>0.0</td>\n",
       "      <td>1.0</td>\n",
       "      <td>0.0</td>\n",
       "      <td>0.0</td>\n",
       "      <td>Möbel / Renovierung / Umzug</td>\n",
       "      <td>6.5</td>\n",
       "      <td>ledig</td>\n",
       "      <td>Baden-Württemberg</td>\n",
       "      <td>42.0</td>\n",
       "      <td>0</td>\n",
       "      <td>9.0</td>\n",
       "    </tr>\n",
       "  </tbody>\n",
       "</table>\n",
       "</div>"
      ],
      "text/plain": [
       "  encoder__x0_f encoder__x0_m encoder__x1_bei den Eltern  \\\n",
       "0           1.0           0.0                        0.0   \n",
       "1           1.0           0.0                        0.0   \n",
       "2           0.0           1.0                        0.0   \n",
       "3           0.0           1.0                        1.0   \n",
       "4           1.0           0.0                        1.0   \n",
       "\n",
       "  encoder__x1_im Eigentum encoder__x1_zur Miete             Verwendungszweck  \\\n",
       "0                     0.0                   1.0             Existenzgründung   \n",
       "1                     0.0                   1.0  Möbel / Renovierung / Umzug   \n",
       "2                     0.0                   1.0  Möbel / Renovierung / Umzug   \n",
       "3                     0.0                   0.0                   Autokredit   \n",
       "4                     0.0                   0.0  Möbel / Renovierung / Umzug   \n",
       "\n",
       "  angefragtes_Kreditvolumen    Familienstand         Bundesland Alter  \\\n",
       "0                      10.0            ledig             Bayern  48.0   \n",
       "1                      25.0            ledig             Hessen  38.0   \n",
       "2                       5.0  getrennt lebend             Hessen  64.0   \n",
       "3                       6.5            ledig  Schlewig-Holstein  29.0   \n",
       "4                       6.5            ledig  Baden-Württemberg  42.0   \n",
       "\n",
       "  num_miss_fields anzahl_Wohnjahre  \n",
       "0               0              7.0  \n",
       "1               0              9.0  \n",
       "2               0              9.0  \n",
       "3               0             26.0  \n",
       "4               0              9.0  "
      ]
     },
     "execution_count": 185,
     "metadata": {},
     "output_type": "execute_result"
    }
   ],
   "source": [
    "X_df.head(5)"
   ]
  },
  {
   "cell_type": "markdown",
   "id": "a3142770",
   "metadata": {},
   "source": [
    "### 3. Binary encoding for Verwendungszweck, Familienstand, Bundesland"
   ]
  },
  {
   "cell_type": "code",
   "execution_count": 186,
   "id": "d21b11ec",
   "metadata": {},
   "outputs": [],
   "source": [
    "from category_encoders import BinaryEncoder\n",
    "X = BinaryEncoder(cols=['Verwendungszweck', 'Familienstand', 'Bundesland'], drop_invariant = True).fit_transform(X_df)"
   ]
  },
  {
   "cell_type": "code",
   "execution_count": 187,
   "id": "f4bb90d4",
   "metadata": {},
   "outputs": [
    {
     "data": {
      "text/html": [
       "<div>\n",
       "<style scoped>\n",
       "    .dataframe tbody tr th:only-of-type {\n",
       "        vertical-align: middle;\n",
       "    }\n",
       "\n",
       "    .dataframe tbody tr th {\n",
       "        vertical-align: top;\n",
       "    }\n",
       "\n",
       "    .dataframe thead th {\n",
       "        text-align: right;\n",
       "    }\n",
       "</style>\n",
       "<table border=\"1\" class=\"dataframe\">\n",
       "  <thead>\n",
       "    <tr style=\"text-align: right;\">\n",
       "      <th></th>\n",
       "      <th>encoder__x0_f</th>\n",
       "      <th>encoder__x0_m</th>\n",
       "      <th>encoder__x1_bei den Eltern</th>\n",
       "      <th>encoder__x1_im Eigentum</th>\n",
       "      <th>encoder__x1_zur Miete</th>\n",
       "      <th>Verwendungszweck_0</th>\n",
       "      <th>Verwendungszweck_1</th>\n",
       "      <th>Verwendungszweck_2</th>\n",
       "      <th>Verwendungszweck_3</th>\n",
       "      <th>angefragtes_Kreditvolumen</th>\n",
       "      <th>...</th>\n",
       "      <th>Familienstand_1</th>\n",
       "      <th>Familienstand_2</th>\n",
       "      <th>Bundesland_0</th>\n",
       "      <th>Bundesland_1</th>\n",
       "      <th>Bundesland_2</th>\n",
       "      <th>Bundesland_3</th>\n",
       "      <th>Bundesland_4</th>\n",
       "      <th>Alter</th>\n",
       "      <th>num_miss_fields</th>\n",
       "      <th>anzahl_Wohnjahre</th>\n",
       "    </tr>\n",
       "  </thead>\n",
       "  <tbody>\n",
       "    <tr>\n",
       "      <th>0</th>\n",
       "      <td>1.0</td>\n",
       "      <td>0.0</td>\n",
       "      <td>0.0</td>\n",
       "      <td>0.0</td>\n",
       "      <td>1.0</td>\n",
       "      <td>0</td>\n",
       "      <td>0</td>\n",
       "      <td>0</td>\n",
       "      <td>1</td>\n",
       "      <td>10.0</td>\n",
       "      <td>...</td>\n",
       "      <td>0</td>\n",
       "      <td>1</td>\n",
       "      <td>0</td>\n",
       "      <td>0</td>\n",
       "      <td>0</td>\n",
       "      <td>0</td>\n",
       "      <td>1</td>\n",
       "      <td>48.0</td>\n",
       "      <td>0</td>\n",
       "      <td>7.0</td>\n",
       "    </tr>\n",
       "    <tr>\n",
       "      <th>1</th>\n",
       "      <td>1.0</td>\n",
       "      <td>0.0</td>\n",
       "      <td>0.0</td>\n",
       "      <td>0.0</td>\n",
       "      <td>1.0</td>\n",
       "      <td>0</td>\n",
       "      <td>0</td>\n",
       "      <td>1</td>\n",
       "      <td>0</td>\n",
       "      <td>25.0</td>\n",
       "      <td>...</td>\n",
       "      <td>0</td>\n",
       "      <td>1</td>\n",
       "      <td>0</td>\n",
       "      <td>0</td>\n",
       "      <td>0</td>\n",
       "      <td>1</td>\n",
       "      <td>0</td>\n",
       "      <td>38.0</td>\n",
       "      <td>0</td>\n",
       "      <td>9.0</td>\n",
       "    </tr>\n",
       "    <tr>\n",
       "      <th>2</th>\n",
       "      <td>0.0</td>\n",
       "      <td>1.0</td>\n",
       "      <td>0.0</td>\n",
       "      <td>0.0</td>\n",
       "      <td>1.0</td>\n",
       "      <td>0</td>\n",
       "      <td>0</td>\n",
       "      <td>1</td>\n",
       "      <td>0</td>\n",
       "      <td>5.0</td>\n",
       "      <td>...</td>\n",
       "      <td>1</td>\n",
       "      <td>0</td>\n",
       "      <td>0</td>\n",
       "      <td>0</td>\n",
       "      <td>0</td>\n",
       "      <td>1</td>\n",
       "      <td>0</td>\n",
       "      <td>64.0</td>\n",
       "      <td>0</td>\n",
       "      <td>9.0</td>\n",
       "    </tr>\n",
       "    <tr>\n",
       "      <th>3</th>\n",
       "      <td>0.0</td>\n",
       "      <td>1.0</td>\n",
       "      <td>1.0</td>\n",
       "      <td>0.0</td>\n",
       "      <td>0.0</td>\n",
       "      <td>0</td>\n",
       "      <td>0</td>\n",
       "      <td>1</td>\n",
       "      <td>1</td>\n",
       "      <td>6.5</td>\n",
       "      <td>...</td>\n",
       "      <td>0</td>\n",
       "      <td>1</td>\n",
       "      <td>0</td>\n",
       "      <td>0</td>\n",
       "      <td>0</td>\n",
       "      <td>1</td>\n",
       "      <td>1</td>\n",
       "      <td>29.0</td>\n",
       "      <td>0</td>\n",
       "      <td>26.0</td>\n",
       "    </tr>\n",
       "    <tr>\n",
       "      <th>4</th>\n",
       "      <td>1.0</td>\n",
       "      <td>0.0</td>\n",
       "      <td>1.0</td>\n",
       "      <td>0.0</td>\n",
       "      <td>0.0</td>\n",
       "      <td>0</td>\n",
       "      <td>0</td>\n",
       "      <td>1</td>\n",
       "      <td>0</td>\n",
       "      <td>6.5</td>\n",
       "      <td>...</td>\n",
       "      <td>0</td>\n",
       "      <td>1</td>\n",
       "      <td>0</td>\n",
       "      <td>0</td>\n",
       "      <td>1</td>\n",
       "      <td>0</td>\n",
       "      <td>0</td>\n",
       "      <td>42.0</td>\n",
       "      <td>0</td>\n",
       "      <td>9.0</td>\n",
       "    </tr>\n",
       "  </tbody>\n",
       "</table>\n",
       "<p>5 rows × 21 columns</p>\n",
       "</div>"
      ],
      "text/plain": [
       "  encoder__x0_f encoder__x0_m encoder__x1_bei den Eltern  \\\n",
       "0           1.0           0.0                        0.0   \n",
       "1           1.0           0.0                        0.0   \n",
       "2           0.0           1.0                        0.0   \n",
       "3           0.0           1.0                        1.0   \n",
       "4           1.0           0.0                        1.0   \n",
       "\n",
       "  encoder__x1_im Eigentum encoder__x1_zur Miete  Verwendungszweck_0  \\\n",
       "0                     0.0                   1.0                   0   \n",
       "1                     0.0                   1.0                   0   \n",
       "2                     0.0                   1.0                   0   \n",
       "3                     0.0                   0.0                   0   \n",
       "4                     0.0                   0.0                   0   \n",
       "\n",
       "   Verwendungszweck_1  Verwendungszweck_2  Verwendungszweck_3  \\\n",
       "0                   0                   0                   1   \n",
       "1                   0                   1                   0   \n",
       "2                   0                   1                   0   \n",
       "3                   0                   1                   1   \n",
       "4                   0                   1                   0   \n",
       "\n",
       "  angefragtes_Kreditvolumen  ...  Familienstand_1  Familienstand_2  \\\n",
       "0                      10.0  ...                0                1   \n",
       "1                      25.0  ...                0                1   \n",
       "2                       5.0  ...                1                0   \n",
       "3                       6.5  ...                0                1   \n",
       "4                       6.5  ...                0                1   \n",
       "\n",
       "   Bundesland_0  Bundesland_1  Bundesland_2  Bundesland_3  Bundesland_4  \\\n",
       "0             0             0             0             0             1   \n",
       "1             0             0             0             1             0   \n",
       "2             0             0             0             1             0   \n",
       "3             0             0             0             1             1   \n",
       "4             0             0             1             0             0   \n",
       "\n",
       "   Alter num_miss_fields anzahl_Wohnjahre  \n",
       "0   48.0               0              7.0  \n",
       "1   38.0               0              9.0  \n",
       "2   64.0               0              9.0  \n",
       "3   29.0               0             26.0  \n",
       "4   42.0               0              9.0  \n",
       "\n",
       "[5 rows x 21 columns]"
      ]
     },
     "execution_count": 187,
     "metadata": {},
     "output_type": "execute_result"
    }
   ],
   "source": [
    "X.head(5)"
   ]
  },
  {
   "cell_type": "markdown",
   "id": "fbcf5351",
   "metadata": {},
   "source": [
    "### 4. Check balance in labels"
   ]
  },
  {
   "cell_type": "code",
   "execution_count": 188,
   "id": "8b32d315",
   "metadata": {},
   "outputs": [
    {
     "name": "stdout",
     "output_type": "stream",
     "text": [
      "The percentage of label 0 in dataset: 50.07 %\n"
     ]
    }
   ],
   "source": [
    "# Check balance in labels\n",
    "y_dataset = pd.DataFrame(dataset['flag_filled_page_2'].copy(), columns=['flag_filled_page_2'])\n",
    "print(f\"The percentage of label 0 in dataset: {round((len(y_dataset[y_dataset['flag_filled_page_2'] == 0]) / len(y_dataset) * 100), 2)} %\")\n"
   ]
  },
  {
   "cell_type": "markdown",
   "id": "55500535",
   "metadata": {},
   "source": [
    "### 5. Split the dataset into training set and test set"
   ]
  },
  {
   "cell_type": "code",
   "execution_count": 189,
   "id": "49ef4289",
   "metadata": {},
   "outputs": [],
   "source": [
    "from sklearn.model_selection import train_test_split\n",
    "X_train, X_test, y_train, y_test = train_test_split(X, y, test_size=0.2, random_state=1)"
   ]
  },
  {
   "cell_type": "markdown",
   "id": "744004bf",
   "metadata": {},
   "source": [
    "### 6. Feature scaling"
   ]
  },
  {
   "cell_type": "code",
   "execution_count": 190,
   "id": "4d9081ae",
   "metadata": {},
   "outputs": [],
   "source": [
    "from sklearn.preprocessing import StandardScaler\n",
    "sc = StandardScaler()\n",
    "X_train = sc.fit_transform(X_train)\n",
    "X_test = sc.transform(X_test)"
   ]
  },
  {
   "cell_type": "code",
   "execution_count": 191,
   "id": "264d53bd",
   "metadata": {},
   "outputs": [
    {
     "data": {
      "text/plain": [
       "array([[-1.32560098,  1.32560098, -0.46410594, ...,  1.10341463,\n",
       "        -0.35123154, -0.28410391],\n",
       "       [ 0.75437482, -0.75437482, -0.46410594, ...,  1.02287356,\n",
       "        -0.35123154,  0.49296568],\n",
       "       [ 0.75437482, -0.75437482, -0.46410594, ...,  0.62016822,\n",
       "        -0.35123154,  0.15993586],\n",
       "       ...,\n",
       "       [-1.32560098,  1.32560098, -0.46410594, ..., -0.1047014 ,\n",
       "         2.78330048,  0.04892591],\n",
       "       [ 0.75437482, -0.75437482, -0.46410594, ...,  0.37854501,\n",
       "        -0.35123154, -0.61713373],\n",
       "       [ 0.75437482, -0.75437482, -0.46410594, ..., -0.42686567,\n",
       "        -0.35123154, -0.72814367]])"
      ]
     },
     "execution_count": 191,
     "metadata": {},
     "output_type": "execute_result"
    }
   ],
   "source": [
    "X_train"
   ]
  },
  {
   "cell_type": "markdown",
   "id": "43763a43",
   "metadata": {},
   "source": [
    "## IV. Training models"
   ]
  },
  {
   "cell_type": "markdown",
   "id": "29c400b9",
   "metadata": {},
   "source": [
    "### 1. Random Forest Classification Model"
   ]
  },
  {
   "cell_type": "markdown",
   "id": "9d4d048d",
   "metadata": {},
   "source": [
    "#### a. Training the Random Forest Classification model on the Training set"
   ]
  },
  {
   "cell_type": "code",
   "execution_count": 192,
   "id": "c3dd0dc0",
   "metadata": {},
   "outputs": [
    {
     "data": {
      "text/plain": [
       "RandomForestClassifier(criterion='entropy', n_estimators=10, random_state=0)"
      ]
     },
     "execution_count": 192,
     "metadata": {},
     "output_type": "execute_result"
    }
   ],
   "source": [
    "from sklearn.ensemble import RandomForestClassifier\n",
    "classifier = RandomForestClassifier(n_estimators = 10, criterion = 'entropy', random_state = 0)\n",
    "classifier.fit(X_train, y_train)"
   ]
  },
  {
   "cell_type": "markdown",
   "id": "dbd19452",
   "metadata": {},
   "source": [
    "#### b. Predicting the test set result"
   ]
  },
  {
   "cell_type": "code",
   "execution_count": 193,
   "id": "510a6461",
   "metadata": {},
   "outputs": [
    {
     "data": {
      "text/plain": [
       "array([1, 1, 0, ..., 1, 0, 1], dtype=int64)"
      ]
     },
     "execution_count": 193,
     "metadata": {},
     "output_type": "execute_result"
    }
   ],
   "source": [
    "y_pred = classifier.predict(X_test)\n",
    "y_pred"
   ]
  },
  {
   "cell_type": "markdown",
   "id": "23acf2d1",
   "metadata": {},
   "source": [
    "#### c. Making confusion matrix and calculating accuracy score"
   ]
  },
  {
   "cell_type": "code",
   "execution_count": 214,
   "id": "62adf3cd",
   "metadata": {},
   "outputs": [
    {
     "name": "stdout",
     "output_type": "stream",
     "text": [
      "Confusion matrix:\n"
     ]
    },
    {
     "data": {
      "image/png": "[encoded data removed]",
      "text/plain": [
       "<Figure size 432x288 with 2 Axes>"
      ]
     },
     "metadata": {},
     "output_type": "display_data"
    },
    {
     "name": "stdout",
     "output_type": "stream",
     "text": [
      "Accuracy score: 0.5801947830824763\n",
      "Precision score: [0.57339766 0.58828795]\n",
      "Recall score: [0.62381569 0.53664512]\n",
      "f1 score: [0.59754505 0.56128114]\n"
     ]
    }
   ],
   "source": [
    "sns.set_style('white')\n",
    "cm = confusion_matrix(y_test, y_pred, labels=classifier.classes_)\n",
    "print(\"Confusion matrix:\")\n",
    "disp = ConfusionMatrixDisplay(confusion_matrix=cm, display_labels=classifier.classes_)\n",
    "disp.plot()\n",
    "plt.show()\n",
    "\n",
    "ac = accuracy_score(y_test, y_pred)\n",
    "print(f\"Accuracy score: {ac}\")\n",
    "\n",
    "prec = precision_score(y_test, y_pred, average = None)\n",
    "print(f\"Precision score: {prec}\")\n",
    "\n",
    "recall = recall_score(y_test, y_pred, average = None)\n",
    "print(f\"Recall score: {recall}\")\n",
    "\n",
    "f1_sc = f1_score(y_test, y_pred, average = None)\n",
    "print(f\"f1 score: {f1_sc}\")"
   ]
  },
  {
   "cell_type": "markdown",
   "id": "6bedbff1",
   "metadata": {},
   "source": [
    "#### d. Applying k-Fold Cross Validation on test set"
   ]
  },
  {
   "cell_type": "code",
   "execution_count": 236,
   "id": "1a68eca5",
   "metadata": {},
   "outputs": [
    {
     "name": "stdout",
     "output_type": "stream",
     "text": [
      "Accuracy: 58.32 %\n",
      "Standard Deviation: 0.55 %\n"
     ]
    }
   ],
   "source": [
    "from sklearn.model_selection import cross_val_score\n",
    "accu = cross_val_score(estimator = classifier, X = X_train, y = y_train, cv = 10)\n",
    "print(\"Accuracy: {:.2f} %\".format(accu.mean()*100))\n",
    "print(\"Standard Deviation: {:.2f} %\".format(accu.std()*100))"
   ]
  },
  {
   "cell_type": "markdown",
   "id": "9652fd75",
   "metadata": {},
   "source": [
    "### 2. Decision Tree Classification Model"
   ]
  },
  {
   "cell_type": "markdown",
   "id": "0ffc9439",
   "metadata": {},
   "source": [
    "#### a. Training the Decision Tree Classification model on the Training set"
   ]
  },
  {
   "cell_type": "code",
   "execution_count": 200,
   "id": "52a8fc98",
   "metadata": {},
   "outputs": [
    {
     "data": {
      "text/plain": [
       "DecisionTreeClassifier(criterion='entropy', random_state=0)"
      ]
     },
     "execution_count": 200,
     "metadata": {},
     "output_type": "execute_result"
    }
   ],
   "source": [
    "from sklearn.tree import DecisionTreeClassifier\n",
    "cl_tree = DecisionTreeClassifier(criterion = 'entropy', random_state = 0)\n",
    "cl_tree.fit(X_train, y_train)"
   ]
  },
  {
   "cell_type": "markdown",
   "id": "8d4b7513",
   "metadata": {},
   "source": [
    "#### b. Predicting the test set result"
   ]
  },
  {
   "cell_type": "code",
   "execution_count": 201,
   "id": "04a28825",
   "metadata": {},
   "outputs": [],
   "source": [
    "y_pred_tree = cl_tree.predict(X_test)"
   ]
  },
  {
   "cell_type": "markdown",
   "id": "39c4060b",
   "metadata": {},
   "source": [
    "#### c. Making confusion matrix and calculating accuracy score"
   ]
  },
  {
   "cell_type": "code",
   "execution_count": 215,
   "id": "d890837c",
   "metadata": {},
   "outputs": [
    {
     "name": "stdout",
     "output_type": "stream",
     "text": [
      "Confusion matrix:\n"
     ]
    },
    {
     "data": {
      "image/png": "[encoded data removed]",
      "text/plain": [
       "<Figure size 432x288 with 2 Axes>"
      ]
     },
     "metadata": {},
     "output_type": "display_data"
    },
    {
     "name": "stdout",
     "output_type": "stream",
     "text": [
      "Accuracy score: 0.5592862494040728\n",
      "Precision score: [0.55731618 0.56136666]\n",
      "Recall score: [0.62381569 0.53664512]\n",
      "f1 score: [0.56503327 0.55338533]\n"
     ]
    }
   ],
   "source": [
    "cm_tree = confusion_matrix(y_test, y_pred_tree, labels=cl_tree.classes_)\n",
    "print(\"Confusion matrix:\")\n",
    "disp = ConfusionMatrixDisplay(confusion_matrix = cm_tree, display_labels = cl_tree.classes_)\n",
    "disp.plot()\n",
    "plt.show()\n",
    "\n",
    "ac_tree = accuracy_score(y_test, y_pred_tree)\n",
    "print(f\"Accuracy score: {ac_tree}\")\n",
    "\n",
    "prec_tree = precision_score(y_test, y_pred_tree, average = None)\n",
    "print(f\"Precision score: {prec_tree}\")\n",
    "\n",
    "recall_tree = recall_score(y_test, y_pred_tree, average = None)\n",
    "print(f\"Recall score: {recall}\")\n",
    "\n",
    "f1_sc_tree = f1_score(y_test, y_pred_tree, average = None)\n",
    "print(f\"f1 score: {f1_sc_tree}\")"
   ]
  },
  {
   "cell_type": "markdown",
   "id": "f7bbc30f",
   "metadata": {},
   "source": [
    "### 3. Using GridSearchCV to train model"
   ]
  },
  {
   "cell_type": "code",
   "execution_count": 205,
   "id": "55c5010f",
   "metadata": {},
   "outputs": [
    {
     "data": {
      "text/plain": [
       "{'criterion': 'gini',\n",
       " 'max_depth': 3,\n",
       " 'max_leaf_nodes': 4,\n",
       " 'min_samples_leaf': 1,\n",
       " 'min_samples_split': 2}"
      ]
     },
     "execution_count": 205,
     "metadata": {},
     "output_type": "execute_result"
    }
   ],
   "source": [
    "from sklearn.model_selection import GridSearchCV\n",
    "dTree = DecisionTreeClassifier()\n",
    "params = {'criterion' : ['gini', 'entropy'], \n",
    "          'min_samples_split' : np.arange(2, 5),\n",
    "          'min_samples_leaf' : np.arange(1, 3),\n",
    "          'max_leaf_nodes' : np.arange(2, 5),\n",
    "          'max_depth' : np.arange(2, 5)}\n",
    "clf = GridSearchCV(estimator=dTree, param_grid=params, error_score='raise', n_jobs=-1)\n",
    "clf.fit(X_train, y_train)\n",
    "clf.best_params_"
   ]
  },
  {
   "cell_type": "code",
   "execution_count": 210,
   "id": "a2b44de0",
   "metadata": {},
   "outputs": [],
   "source": [
    "y_pred_grid = clf.predict(X_test)"
   ]
  },
  {
   "cell_type": "code",
   "execution_count": 216,
   "id": "0dc2536f",
   "metadata": {},
   "outputs": [
    {
     "name": "stdout",
     "output_type": "stream",
     "text": [
      "Confusion matrix:\n"
     ]
    },
    {
     "data": {
      "image/png": "[encoded data removed]",
      "text/plain": [
       "<Figure size 432x288 with 2 Axes>"
      ]
     },
     "metadata": {},
     "output_type": "display_data"
    },
    {
     "name": "stdout",
     "output_type": "stream",
     "text": [
      "Accuracy score: 0.581454743581012\n",
      "Precision score: [0.61833731 0.56224754]\n",
      "Recall score: [0.42382932 0.73882273]\n",
      "f1 score: [0.50293202 0.63855315]\n"
     ]
    }
   ],
   "source": [
    "cm_grid = confusion_matrix(y_test, y_pred_grid, labels = clf.classes_)\n",
    "print(\"Confusion matrix:\")\n",
    "disp = ConfusionMatrixDisplay(confusion_matrix = cm_grid, display_labels = clf.classes_)\n",
    "disp.plot()\n",
    "plt.show()\n",
    "\n",
    "ac_grid = accuracy_score(y_test, y_pred_grid)\n",
    "print(f\"Accuracy score: {ac_grid}\")\n",
    "\n",
    "prec_grid = precision_score(y_test, y_pred_grid, average = None)\n",
    "print(f\"Precision score: {prec_grid}\")\n",
    "\n",
    "recall_grid = recall_score(y_test, y_pred_grid, average = None)\n",
    "print(f\"Recall score: {recall_grid}\")\n",
    "\n",
    "f1_sc_grid = f1_score(y_test, y_pred_grid, average = None)\n",
    "print(f\"f1 score: {f1_sc_grid}\")"
   ]
  },
  {
   "cell_type": "markdown",
   "id": "cfdd5927",
   "metadata": {},
   "source": [
    "### 4. Support Vector Machine Model"
   ]
  },
  {
   "cell_type": "markdown",
   "id": "aefe9bcf",
   "metadata": {},
   "source": [
    "#### a. Training the SVM model on the Training set"
   ]
  },
  {
   "cell_type": "code",
   "execution_count": 207,
   "id": "3a1642a9",
   "metadata": {},
   "outputs": [
    {
     "data": {
      "text/plain": [
       "SVC(kernel='linear', random_state=0)"
      ]
     },
     "execution_count": 207,
     "metadata": {},
     "output_type": "execute_result"
    }
   ],
   "source": [
    "from sklearn.svm import SVC\n",
    "cl_svm = SVC(kernel = 'linear', random_state=0)\n",
    "cl_svm.fit(X_train, y_train)"
   ]
  },
  {
   "cell_type": "markdown",
   "id": "874dd0af",
   "metadata": {},
   "source": [
    "#### b. Predicting the test set result"
   ]
  },
  {
   "cell_type": "code",
   "execution_count": 208,
   "id": "e094b8c9",
   "metadata": {},
   "outputs": [],
   "source": [
    "y_pred_svm = cl_svm.predict(X_test)"
   ]
  },
  {
   "cell_type": "markdown",
   "id": "10f48623",
   "metadata": {},
   "source": [
    "#### c. Making confusion matrix and calculating accuracy score"
   ]
  },
  {
   "cell_type": "code",
   "execution_count": 217,
   "id": "b6c5df3f",
   "metadata": {},
   "outputs": [
    {
     "name": "stdout",
     "output_type": "stream",
     "text": [
      "Confusion matrix:\n"
     ]
    },
    {
     "data": {
      "image/png": "[encoded data removed]",
      "text/plain": [
       "<Figure size 432x288 with 2 Axes>"
      ]
     },
     "metadata": {},
     "output_type": "display_data"
    },
    {
     "name": "stdout",
     "output_type": "stream",
     "text": [
      "Accuracy score: 0.5513859565483893\n",
      "Precision score: [0.55094956 0.55182283]\n",
      "Recall score: [0.55170063 0.55107179]\n",
      "f1 score: [0.55132484 0.55144705]\n"
     ]
    }
   ],
   "source": [
    "cm_svm = confusion_matrix(y_test, y_pred_svm, labels = cl_svm.classes_)\n",
    "print(\"Confusion matrix:\")\n",
    "disp = ConfusionMatrixDisplay(confusion_matrix = cm_svm, display_labels = cl_svm.classes_)\n",
    "disp.plot()\n",
    "plt.show()\n",
    "\n",
    "ac_svm = accuracy_score(y_test, y_pred_svm)\n",
    "print(f\"Accuracy score: {ac_svm}\")\n",
    "\n",
    "prec_svm = precision_score(y_test, y_pred_svm, average = None)\n",
    "print(f\"Precision score: {prec_svm}\")\n",
    "\n",
    "recall_svm = recall_score(y_test, y_pred_svm, average = None)\n",
    "print(f\"Recall score: {recall_svm}\")\n",
    "\n",
    "f1_sc_svm = f1_score(y_test, y_pred_svm, average = None)\n",
    "print(f\"f1 score: {f1_sc_svm}\")"
   ]
  },
  {
   "cell_type": "markdown",
   "id": "57c54e9c",
   "metadata": {},
   "source": [
    "### 5. K-Nearest Neighbors (KNN) Model"
   ]
  },
  {
   "cell_type": "code",
   "execution_count": 219,
   "id": "cce79a51",
   "metadata": {},
   "outputs": [
    {
     "data": {
      "text/plain": [
       "KNeighborsClassifier()"
      ]
     },
     "execution_count": 219,
     "metadata": {},
     "output_type": "execute_result"
    }
   ],
   "source": [
    "from sklearn.neighbors import KNeighborsClassifier\n",
    "cl_knn = KNeighborsClassifier(n_neighbors = 5, metric = 'minkowski', p = 2)\n",
    "cl_knn.fit(X_train, y_train)"
   ]
  },
  {
   "cell_type": "code",
   "execution_count": 220,
   "id": "3fff5e3d",
   "metadata": {},
   "outputs": [],
   "source": [
    "y_pred_knn = cl_knn.predict(X_test)"
   ]
  },
  {
   "cell_type": "code",
   "execution_count": 221,
   "id": "9b205ee7",
   "metadata": {},
   "outputs": [
    {
     "name": "stdout",
     "output_type": "stream",
     "text": [
      "Confusion matrix:\n"
     ]
    },
    {
     "data": {
      "image/png": "[encoded data removed]",
      "text/plain": [
       "<Figure size 432x288 with 2 Axes>"
      ]
     },
     "metadata": {},
     "output_type": "display_data"
    },
    {
     "name": "stdout",
     "output_type": "stream",
     "text": [
      "Accuracy score: 0.5838725056187427\n",
      "Precision score: [0.58834979 0.57986447]\n",
      "Recall score: [0.55626747 0.61143246]\n",
      "f1 score: [0.57185901 0.59523021]\n"
     ]
    }
   ],
   "source": [
    "cm_knn = confusion_matrix(y_test, y_pred_knn, labels = cl_knn.classes_)\n",
    "print(\"Confusion matrix:\")\n",
    "disp = ConfusionMatrixDisplay(confusion_matrix = cm_knn, display_labels = cl_knn.classes_)\n",
    "disp.plot()\n",
    "plt.show()\n",
    "\n",
    "ac_knn = accuracy_score(y_test, y_pred_knn)\n",
    "print(f\"Accuracy score: {ac_knn}\")\n",
    "\n",
    "prec_knn = precision_score(y_test, y_pred_knn, average = None)\n",
    "print(f\"Precision score: {prec_knn}\")\n",
    "\n",
    "recall_knn = recall_score(y_test, y_pred_knn, average = None)\n",
    "print(f\"Recall score: {recall_knn}\")\n",
    "\n",
    "f1_sc_knn = f1_score(y_test, y_pred_knn, average = None)\n",
    "print(f\"f1 score: {f1_sc_knn}\")"
   ]
  },
  {
   "cell_type": "markdown",
   "id": "4fbd1d96",
   "metadata": {},
   "source": [
    "### 6. Naive Bayes Model"
   ]
  },
  {
   "cell_type": "code",
   "execution_count": 222,
   "id": "1b37e02e",
   "metadata": {},
   "outputs": [
    {
     "data": {
      "text/plain": [
       "GaussianNB()"
      ]
     },
     "execution_count": 222,
     "metadata": {},
     "output_type": "execute_result"
    }
   ],
   "source": [
    "from sklearn.naive_bayes import GaussianNB\n",
    "cl_nb = GaussianNB()\n",
    "cl_nb.fit(X_train, y_train)"
   ]
  },
  {
   "cell_type": "code",
   "execution_count": 223,
   "id": "b4a9b811",
   "metadata": {},
   "outputs": [],
   "source": [
    "y_pred_nb = cl_nb.predict(X_test)"
   ]
  },
  {
   "cell_type": "code",
   "execution_count": 225,
   "id": "bb3f2d31",
   "metadata": {},
   "outputs": [
    {
     "name": "stdout",
     "output_type": "stream",
     "text": [
      "Confusion matrix:\n"
     ]
    },
    {
     "data": {
      "image/png": "[encoded data removed]",
      "text/plain": [
       "<Figure size 432x288 with 2 Axes>"
      ]
     },
     "metadata": {},
     "output_type": "display_data"
    },
    {
     "name": "stdout",
     "output_type": "stream",
     "text": [
      "Accuracy score: 0.5602397330245863\n",
      "Precision score: [0.57325106 0.5512577 ]\n",
      "Recall score: [0.46861155 0.65171827]\n",
      "f1 score: [0.51567657 0.59729325]\n"
     ]
    }
   ],
   "source": [
    "cm_nb = confusion_matrix(y_test, y_pred_nb, labels = cl_nb.classes_)\n",
    "print(\"Confusion matrix:\")\n",
    "disp = ConfusionMatrixDisplay(confusion_matrix = cm_nb, display_labels = cl_nb.classes_)\n",
    "disp.plot()\n",
    "plt.show()\n",
    "\n",
    "ac_nb = accuracy_score(y_test, y_pred_nb)\n",
    "print(f\"Accuracy score: {ac_nb}\")\n",
    "\n",
    "prec_nb = precision_score(y_test, y_pred_nb, average = None)\n",
    "print(f\"Precision score: {prec_nb}\")\n",
    "\n",
    "recall_nb = recall_score(y_test, y_pred_nb, average = None)\n",
    "print(f\"Recall score: {recall_nb}\")\n",
    "\n",
    "f1_sc_nb = f1_score(y_test, y_pred_nb, average = None)\n",
    "print(f\"f1 score: {f1_sc_nb}\")"
   ]
  },
  {
   "cell_type": "markdown",
   "id": "6a21635b",
   "metadata": {},
   "source": [
    "### 7. XGBoost model"
   ]
  },
  {
   "cell_type": "code",
   "execution_count": 231,
   "id": "ddd0132d",
   "metadata": {},
   "outputs": [
    {
     "name": "stdout",
     "output_type": "stream",
     "text": [
      "Collecting xgboost\n",
      "  Using cached xgboost-1.7.4-py3-none-win_amd64.whl (89.1 MB)\n",
      "Requirement already satisfied: scipy in c:\\users\\dream\\anaconda3\\lib\\site-packages (from xgboost) (1.6.2)\n",
      "Requirement already satisfied: numpy in c:\\users\\dream\\anaconda3\\lib\\site-packages (from xgboost) (1.20.1)\n",
      "Installing collected packages: xgboost\n",
      "Successfully installed xgboost-1.7.4\n"
     ]
    }
   ],
   "source": [
    "!pip install xgboost"
   ]
  },
  {
   "cell_type": "markdown",
   "id": "1696aff1",
   "metadata": {},
   "source": [
    "#### a. Training the xbBoost model on the Training set"
   ]
  },
  {
   "cell_type": "code",
   "execution_count": 232,
   "id": "0a731607",
   "metadata": {},
   "outputs": [
    {
     "data": {
      "text/plain": [
       "XGBClassifier(base_score=None, booster=None, callbacks=None,\n",
       "              colsample_bylevel=None, colsample_bynode=None,\n",
       "              colsample_bytree=None, early_stopping_rounds=None,\n",
       "              enable_categorical=False, eval_metric=None, feature_types=None,\n",
       "              gamma=None, gpu_id=None, grow_policy=None, importance_type=None,\n",
       "              interaction_constraints=None, learning_rate=None, max_bin=None,\n",
       "              max_cat_threshold=None, max_cat_to_onehot=None,\n",
       "              max_delta_step=None, max_depth=None, max_leaves=None,\n",
       "              min_child_weight=None, missing=nan, monotone_constraints=None,\n",
       "              n_estimators=100, n_jobs=None, num_parallel_tree=None,\n",
       "              predictor=None, random_state=None, ...)"
      ]
     },
     "execution_count": 232,
     "metadata": {},
     "output_type": "execute_result"
    }
   ],
   "source": [
    "from xgboost import XGBClassifier\n",
    "cl_xgb = XGBClassifier()\n",
    "cl_xgb.fit(X_train, y_train)"
   ]
  },
  {
   "cell_type": "markdown",
   "id": "dd6965a9",
   "metadata": {},
   "source": [
    "#### b. Predicting the test set result"
   ]
  },
  {
   "cell_type": "code",
   "execution_count": 233,
   "id": "098b6331",
   "metadata": {},
   "outputs": [],
   "source": [
    "y_pred_xgb = cl_xgb.predict(X_test)"
   ]
  },
  {
   "cell_type": "markdown",
   "id": "60780b4c",
   "metadata": {},
   "source": [
    "#### c. Making confusion matrix and calculating accuracy score"
   ]
  },
  {
   "cell_type": "code",
   "execution_count": 234,
   "id": "f01db033",
   "metadata": {},
   "outputs": [
    {
     "name": "stdout",
     "output_type": "stream",
     "text": [
      "Confusion matrix:\n"
     ]
    },
    {
     "data": {
      "image/png": "[encoded data removed]",
      "text/plain": [
       "<Figure size 432x288 with 2 Axes>"
      ]
     },
     "metadata": {},
     "output_type": "display_data"
    },
    {
     "name": "stdout",
     "output_type": "stream",
     "text": [
      "Accuracy score: 0.6316828985902063\n",
      "Precision score: [0.65262491 0.61588098]\n",
      "Recall score: [0.56178856 0.70146308]\n",
      "f1 score: [0.60380952 0.65589208]\n"
     ]
    }
   ],
   "source": [
    "cm_xgb = confusion_matrix(y_test, y_pred_xgb, labels = cl_xgb.classes_)\n",
    "print(\"Confusion matrix:\")\n",
    "disp = ConfusionMatrixDisplay(confusion_matrix = cm_xgb, display_labels = cl_xgb.classes_)\n",
    "disp.plot()\n",
    "plt.show()\n",
    "\n",
    "ac_xgb = accuracy_score(y_test, y_pred_xgb)\n",
    "print(f\"Accuracy score: {ac_xgb}\")\n",
    "\n",
    "prec_xgb = precision_score(y_test, y_pred_xgb, average = None)\n",
    "print(f\"Precision score: {prec_xgb}\")\n",
    "\n",
    "recall_xgb = recall_score(y_test, y_pred_xgb, average = None)\n",
    "print(f\"Recall score: {recall_xgb}\")\n",
    "\n",
    "f1_sc_xgb = f1_score(y_test, y_pred_xgb, average = None)\n",
    "print(f\"f1 score: {f1_sc_xgb}\")"
   ]
  },
  {
   "cell_type": "markdown",
   "id": "59f7770e",
   "metadata": {},
   "source": [
    "#### d. Applying k-Fold Cross Validation on test set"
   ]
  },
  {
   "cell_type": "code",
   "execution_count": 235,
   "id": "459ca9bb",
   "metadata": {},
   "outputs": [
    {
     "name": "stdout",
     "output_type": "stream",
     "text": [
      "Accuracy: 63.38 %\n",
      "Standard Deviation: 0.45 %\n"
     ]
    }
   ],
   "source": [
    "from sklearn.model_selection import cross_val_score\n",
    "accuracies = cross_val_score(estimator = cl_xgb, X = X_train, y = y_train, cv = 10)\n",
    "print(\"Accuracy: {:.2f} %\".format(accuracies.mean()*100))\n",
    "print(\"Standard Deviation: {:.2f} %\".format(accuracies.std()*100))"
   ]
  },
  {
   "cell_type": "markdown",
   "id": "e289826d",
   "metadata": {},
   "source": [
    "## V. Model Selection"
   ]
  },
  {
   "cell_type": "markdown",
   "id": "a9b09d98",
   "metadata": {},
   "source": [
    "Deine Aufgabe ist es nun ein Vorhersagemodell zu trainieren, dass nur anhand der Fakten aus der oberen Tabelle ausgibt, welche User sehr wahrscheinlich NICHT die zweite Seite ausfüllen werden."
   ]
  },
  {
   "cell_type": "code",
   "execution_count": 243,
   "id": "00e51c60",
   "metadata": {},
   "outputs": [
    {
     "name": "stdout",
     "output_type": "stream",
     "text": [
      "The actual number of 0_labels in dataset: 73521\n",
      "The actual number of 1_labels in dataset: 73308\n"
     ]
    }
   ],
   "source": [
    "y_dataset = pd.DataFrame(dataset['flag_filled_page_2'].copy(), columns=['flag_filled_page_2'])\n",
    "print(f\"The actual number of 0_labels in dataset: {len(y_dataset[y_dataset['flag_filled_page_2'] == 0])}\")\n",
    "print(f\"The actual number of 1_labels in dataset: {len(y_dataset[y_dataset['flag_filled_page_2'] == 1])}\")"
   ]
  },
  {
   "cell_type": "code",
   "execution_count": 268,
   "id": "bea2379c",
   "metadata": {},
   "outputs": [
    {
     "data": {
      "image/png": "[encoded data removed]",
      "text/plain": [
       "<Figure size 1080x720 with 12 Axes>"
      ]
     },
     "metadata": {},
     "output_type": "display_data"
    }
   ],
   "source": [
    "from sklearn.metrics import plot_confusion_matrix\n",
    "fig, axes = plt.subplots(nrows=3, ncols=2, figsize=(15,10))\n",
    "\n",
    "classifiers = [RandomForestClassifier(n_estimators = 10, criterion = 'entropy', random_state = 0), \n",
    "               DecisionTreeClassifier(criterion = 'entropy', random_state = 0),\n",
    "               SVC(kernel = 'linear', random_state=0), \n",
    "               KNeighborsClassifier(n_neighbors = 5, metric = 'minkowski', p = 2),\n",
    "               GaussianNB(),\n",
    "               XGBClassifier()]\n",
    "for cls in classifiers:\n",
    "    cls.fit(X_train, y_train)\n",
    "\n",
    "\n",
    "#classifier = [classifier, cl_tree, cl_knn, cl_svm, cl_nb, cl_xgb]\n",
    "\n",
    "for cls, ax in zip(classifiers, axes.flatten()):\n",
    "    plot_confusion_matrix(cls, \n",
    "                          X_test, \n",
    "                          y_test, \n",
    "                          ax=ax, \n",
    "                          cmap='Blues',\n",
    "                         display_labels=cls.classes_)\n",
    "    ax.title.set_text(type(cls).__name__)\n",
    "plt.tight_layout()  \n",
    "plt.show()"
   ]
  },
  {
   "cell_type": "code",
   "execution_count": 271,
   "id": "0d823ef6",
   "metadata": {},
   "outputs": [
    {
     "name": "stdout",
     "output_type": "stream",
     "text": [
      "Random Forest_Accuracy:  \t\t 0.58\n",
      "Decision Tree_Accurarcy: \t\t 0.56\n",
      "SVM_Accurrary: \t\t 0.55\n",
      "KNN_Accuracy: \t\t 0.58\n",
      "Navie Bayes_Accuracy: \t\t 0.56\n",
      "XGBBoost_Accuracy: \t\t 0.63\n"
     ]
    }
   ],
   "source": [
    "print(f\"Random Forest_Accuracy:  \\t\\t {round(ac, 2)}\")\n",
    "print(f\"Decision Tree_Accurarcy: \\t\\t {round(ac_tree, 2)}\")\n",
    "print(f\"SVM_Accurrary: \\t\\t {round(ac_svm, 2)}\")\n",
    "print(f\"KNN_Accuracy: \\t\\t {round(ac_knn, 2)}\")\n",
    "print(f\"Navie Bayes_Accuracy: \\t\\t {round(ac_nb, 2)}\")\n",
    "print(f\"XGBBoost_Accuracy: \\t\\t {round(ac_xgb, 2)}\")"
   ]
  },
  {
   "cell_type": "markdown",
   "id": "2edfd99a",
   "metadata": {},
   "source": [
    "* Although XGBBoost has the highest accuracy score, our aim is to predict as much as possible user who won't fill the second page. So based on the confusion matrix, i choose Random Forest Classification model"
   ]
  },
  {
   "cell_type": "code",
   "execution_count": null,
   "id": "8593226d",
   "metadata": {},
   "outputs": [],
   "source": []
  }
 ],
 "metadata": {
  "kernelspec": {
   "display_name": "Python 3",
   "language": "python",
   "name": "python3"
  },
  "language_info": {
   "codemirror_mode": {
    "name": "ipython",
    "version": 3
   },
   "file_extension": ".py",
   "mimetype": "text/x-python",
   "name": "python",
   "nbconvert_exporter": "python",
   "pygments_lexer": "ipython3",
   "version": "3.8.8"
  }
 },
 "nbformat": 4,
 "nbformat_minor": 5
}
