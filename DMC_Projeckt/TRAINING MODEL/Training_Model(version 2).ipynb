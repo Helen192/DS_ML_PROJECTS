{
 "cells": [
  {
   "cell_type": "code",
   "execution_count": 1,
   "id": "2be8e68d",
   "metadata": {},
   "outputs": [],
   "source": [
    "import numpy as np\n",
    "import pandas as pd\n",
    "import matplotlib.pyplot as plt\n",
    "import seaborn as sns\n",
    "from datetime import datetime\n",
    "from sklearn.metrics import confusion_matrix, accuracy_score, precision_score, recall_score, f1_score"
   ]
  },
  {
   "cell_type": "code",
   "execution_count": 2,
   "id": "e4942955",
   "metadata": {},
   "outputs": [],
   "source": [
    "train_set = pd.read_csv('train_70_backgroundTrainTestsplit.csv')\n",
    "test_set = pd.read_csv('test_30_backgroundTrainTestsplit.csv')\n",
    "binary_train = pd.read_csv('binary_train_70_backgroundTrainTestsplit.csv')\n",
    "binary_test = pd.read_csv('binary_test_30_backgroundTrainTestsplit.csv')\n",
    "backdata = pd.read_csv('backgroundData_backGroundTrainTestsplit.csv')\n"
   ]
  },
  {
   "cell_type": "code",
   "execution_count": 4,
   "id": "e6efae78",
   "metadata": {},
   "outputs": [
    {
     "data": {
      "text/html": [
       "<div>\n",
       "<style scoped>\n",
       "    .dataframe tbody tr th:only-of-type {\n",
       "        vertical-align: middle;\n",
       "    }\n",
       "\n",
       "    .dataframe tbody tr th {\n",
       "        vertical-align: top;\n",
       "    }\n",
       "\n",
       "    .dataframe thead th {\n",
       "        text-align: right;\n",
       "    }\n",
       "</style>\n",
       "<table border=\"1\" class=\"dataframe\">\n",
       "  <thead>\n",
       "    <tr style=\"text-align: right;\">\n",
       "      <th></th>\n",
       "      <th>userID</th>\n",
       "      <th>itemID</th>\n",
       "      <th>prediction</th>\n",
       "    </tr>\n",
       "  </thead>\n",
       "  <tbody>\n",
       "    <tr>\n",
       "      <th>1</th>\n",
       "      <td>21509</td>\n",
       "      <td>18569</td>\n",
       "      <td>0.0</td>\n",
       "    </tr>\n",
       "    <tr>\n",
       "      <th>2</th>\n",
       "      <td>26600</td>\n",
       "      <td>30712</td>\n",
       "      <td>0.0</td>\n",
       "    </tr>\n",
       "    <tr>\n",
       "      <th>4</th>\n",
       "      <td>24698</td>\n",
       "      <td>16294</td>\n",
       "      <td>0.0</td>\n",
       "    </tr>\n",
       "    <tr>\n",
       "      <th>5</th>\n",
       "      <td>28320</td>\n",
       "      <td>25129</td>\n",
       "      <td>0.0</td>\n",
       "    </tr>\n",
       "    <tr>\n",
       "      <th>7</th>\n",
       "      <td>42987</td>\n",
       "      <td>12716</td>\n",
       "      <td>0.0</td>\n",
       "    </tr>\n",
       "    <tr>\n",
       "      <th>...</th>\n",
       "      <td>...</td>\n",
       "      <td>...</td>\n",
       "      <td>...</td>\n",
       "    </tr>\n",
       "    <tr>\n",
       "      <th>64238</th>\n",
       "      <td>20305</td>\n",
       "      <td>21387</td>\n",
       "      <td>0.0</td>\n",
       "    </tr>\n",
       "    <tr>\n",
       "      <th>64239</th>\n",
       "      <td>13714</td>\n",
       "      <td>19959</td>\n",
       "      <td>0.0</td>\n",
       "    </tr>\n",
       "    <tr>\n",
       "      <th>64240</th>\n",
       "      <td>22788</td>\n",
       "      <td>8771</td>\n",
       "      <td>0.0</td>\n",
       "    </tr>\n",
       "    <tr>\n",
       "      <th>64241</th>\n",
       "      <td>45935</td>\n",
       "      <td>25373</td>\n",
       "      <td>0.0</td>\n",
       "    </tr>\n",
       "    <tr>\n",
       "      <th>64242</th>\n",
       "      <td>37682</td>\n",
       "      <td>14441</td>\n",
       "      <td>0.0</td>\n",
       "    </tr>\n",
       "  </tbody>\n",
       "</table>\n",
       "<p>52782 rows × 3 columns</p>\n",
       "</div>"
      ],
      "text/plain": [
       "       userID  itemID  prediction\n",
       "1       21509   18569         0.0\n",
       "2       26600   30712         0.0\n",
       "4       24698   16294         0.0\n",
       "5       28320   25129         0.0\n",
       "7       42987   12716         0.0\n",
       "...       ...     ...         ...\n",
       "64238   20305   21387         0.0\n",
       "64239   13714   19959         0.0\n",
       "64240   22788    8771         0.0\n",
       "64241   45935   25373         0.0\n",
       "64242   37682   14441         0.0\n",
       "\n",
       "[52782 rows x 3 columns]"
      ]
     },
     "execution_count": 4,
     "metadata": {},
     "output_type": "execute_result"
    }
   ],
   "source": [
    "X_0 = train_set[train_set['prediction'] == 0]\n",
    "X_0"
   ]
  },
  {
   "cell_type": "markdown",
   "id": "57c9bb2a",
   "metadata": {},
   "source": [
    "### Splitting train_set and test_set into X_train, y_train, X_test, y_test"
   ]
  },
  {
   "cell_type": "code",
   "execution_count": 3,
   "id": "4c315dd5",
   "metadata": {},
   "outputs": [],
   "source": [
    "X_train = train_set.drop(columns=['prediction'])\n",
    "y_train = train_set['prediction']\n",
    "\n",
    "X_test = test_set.drop(columns = ['prediction'])\n",
    "y_test = test_set['prediction']"
   ]
  },
  {
   "cell_type": "code",
   "execution_count": 4,
   "id": "c209b259",
   "metadata": {},
   "outputs": [
    {
     "data": {
      "text/html": [
       "<div>\n",
       "<style scoped>\n",
       "    .dataframe tbody tr th:only-of-type {\n",
       "        vertical-align: middle;\n",
       "    }\n",
       "\n",
       "    .dataframe tbody tr th {\n",
       "        vertical-align: top;\n",
       "    }\n",
       "\n",
       "    .dataframe thead th {\n",
       "        text-align: right;\n",
       "    }\n",
       "</style>\n",
       "<table border=\"1\" class=\"dataframe\">\n",
       "  <thead>\n",
       "    <tr style=\"text-align: right;\">\n",
       "      <th></th>\n",
       "      <th>userID</th>\n",
       "      <th>itemID</th>\n",
       "    </tr>\n",
       "  </thead>\n",
       "  <tbody>\n",
       "    <tr>\n",
       "      <th>0</th>\n",
       "      <td>45301</td>\n",
       "      <td>461</td>\n",
       "    </tr>\n",
       "    <tr>\n",
       "      <th>1</th>\n",
       "      <td>21509</td>\n",
       "      <td>18569</td>\n",
       "    </tr>\n",
       "    <tr>\n",
       "      <th>2</th>\n",
       "      <td>26600</td>\n",
       "      <td>30712</td>\n",
       "    </tr>\n",
       "    <tr>\n",
       "      <th>3</th>\n",
       "      <td>2</td>\n",
       "      <td>23476</td>\n",
       "    </tr>\n",
       "    <tr>\n",
       "      <th>4</th>\n",
       "      <td>24698</td>\n",
       "      <td>16294</td>\n",
       "    </tr>\n",
       "    <tr>\n",
       "      <th>...</th>\n",
       "      <td>...</td>\n",
       "      <td>...</td>\n",
       "    </tr>\n",
       "    <tr>\n",
       "      <th>64238</th>\n",
       "      <td>20305</td>\n",
       "      <td>21387</td>\n",
       "    </tr>\n",
       "    <tr>\n",
       "      <th>64239</th>\n",
       "      <td>13714</td>\n",
       "      <td>19959</td>\n",
       "    </tr>\n",
       "    <tr>\n",
       "      <th>64240</th>\n",
       "      <td>22788</td>\n",
       "      <td>8771</td>\n",
       "    </tr>\n",
       "    <tr>\n",
       "      <th>64241</th>\n",
       "      <td>45935</td>\n",
       "      <td>25373</td>\n",
       "    </tr>\n",
       "    <tr>\n",
       "      <th>64242</th>\n",
       "      <td>37682</td>\n",
       "      <td>14441</td>\n",
       "    </tr>\n",
       "  </tbody>\n",
       "</table>\n",
       "<p>64243 rows × 2 columns</p>\n",
       "</div>"
      ],
      "text/plain": [
       "       userID  itemID\n",
       "0       45301     461\n",
       "1       21509   18569\n",
       "2       26600   30712\n",
       "3           2   23476\n",
       "4       24698   16294\n",
       "...       ...     ...\n",
       "64238   20305   21387\n",
       "64239   13714   19959\n",
       "64240   22788    8771\n",
       "64241   45935   25373\n",
       "64242   37682   14441\n",
       "\n",
       "[64243 rows x 2 columns]"
      ]
     },
     "execution_count": 4,
     "metadata": {},
     "output_type": "execute_result"
    }
   ],
   "source": [
    "X_train"
   ]
  },
  {
   "cell_type": "markdown",
   "id": "5435da1a",
   "metadata": {},
   "source": [
    "### Merging X_train, X_test with features"
   ]
  },
  {
   "cell_type": "code",
   "execution_count": 5,
   "id": "86af8ef3",
   "metadata": {},
   "outputs": [
    {
     "data": {
      "text/html": [
       "<div>\n",
       "<style scoped>\n",
       "    .dataframe tbody tr th:only-of-type {\n",
       "        vertical-align: middle;\n",
       "    }\n",
       "\n",
       "    .dataframe tbody tr th {\n",
       "        vertical-align: top;\n",
       "    }\n",
       "\n",
       "    .dataframe thead th {\n",
       "        text-align: right;\n",
       "    }\n",
       "</style>\n",
       "<table border=\"1\" class=\"dataframe\">\n",
       "  <thead>\n",
       "    <tr style=\"text-align: right;\">\n",
       "      <th></th>\n",
       "      <th>userID</th>\n",
       "      <th>itemID</th>\n",
       "      <th>average_cycle(weeks)</th>\n",
       "      <th>first_week_bought</th>\n",
       "      <th>last_week_bought</th>\n",
       "    </tr>\n",
       "  </thead>\n",
       "  <tbody>\n",
       "    <tr>\n",
       "      <th>0</th>\n",
       "      <td>0</td>\n",
       "      <td>1505</td>\n",
       "      <td>0.0</td>\n",
       "      <td>14</td>\n",
       "      <td>14</td>\n",
       "    </tr>\n",
       "    <tr>\n",
       "      <th>1</th>\n",
       "      <td>0</td>\n",
       "      <td>6446</td>\n",
       "      <td>0.0</td>\n",
       "      <td>28</td>\n",
       "      <td>28</td>\n",
       "    </tr>\n",
       "    <tr>\n",
       "      <th>3</th>\n",
       "      <td>0</td>\n",
       "      <td>9325</td>\n",
       "      <td>0.0</td>\n",
       "      <td>25</td>\n",
       "      <td>25</td>\n",
       "    </tr>\n",
       "    <tr>\n",
       "      <th>4</th>\n",
       "      <td>0</td>\n",
       "      <td>12468</td>\n",
       "      <td>0.0</td>\n",
       "      <td>10</td>\n",
       "      <td>10</td>\n",
       "    </tr>\n",
       "    <tr>\n",
       "      <th>5</th>\n",
       "      <td>0</td>\n",
       "      <td>12505</td>\n",
       "      <td>0.0</td>\n",
       "      <td>12</td>\n",
       "      <td>12</td>\n",
       "    </tr>\n",
       "    <tr>\n",
       "      <th>...</th>\n",
       "      <td>...</td>\n",
       "      <td>...</td>\n",
       "      <td>...</td>\n",
       "      <td>...</td>\n",
       "      <td>...</td>\n",
       "    </tr>\n",
       "    <tr>\n",
       "      <th>1071011</th>\n",
       "      <td>46137</td>\n",
       "      <td>2667</td>\n",
       "      <td>0.0</td>\n",
       "      <td>16</td>\n",
       "      <td>16</td>\n",
       "    </tr>\n",
       "    <tr>\n",
       "      <th>1071014</th>\n",
       "      <td>46137</td>\n",
       "      <td>20209</td>\n",
       "      <td>0.0</td>\n",
       "      <td>10</td>\n",
       "      <td>10</td>\n",
       "    </tr>\n",
       "    <tr>\n",
       "      <th>1071017</th>\n",
       "      <td>46137</td>\n",
       "      <td>28343</td>\n",
       "      <td>0.0</td>\n",
       "      <td>10</td>\n",
       "      <td>10</td>\n",
       "    </tr>\n",
       "    <tr>\n",
       "      <th>1071018</th>\n",
       "      <td>46137</td>\n",
       "      <td>28900</td>\n",
       "      <td>0.0</td>\n",
       "      <td>10</td>\n",
       "      <td>10</td>\n",
       "    </tr>\n",
       "    <tr>\n",
       "      <th>1071019</th>\n",
       "      <td>46137</td>\n",
       "      <td>32292</td>\n",
       "      <td>0.0</td>\n",
       "      <td>10</td>\n",
       "      <td>10</td>\n",
       "    </tr>\n",
       "  </tbody>\n",
       "</table>\n",
       "<p>784055 rows × 5 columns</p>\n",
       "</div>"
      ],
      "text/plain": [
       "         userID  itemID  average_cycle(weeks)  first_week_bought  \\\n",
       "0             0    1505                   0.0                 14   \n",
       "1             0    6446                   0.0                 28   \n",
       "3             0    9325                   0.0                 25   \n",
       "4             0   12468                   0.0                 10   \n",
       "5             0   12505                   0.0                 12   \n",
       "...         ...     ...                   ...                ...   \n",
       "1071011   46137    2667                   0.0                 16   \n",
       "1071014   46137   20209                   0.0                 10   \n",
       "1071017   46137   28343                   0.0                 10   \n",
       "1071018   46137   28900                   0.0                 10   \n",
       "1071019   46137   32292                   0.0                 10   \n",
       "\n",
       "         last_week_bought  \n",
       "0                      14  \n",
       "1                      28  \n",
       "3                      25  \n",
       "4                      10  \n",
       "5                      12  \n",
       "...                   ...  \n",
       "1071011                16  \n",
       "1071014                10  \n",
       "1071017                10  \n",
       "1071018                10  \n",
       "1071019                10  \n",
       "\n",
       "[784055 rows x 5 columns]"
      ]
     },
     "execution_count": 5,
     "metadata": {},
     "output_type": "execute_result"
    }
   ],
   "source": [
    "features = pd.read_csv('IU_FEAT_AverageCycle.csv', index_col = 0)\n",
    "features"
   ]
  },
  {
   "cell_type": "code",
   "execution_count": 6,
   "id": "4b63eea0",
   "metadata": {},
   "outputs": [
    {
     "data": {
      "text/html": [
       "<div>\n",
       "<style scoped>\n",
       "    .dataframe tbody tr th:only-of-type {\n",
       "        vertical-align: middle;\n",
       "    }\n",
       "\n",
       "    .dataframe tbody tr th {\n",
       "        vertical-align: top;\n",
       "    }\n",
       "\n",
       "    .dataframe thead th {\n",
       "        text-align: right;\n",
       "    }\n",
       "</style>\n",
       "<table border=\"1\" class=\"dataframe\">\n",
       "  <thead>\n",
       "    <tr style=\"text-align: right;\">\n",
       "      <th></th>\n",
       "      <th>userID</th>\n",
       "      <th>itemID</th>\n",
       "      <th>average_cycle(weeks)</th>\n",
       "      <th>first_week_bought</th>\n",
       "      <th>last_week_bought</th>\n",
       "    </tr>\n",
       "  </thead>\n",
       "  <tbody>\n",
       "    <tr>\n",
       "      <th>0</th>\n",
       "      <td>45301</td>\n",
       "      <td>461</td>\n",
       "      <td>12.0</td>\n",
       "      <td>3</td>\n",
       "      <td>27</td>\n",
       "    </tr>\n",
       "    <tr>\n",
       "      <th>1</th>\n",
       "      <td>21509</td>\n",
       "      <td>18569</td>\n",
       "      <td>17.0</td>\n",
       "      <td>12</td>\n",
       "      <td>29</td>\n",
       "    </tr>\n",
       "    <tr>\n",
       "      <th>2</th>\n",
       "      <td>26600</td>\n",
       "      <td>30712</td>\n",
       "      <td>9.0</td>\n",
       "      <td>2</td>\n",
       "      <td>11</td>\n",
       "    </tr>\n",
       "    <tr>\n",
       "      <th>3</th>\n",
       "      <td>2</td>\n",
       "      <td>23476</td>\n",
       "      <td>12.0</td>\n",
       "      <td>5</td>\n",
       "      <td>17</td>\n",
       "    </tr>\n",
       "    <tr>\n",
       "      <th>4</th>\n",
       "      <td>24698</td>\n",
       "      <td>16294</td>\n",
       "      <td>3.0</td>\n",
       "      <td>19</td>\n",
       "      <td>22</td>\n",
       "    </tr>\n",
       "    <tr>\n",
       "      <th>...</th>\n",
       "      <td>...</td>\n",
       "      <td>...</td>\n",
       "      <td>...</td>\n",
       "      <td>...</td>\n",
       "      <td>...</td>\n",
       "    </tr>\n",
       "    <tr>\n",
       "      <th>64238</th>\n",
       "      <td>20305</td>\n",
       "      <td>21387</td>\n",
       "      <td>23.0</td>\n",
       "      <td>2</td>\n",
       "      <td>25</td>\n",
       "    </tr>\n",
       "    <tr>\n",
       "      <th>64239</th>\n",
       "      <td>13714</td>\n",
       "      <td>19959</td>\n",
       "      <td>23.0</td>\n",
       "      <td>5</td>\n",
       "      <td>28</td>\n",
       "    </tr>\n",
       "    <tr>\n",
       "      <th>64240</th>\n",
       "      <td>22788</td>\n",
       "      <td>8771</td>\n",
       "      <td>7.0</td>\n",
       "      <td>12</td>\n",
       "      <td>19</td>\n",
       "    </tr>\n",
       "    <tr>\n",
       "      <th>64241</th>\n",
       "      <td>45935</td>\n",
       "      <td>25373</td>\n",
       "      <td>29.0</td>\n",
       "      <td>2</td>\n",
       "      <td>31</td>\n",
       "    </tr>\n",
       "    <tr>\n",
       "      <th>64242</th>\n",
       "      <td>37682</td>\n",
       "      <td>14441</td>\n",
       "      <td>2.0</td>\n",
       "      <td>8</td>\n",
       "      <td>14</td>\n",
       "    </tr>\n",
       "  </tbody>\n",
       "</table>\n",
       "<p>64243 rows × 5 columns</p>\n",
       "</div>"
      ],
      "text/plain": [
       "       userID  itemID  average_cycle(weeks)  first_week_bought  \\\n",
       "0       45301     461                  12.0                  3   \n",
       "1       21509   18569                  17.0                 12   \n",
       "2       26600   30712                   9.0                  2   \n",
       "3           2   23476                  12.0                  5   \n",
       "4       24698   16294                   3.0                 19   \n",
       "...       ...     ...                   ...                ...   \n",
       "64238   20305   21387                  23.0                  2   \n",
       "64239   13714   19959                  23.0                  5   \n",
       "64240   22788    8771                   7.0                 12   \n",
       "64241   45935   25373                  29.0                  2   \n",
       "64242   37682   14441                   2.0                  8   \n",
       "\n",
       "       last_week_bought  \n",
       "0                    27  \n",
       "1                    29  \n",
       "2                    11  \n",
       "3                    17  \n",
       "4                    22  \n",
       "...                 ...  \n",
       "64238                25  \n",
       "64239                28  \n",
       "64240                19  \n",
       "64241                31  \n",
       "64242                14  \n",
       "\n",
       "[64243 rows x 5 columns]"
      ]
     },
     "execution_count": 6,
     "metadata": {},
     "output_type": "execute_result"
    }
   ],
   "source": [
    "X_train_feat = X_train.merge(features, how = 'inner', on = ['userID', 'itemID'])\n",
    "X_test_feat = X_test.merge(features, how = 'inner', on = ['userID', 'itemID'])\n",
    "X_train_feat"
   ]
  },
  {
   "cell_type": "code",
   "execution_count": 7,
   "id": "b891140f",
   "metadata": {},
   "outputs": [
    {
     "data": {
      "text/html": [
       "<div>\n",
       "<style scoped>\n",
       "    .dataframe tbody tr th:only-of-type {\n",
       "        vertical-align: middle;\n",
       "    }\n",
       "\n",
       "    .dataframe tbody tr th {\n",
       "        vertical-align: top;\n",
       "    }\n",
       "\n",
       "    .dataframe thead th {\n",
       "        text-align: right;\n",
       "    }\n",
       "</style>\n",
       "<table border=\"1\" class=\"dataframe\">\n",
       "  <thead>\n",
       "    <tr style=\"text-align: right;\">\n",
       "      <th></th>\n",
       "      <th>userID</th>\n",
       "      <th>itemID</th>\n",
       "      <th>average_cycle(weeks)</th>\n",
       "      <th>first_week_bought</th>\n",
       "      <th>last_week_bought</th>\n",
       "    </tr>\n",
       "  </thead>\n",
       "  <tbody>\n",
       "    <tr>\n",
       "      <th>0</th>\n",
       "      <td>27630</td>\n",
       "      <td>29657</td>\n",
       "      <td>6.33</td>\n",
       "      <td>4</td>\n",
       "      <td>23</td>\n",
       "    </tr>\n",
       "    <tr>\n",
       "      <th>1</th>\n",
       "      <td>45037</td>\n",
       "      <td>15445</td>\n",
       "      <td>12.00</td>\n",
       "      <td>12</td>\n",
       "      <td>24</td>\n",
       "    </tr>\n",
       "    <tr>\n",
       "      <th>2</th>\n",
       "      <td>40558</td>\n",
       "      <td>24405</td>\n",
       "      <td>10.00</td>\n",
       "      <td>5</td>\n",
       "      <td>15</td>\n",
       "    </tr>\n",
       "    <tr>\n",
       "      <th>3</th>\n",
       "      <td>40577</td>\n",
       "      <td>17489</td>\n",
       "      <td>14.00</td>\n",
       "      <td>1</td>\n",
       "      <td>15</td>\n",
       "    </tr>\n",
       "    <tr>\n",
       "      <th>4</th>\n",
       "      <td>2449</td>\n",
       "      <td>5557</td>\n",
       "      <td>11.00</td>\n",
       "      <td>14</td>\n",
       "      <td>25</td>\n",
       "    </tr>\n",
       "    <tr>\n",
       "      <th>...</th>\n",
       "      <td>...</td>\n",
       "      <td>...</td>\n",
       "      <td>...</td>\n",
       "      <td>...</td>\n",
       "      <td>...</td>\n",
       "    </tr>\n",
       "    <tr>\n",
       "      <th>27529</th>\n",
       "      <td>28263</td>\n",
       "      <td>2787</td>\n",
       "      <td>18.00</td>\n",
       "      <td>7</td>\n",
       "      <td>25</td>\n",
       "    </tr>\n",
       "    <tr>\n",
       "      <th>27530</th>\n",
       "      <td>16224</td>\n",
       "      <td>8302</td>\n",
       "      <td>10.00</td>\n",
       "      <td>7</td>\n",
       "      <td>17</td>\n",
       "    </tr>\n",
       "    <tr>\n",
       "      <th>27531</th>\n",
       "      <td>11328</td>\n",
       "      <td>7546</td>\n",
       "      <td>8.00</td>\n",
       "      <td>19</td>\n",
       "      <td>27</td>\n",
       "    </tr>\n",
       "    <tr>\n",
       "      <th>27532</th>\n",
       "      <td>8262</td>\n",
       "      <td>11434</td>\n",
       "      <td>10.00</td>\n",
       "      <td>14</td>\n",
       "      <td>24</td>\n",
       "    </tr>\n",
       "    <tr>\n",
       "      <th>27533</th>\n",
       "      <td>1295</td>\n",
       "      <td>5963</td>\n",
       "      <td>12.00</td>\n",
       "      <td>13</td>\n",
       "      <td>25</td>\n",
       "    </tr>\n",
       "  </tbody>\n",
       "</table>\n",
       "<p>27534 rows × 5 columns</p>\n",
       "</div>"
      ],
      "text/plain": [
       "       userID  itemID  average_cycle(weeks)  first_week_bought  \\\n",
       "0       27630   29657                  6.33                  4   \n",
       "1       45037   15445                 12.00                 12   \n",
       "2       40558   24405                 10.00                  5   \n",
       "3       40577   17489                 14.00                  1   \n",
       "4        2449    5557                 11.00                 14   \n",
       "...       ...     ...                   ...                ...   \n",
       "27529   28263    2787                 18.00                  7   \n",
       "27530   16224    8302                 10.00                  7   \n",
       "27531   11328    7546                  8.00                 19   \n",
       "27532    8262   11434                 10.00                 14   \n",
       "27533    1295    5963                 12.00                 13   \n",
       "\n",
       "       last_week_bought  \n",
       "0                    23  \n",
       "1                    24  \n",
       "2                    15  \n",
       "3                    15  \n",
       "4                    25  \n",
       "...                 ...  \n",
       "27529                25  \n",
       "27530                17  \n",
       "27531                27  \n",
       "27532                24  \n",
       "27533                25  \n",
       "\n",
       "[27534 rows x 5 columns]"
      ]
     },
     "execution_count": 7,
     "metadata": {},
     "output_type": "execute_result"
    }
   ],
   "source": [
    "X_test_feat"
   ]
  },
  {
   "cell_type": "markdown",
   "id": "cd1c3621",
   "metadata": {},
   "source": [
    "# Training Model\n",
    "- using features: userID, itemID, average_cycle(weeks),first_week_bought,last_week_bought\n",
    "- y is prediction column"
   ]
  },
  {
   "cell_type": "markdown",
   "id": "8305732a",
   "metadata": {},
   "source": [
    "### Feature scaling"
   ]
  },
  {
   "cell_type": "code",
   "execution_count": 8,
   "id": "29d63c22",
   "metadata": {},
   "outputs": [],
   "source": [
    "from sklearn.preprocessing import StandardScaler\n",
    "sc = StandardScaler()\n",
    "X_train_feat = sc.fit_transform(X_train_feat)\n",
    "X_test_feat = sc.transform(X_test_feat)"
   ]
  },
  {
   "cell_type": "code",
   "execution_count": 9,
   "id": "2cc24541",
   "metadata": {},
   "outputs": [
    {
     "name": "stdout",
     "output_type": "stream",
     "text": [
      "[[ 1.66250589 -1.6993443   0.18412886 -0.93296528  0.59465381]\n",
      " [-0.12077432  0.21022845  1.01813744  0.44631539  0.91259997]\n",
      " [ 0.26081107  1.49076423 -0.31627628 -1.08621869 -1.94891551]\n",
      " ...\n",
      " [-0.02490951 -0.82301618 -0.64987971  0.44631539 -0.67713085]\n",
      " [ 1.71002605  0.92774187  3.01975802 -1.08621869  1.23054614]\n",
      " [ 1.09143949 -0.22508833 -1.48388829 -0.16669824 -1.47199627]]\n"
     ]
    }
   ],
   "source": [
    "print(X_train_feat)"
   ]
  },
  {
   "cell_type": "code",
   "execution_count": 10,
   "id": "0479aeea",
   "metadata": {},
   "outputs": [
    {
     "name": "stdout",
     "output_type": "stream",
     "text": [
      "[[ 0.33801259  1.37950958 -0.76163686 -0.77971187 -0.04123852]\n",
      " [ 1.64271832 -0.11921187  0.18412886  0.44631539  0.11773456]\n",
      " [ 1.30700412  0.82566177 -0.14947457 -0.62645846 -1.31302318]\n",
      " ...\n",
      " [-0.88387014 -0.95219812 -0.483078    1.51908925  0.59465381]\n",
      " [-1.11367584 -0.54219046 -0.14947457  0.75282221  0.11773456]\n",
      " [-1.63587293 -1.11913283  0.18412886  0.5995688   0.27670764]]\n"
     ]
    }
   ],
   "source": [
    "print(X_test_feat)"
   ]
  },
  {
   "cell_type": "markdown",
   "id": "cf6abfa7",
   "metadata": {},
   "source": [
    "# I. Random Forest Classification Model"
   ]
  },
  {
   "cell_type": "markdown",
   "id": "b3cf3eb8",
   "metadata": {},
   "source": [
    "### Training the Random Forest Classification model on the Training set"
   ]
  },
  {
   "cell_type": "code",
   "execution_count": 14,
   "id": "3d343abc",
   "metadata": {},
   "outputs": [
    {
     "data": {
      "text/plain": [
       "RandomForestClassifier(criterion='entropy', n_estimators=10, random_state=0)"
      ]
     },
     "execution_count": 14,
     "metadata": {},
     "output_type": "execute_result"
    }
   ],
   "source": [
    "from sklearn.ensemble import RandomForestClassifier\n",
    "classifier = RandomForestClassifier(n_estimators = 10, criterion = 'entropy', random_state = 0)\n",
    "classifier.fit(X_train_feat, y_train)"
   ]
  },
  {
   "cell_type": "markdown",
   "id": "34bb5f31",
   "metadata": {},
   "source": [
    "### Predicting the test set result"
   ]
  },
  {
   "cell_type": "code",
   "execution_count": 15,
   "id": "0667bc9e",
   "metadata": {},
   "outputs": [],
   "source": [
    "y_pred = classifier.predict(X_test_feat)\n"
   ]
  },
  {
   "cell_type": "markdown",
   "id": "8f459142",
   "metadata": {},
   "source": [
    "### Making confusion matrix and calculating accuracy score"
   ]
  },
  {
   "cell_type": "code",
   "execution_count": 16,
   "id": "b94705d5",
   "metadata": {},
   "outputs": [
    {
     "name": "stdout",
     "output_type": "stream",
     "text": [
      "Confusion matrix:\n",
      "[[21987   176   121   178   178]\n",
      " [ 1051    40    31    31    24]\n",
      " [ 1021    21    34    29    22]\n",
      " [ 1083    22    24    47    33]\n",
      " [ 1249    23    33    35    41]]\n",
      "Accuracy score: 0.804423621704075\n",
      "Precision score: [0.83312493 0.14184397 0.1399177  0.146875   0.13758389]\n",
      "Recall score: [0.97115724 0.03398471 0.03016859 0.0388751  0.02968863]\n",
      "f1 score: [0.89686117 0.05483208 0.04963504 0.06147809 0.04883859]\n"
     ]
    }
   ],
   "source": [
    "cm = confusion_matrix(y_test, y_pred)\n",
    "print(\"Confusion matrix:\")\n",
    "print(cm)\n",
    "ac = accuracy_score(y_test, y_pred)\n",
    "print(f\"Accuracy score: {ac}\")\n",
    "\n",
    "preci = precision_score(y_test, y_pred, average = None)\n",
    "print(f\"Precision score: {preci}\")\n",
    "\n",
    "recall = recall_score(y_test, y_pred, average = None)\n",
    "print(f\"Recall score: {recall}\")\n",
    "\n",
    "f1_sc = f1_score(y_test, y_pred, average = None)\n",
    "print(f\"f1 score: {f1_sc}\")"
   ]
  },
  {
   "cell_type": "markdown",
   "id": "2183b48e",
   "metadata": {},
   "source": [
    "# II. Decision Tree Classification Model "
   ]
  },
  {
   "cell_type": "markdown",
   "id": "c6e9d514",
   "metadata": {},
   "source": [
    "### Training the Decision Tree Classification model on the Training set"
   ]
  },
  {
   "cell_type": "code",
   "execution_count": 17,
   "id": "3117bf3a",
   "metadata": {},
   "outputs": [
    {
     "data": {
      "text/plain": [
       "DecisionTreeClassifier(criterion='entropy', random_state=0)"
      ]
     },
     "execution_count": 17,
     "metadata": {},
     "output_type": "execute_result"
    }
   ],
   "source": [
    "from sklearn.tree import DecisionTreeClassifier\n",
    "cl_tree = DecisionTreeClassifier(criterion = 'entropy', random_state = 0)\n",
    "cl_tree.fit(X_train_feat, y_train)"
   ]
  },
  {
   "cell_type": "markdown",
   "id": "ab8ca12e",
   "metadata": {},
   "source": [
    "### Predicting the test set result"
   ]
  },
  {
   "cell_type": "code",
   "execution_count": 18,
   "id": "f8b8a692",
   "metadata": {},
   "outputs": [],
   "source": [
    "y_pred_tree = cl_tree.predict(X_test_feat)"
   ]
  },
  {
   "cell_type": "markdown",
   "id": "3cd34339",
   "metadata": {},
   "source": [
    "### Making the confusion matrix"
   ]
  },
  {
   "cell_type": "code",
   "execution_count": 19,
   "id": "74ca2772",
   "metadata": {},
   "outputs": [
    {
     "name": "stdout",
     "output_type": "stream",
     "text": [
      "Confusion matrix:\n",
      "[[18722   891   868  1004  1155]\n",
      " [  822   110    86    84    75]\n",
      " [  762    85   108    95    77]\n",
      " [  827    75    88   130    89]\n",
      " [ 1003    75    76    90   137]]\n",
      "Accuracy score: 0.6975739086220673\n",
      "Precision score: [0.84577159 0.08899676 0.08809135 0.09265859 0.08936725]\n",
      "Recall score: [0.82694346 0.09345794 0.09582964 0.10752688 0.09920348]\n",
      "f1 score: [0.83625156 0.09117281 0.09179771 0.09954058 0.09402883]\n"
     ]
    }
   ],
   "source": [
    "cm_tree = confusion_matrix(y_test, y_pred_tree)\n",
    "print('Confusion matrix:')\n",
    "print(cm_tree)\n",
    "\n",
    "ac_tree = accuracy_score(y_test, y_pred_tree)\n",
    "print(f\"Accuracy score: {ac_tree}\")\n",
    "\n",
    "preci_tree = precision_score(y_test, y_pred_tree, average = None)\n",
    "print(f\"Precision score: {preci_tree}\")\n",
    "\n",
    "recall_tree = recall_score(y_test, y_pred_tree, average = None)\n",
    "print(f\"Recall score: {recall_tree}\")\n",
    "\n",
    "f1_sc_tree = f1_score(y_test, y_pred_tree, average = None)\n",
    "print(f\"f1 score: {f1_sc_tree}\")"
   ]
  },
  {
   "cell_type": "markdown",
   "id": "0323265f",
   "metadata": {},
   "source": [
    "### Using GridSearchCV"
   ]
  },
  {
   "cell_type": "code",
   "execution_count": 20,
   "id": "72760997",
   "metadata": {},
   "outputs": [
    {
     "data": {
      "text/plain": [
       "{'criterion': 'gini',\n",
       " 'max_depth': 2,\n",
       " 'max_leaf_nodes': 2,\n",
       " 'min_samples_leaf': 1,\n",
       " 'min_samples_split': 2}"
      ]
     },
     "execution_count": 20,
     "metadata": {},
     "output_type": "execute_result"
    }
   ],
   "source": [
    "# Code of Leon\n",
    "from sklearn.model_selection import GridSearchCV\n",
    "dTree = DecisionTreeClassifier()\n",
    "params = {'criterion' : ['gini', 'entropy'], \n",
    "          'min_samples_split' : np.arange(2, 5),\n",
    "          'min_samples_leaf' : np.arange(1, 3),\n",
    "          'max_leaf_nodes' : np.arange(2, 5),\n",
    "          'max_depth' : np.arange(2, 5)}\n",
    "clf = GridSearchCV(estimator=dTree, param_grid=params, error_score='raise', n_jobs=-1)\n",
    "clf.fit(X_train_feat, y_train)\n",
    "clf.best_params_"
   ]
  },
  {
   "cell_type": "code",
   "execution_count": 21,
   "id": "973f41e3",
   "metadata": {},
   "outputs": [
    {
     "name": "stdout",
     "output_type": "stream",
     "text": [
      "The accuracy of the constant 0 predictor is 82.23%\n",
      "The accuracy of the constant 1 predictor is 4.27%\n",
      "The accuracy of the constant 2 predictor is 4.09%\n",
      "The accuracy of the constant 3 predictor is 4.39%\n",
      "The accuracy of the constant 4 predictor is 5.02%\n",
      "Our model prediction baseline will therefore be 82.23%\n"
     ]
    }
   ],
   "source": [
    "amt_correct_0 = y_test[y_test == 0].shape[0]\n",
    "amt_correct_1 = y_test[y_test == 1].shape[0]\n",
    "amt_correct_2 = y_test[y_test == 2].shape[0]\n",
    "amt_correct_3 = y_test[y_test == 3].shape[0]\n",
    "amt_correct_4 = y_test[y_test == 4].shape[0]\n",
    "\n",
    "acc_0 = amt_correct_0 / y_test.shape[0] * 100\n",
    "acc_1 = amt_correct_1 / y_test.shape[0] * 100\n",
    "acc_2 = amt_correct_2 / y_test.shape[0] * 100\n",
    "acc_3 = amt_correct_3 / y_test.shape[0] * 100\n",
    "acc_4 = amt_correct_4 / y_test.shape[0] * 100\n",
    "\n",
    "print(f'The accuracy of the constant 0 predictor is {acc_0:.2f}%')\n",
    "print(f'The accuracy of the constant 1 predictor is {acc_1:.2f}%')\n",
    "print(f'The accuracy of the constant 2 predictor is {acc_2:.2f}%')\n",
    "print(f'The accuracy of the constant 3 predictor is {acc_3:.2f}%')\n",
    "print(f'The accuracy of the constant 4 predictor is {acc_4:.2f}%')\n",
    "print(f'Our model prediction baseline will therefore be {max(acc_0, acc_1, acc_2, acc_3, acc_4):.2f}%')"
   ]
  },
  {
   "cell_type": "code",
   "execution_count": 22,
   "id": "df634bd8",
   "metadata": {},
   "outputs": [
    {
     "data": {
      "image/png": "[encoded data removed]",
      "text/plain": [
       "<Figure size 720x576 with 1 Axes>"
      ]
     },
     "metadata": {
      "needs_background": "light"
     },
     "output_type": "display_data"
    }
   ],
   "source": [
    "from sklearn import tree\n",
    "fig = plt.figure(figsize=(10, 8))\n",
    "_ = tree.plot_tree(clf.best_estimator_, \n",
    "                   feature_names = np.array(features.columns),  \n",
    "                   class_names=[\"0\", \"1\", '2', '3', '4'],\n",
    "                   filled=True)"
   ]
  },
  {
   "cell_type": "markdown",
   "id": "99127675",
   "metadata": {},
   "source": [
    "# III. Support Vector Machine Model"
   ]
  },
  {
   "cell_type": "markdown",
   "id": "99cf7579",
   "metadata": {},
   "source": [
    "### Training the SVM model on the Training set"
   ]
  },
  {
   "cell_type": "code",
   "execution_count": 23,
   "id": "144026b2",
   "metadata": {},
   "outputs": [
    {
     "data": {
      "text/plain": [
       "SVC(kernel='linear', random_state=0)"
      ]
     },
     "execution_count": 23,
     "metadata": {},
     "output_type": "execute_result"
    }
   ],
   "source": [
    "from sklearn.svm import SVC\n",
    "cl_svm = SVC(kernel='linear', random_state=0)\n",
    "cl_svm.fit(X_train_feat, y_train)"
   ]
  },
  {
   "cell_type": "markdown",
   "id": "3d975440",
   "metadata": {},
   "source": [
    "### Predicting the test set result"
   ]
  },
  {
   "cell_type": "code",
   "execution_count": 24,
   "id": "0ee295b2",
   "metadata": {},
   "outputs": [],
   "source": [
    "y_pred_svm = cl_svm.predict(X_test_feat)"
   ]
  },
  {
   "cell_type": "markdown",
   "id": "15ff3805",
   "metadata": {},
   "source": [
    "### Making confusion matrix and calculating accuracy score"
   ]
  },
  {
   "cell_type": "code",
   "execution_count": 25,
   "id": "fac6875f",
   "metadata": {},
   "outputs": [
    {
     "name": "stdout",
     "output_type": "stream",
     "text": [
      "Confusion matrix:\n",
      "[[22640     0     0     0     0]\n",
      " [ 1177     0     0     0     0]\n",
      " [ 1127     0     0     0     0]\n",
      " [ 1209     0     0     0     0]\n",
      " [ 1381     0     0     0     0]]\n",
      "Accuracy score: 0.8222561197065447\n",
      "Precision score: [0.82225612 0.         0.         0.         0.        ]\n",
      "Recall score: [1. 0. 0. 0. 0.]\n",
      "f1 score: [0.90245944 0.         0.         0.         0.        ]\n"
     ]
    },
    {
     "name": "stderr",
     "output_type": "stream",
     "text": [
      "C:\\Users\\dream\\anaconda3\\lib\\site-packages\\sklearn\\metrics\\_classification.py:1245: UndefinedMetricWarning: Precision is ill-defined and being set to 0.0 in labels with no predicted samples. Use `zero_division` parameter to control this behavior.\n",
      "  _warn_prf(average, modifier, msg_start, len(result))\n"
     ]
    }
   ],
   "source": [
    "cm_svm = confusion_matrix(y_test, y_pred_svm)\n",
    "print('Confusion matrix:')\n",
    "print(cm_svm)\n",
    "\n",
    "ac_svm = accuracy_score(y_test, y_pred_svm)\n",
    "print(f\"Accuracy score: {ac_svm}\")\n",
    "\n",
    "preci_svm = precision_score(y_test, y_pred_svm, average = None)\n",
    "print(f\"Precision score: {preci_svm}\")\n",
    "\n",
    "recall_svm = recall_score(y_test, y_pred_svm, average = None)\n",
    "print(f\"Recall score: {recall_svm}\")\n",
    "\n",
    "f1_sc_svm = f1_score(y_test, y_pred_svm, average = None)\n",
    "print(f\"f1 score: {f1_sc_svm}\")"
   ]
  },
  {
   "cell_type": "markdown",
   "id": "6f97180e",
   "metadata": {},
   "source": [
    "# IV. Logistic Regression Model"
   ]
  },
  {
   "cell_type": "markdown",
   "id": "31e5a15d",
   "metadata": {},
   "source": [
    "### Training model on the training set"
   ]
  },
  {
   "cell_type": "code",
   "execution_count": 26,
   "id": "0fd58fe7",
   "metadata": {},
   "outputs": [
    {
     "data": {
      "text/plain": [
       "LogisticRegression(random_state=0)"
      ]
     },
     "execution_count": 26,
     "metadata": {},
     "output_type": "execute_result"
    }
   ],
   "source": [
    "from sklearn.linear_model import LogisticRegression\n",
    "cl_reg = LogisticRegression(random_state = 0)\n",
    "cl_reg.fit(X_train_feat, y_train)"
   ]
  },
  {
   "cell_type": "markdown",
   "id": "8c93f60f",
   "metadata": {},
   "source": [
    "### Predicting the test set result"
   ]
  },
  {
   "cell_type": "code",
   "execution_count": 27,
   "id": "c6dd06f1",
   "metadata": {},
   "outputs": [],
   "source": [
    "y_pred_reg = cl_reg.predict(X_test_feat)"
   ]
  },
  {
   "cell_type": "markdown",
   "id": "a09e34a5",
   "metadata": {},
   "source": [
    "### Making confusion matrix and evaluating scores"
   ]
  },
  {
   "cell_type": "code",
   "execution_count": 28,
   "id": "39c3fa93",
   "metadata": {},
   "outputs": [
    {
     "name": "stdout",
     "output_type": "stream",
     "text": [
      "Confusion matrix:\n",
      "[[22640     0     0     0     0]\n",
      " [ 1177     0     0     0     0]\n",
      " [ 1127     0     0     0     0]\n",
      " [ 1209     0     0     0     0]\n",
      " [ 1381     0     0     0     0]]\n",
      "Accuracy score: 0.8222561197065447\n",
      "Precision score: [0.82225612 0.         0.         0.         0.        ]\n",
      "Recall score: [1. 0. 0. 0. 0.]\n",
      "f1 score: [0.90245944 0.         0.         0.         0.        ]\n"
     ]
    },
    {
     "name": "stderr",
     "output_type": "stream",
     "text": [
      "C:\\Users\\dream\\anaconda3\\lib\\site-packages\\sklearn\\metrics\\_classification.py:1245: UndefinedMetricWarning: Precision is ill-defined and being set to 0.0 in labels with no predicted samples. Use `zero_division` parameter to control this behavior.\n",
      "  _warn_prf(average, modifier, msg_start, len(result))\n"
     ]
    }
   ],
   "source": [
    "cm_reg = confusion_matrix(y_test, y_pred_reg)\n",
    "print('Confusion matrix:')\n",
    "print(cm_reg)\n",
    "\n",
    "ac_reg = accuracy_score(y_test, y_pred_reg)\n",
    "print(f\"Accuracy score: {ac_reg}\")\n",
    "\n",
    "preci_reg = precision_score(y_test, y_pred_reg, average = None)\n",
    "print(f\"Precision score: {preci_reg}\")\n",
    "\n",
    "recall_reg = recall_score(y_test, y_pred_reg, average = None)\n",
    "print(f\"Recall score: {recall_reg}\")\n",
    "\n",
    "f1_sc_reg = f1_score(y_test, y_pred_reg, average = None)\n",
    "print(f\"f1 score: {f1_sc_reg}\")"
   ]
  },
  {
   "cell_type": "markdown",
   "id": "3f8c39ac",
   "metadata": {},
   "source": [
    "# V. K-Nearest Neighbors (KNN) Model"
   ]
  },
  {
   "cell_type": "markdown",
   "id": "dda0c8cb",
   "metadata": {},
   "source": [
    "### Training the model on the training set"
   ]
  },
  {
   "cell_type": "code",
   "execution_count": 29,
   "id": "2fe27566",
   "metadata": {},
   "outputs": [
    {
     "data": {
      "text/plain": [
       "KNeighborsClassifier()"
      ]
     },
     "execution_count": 29,
     "metadata": {},
     "output_type": "execute_result"
    }
   ],
   "source": [
    "from sklearn.neighbors import KNeighborsClassifier\n",
    "cl_knn = KNeighborsClassifier(n_neighbors = 5, metric = 'minkowski', p = 2)\n",
    "cl_knn.fit(X_train_feat, y_train)"
   ]
  },
  {
   "cell_type": "markdown",
   "id": "040272ee",
   "metadata": {},
   "source": [
    "### Predicting the test set result"
   ]
  },
  {
   "cell_type": "code",
   "execution_count": 31,
   "id": "cff05744",
   "metadata": {},
   "outputs": [],
   "source": [
    "y_pred_knn = cl_knn.predict(X_test_feat)"
   ]
  },
  {
   "cell_type": "markdown",
   "id": "0566011f",
   "metadata": {},
   "source": [
    "### Making confusion matrix and evaluating scores"
   ]
  },
  {
   "cell_type": "code",
   "execution_count": 32,
   "id": "2b6c9728",
   "metadata": {},
   "outputs": [
    {
     "name": "stdout",
     "output_type": "stream",
     "text": [
      "Confusion matrix:\n",
      "[[22268    98    85   103    86]\n",
      " [ 1103    23    17    20    14]\n",
      " [ 1053    15    22    23    14]\n",
      " [ 1125    16    19    26    23]\n",
      " [ 1284    18    22    35    22]]\n",
      "Accuracy score: 0.8121231931430232\n",
      "Precision score: [0.82987366 0.13529412 0.13333333 0.12560386 0.13836478]\n",
      "Recall score: [0.9835689  0.01954121 0.01952085 0.02150538 0.01593049]\n",
      "f1 score: [0.90020819 0.03414996 0.03405573 0.03672316 0.02857143]\n"
     ]
    }
   ],
   "source": [
    "cm_knn = confusion_matrix(y_test, y_pred_knn)\n",
    "print('Confusion matrix:')\n",
    "print(cm_knn)\n",
    "\n",
    "ac_knn = accuracy_score(y_test, y_pred_knn)\n",
    "print(f\"Accuracy score: {ac_knn}\")\n",
    "\n",
    "preci_knn = precision_score(y_test, y_pred_knn, average = None)\n",
    "print(f\"Precision score: {preci_knn}\")\n",
    "\n",
    "recall_knn = recall_score(y_test, y_pred_knn, average = None)\n",
    "print(f\"Recall score: {recall_knn}\")\n",
    "\n",
    "f1_sc_knn = f1_score(y_test, y_pred_knn, average = None)\n",
    "print(f\"f1 score: {f1_sc_knn}\")"
   ]
  },
  {
   "cell_type": "markdown",
   "id": "7f9f8316",
   "metadata": {},
   "source": [
    "# VI. Naive Bayes Model"
   ]
  },
  {
   "cell_type": "markdown",
   "id": "cced4076",
   "metadata": {},
   "source": [
    "### Training the model on the training set"
   ]
  },
  {
   "cell_type": "code",
   "execution_count": 33,
   "id": "730ec3fa",
   "metadata": {},
   "outputs": [
    {
     "data": {
      "text/plain": [
       "GaussianNB()"
      ]
     },
     "execution_count": 33,
     "metadata": {},
     "output_type": "execute_result"
    }
   ],
   "source": [
    "from sklearn.naive_bayes import GaussianNB\n",
    "cl_nb = GaussianNB()\n",
    "cl_nb.fit(X_train_feat, y_train)"
   ]
  },
  {
   "cell_type": "markdown",
   "id": "e33937df",
   "metadata": {},
   "source": [
    "### Predicting the test set result"
   ]
  },
  {
   "cell_type": "code",
   "execution_count": 34,
   "id": "0bd620c6",
   "metadata": {},
   "outputs": [],
   "source": [
    "y_pred_nb = cl_nb.predict(X_test_feat)"
   ]
  },
  {
   "cell_type": "markdown",
   "id": "b6ff411b",
   "metadata": {},
   "source": [
    "### Making confusion matrix and evaluating scores"
   ]
  },
  {
   "cell_type": "code",
   "execution_count": 35,
   "id": "14bebd08",
   "metadata": {},
   "outputs": [
    {
     "name": "stdout",
     "output_type": "stream",
     "text": [
      "Confusion matrix:\n",
      "[[22640     0     0     0     0]\n",
      " [ 1177     0     0     0     0]\n",
      " [ 1127     0     0     0     0]\n",
      " [ 1209     0     0     0     0]\n",
      " [ 1381     0     0     0     0]]\n",
      "Accuracy score: 0.8222561197065447\n",
      "Precision score: [0.82225612 0.         0.         0.         0.        ]\n",
      "Recall score: [1. 0. 0. 0. 0.]\n",
      "f1 score: [0.90245944 0.         0.         0.         0.        ]\n"
     ]
    },
    {
     "name": "stderr",
     "output_type": "stream",
     "text": [
      "C:\\Users\\dream\\anaconda3\\lib\\site-packages\\sklearn\\metrics\\_classification.py:1245: UndefinedMetricWarning: Precision is ill-defined and being set to 0.0 in labels with no predicted samples. Use `zero_division` parameter to control this behavior.\n",
      "  _warn_prf(average, modifier, msg_start, len(result))\n"
     ]
    }
   ],
   "source": [
    "cm_nb = confusion_matrix(y_test, y_pred_nb)\n",
    "print('Confusion matrix:')\n",
    "print(cm_nb)\n",
    "\n",
    "ac_nb = accuracy_score(y_test, y_pred_nb)\n",
    "print(f\"Accuracy score: {ac_nb}\")\n",
    "\n",
    "preci_nb = precision_score(y_test, y_pred_nb, average = None)\n",
    "print(f\"Precision score: {preci_nb}\")\n",
    "\n",
    "recall_nb = recall_score(y_test, y_pred_nb, average = None)\n",
    "print(f\"Recall score: {recall_nb}\")\n",
    "\n",
    "f1_sc_nb = f1_score(y_test, y_pred_nb, average = None)\n",
    "print(f\"f1 score: {f1_sc_nb}\")"
   ]
  },
  {
   "cell_type": "code",
   "execution_count": null,
   "id": "1a1649a9",
   "metadata": {},
   "outputs": [],
   "source": []
  }
 ],
 "metadata": {
  "kernelspec": {
   "display_name": "Python 3",
   "language": "python",
   "name": "python3"
  },
  "language_info": {
   "codemirror_mode": {
    "name": "ipython",
    "version": 3
   },
   "file_extension": ".py",
   "mimetype": "text/x-python",
   "name": "python",
   "nbconvert_exporter": "python",
   "pygments_lexer": "ipython3",
   "version": "3.8.8"
  }
 },
 "nbformat": 4,
 "nbformat_minor": 5
}
