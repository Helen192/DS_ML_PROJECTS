{
 "cells": [
  {
   "cell_type": "code",
   "execution_count": 7,
   "id": "5ba53724",
   "metadata": {},
   "outputs": [],
   "source": [
    "import numpy as np\n",
    "import pandas as pd\n",
    "from sklearn.ensemble import RandomForestClassifier\n",
    "from sklearn.model_selection import GridSearchCV\n",
    "from sklearn.tree import DecisionTreeClassifier\n",
    "from sklearn.metrics import confusion_matrix, accuracy_score, precision_score, recall_score, f1_score"
   ]
  },
  {
   "cell_type": "code",
   "execution_count": 8,
   "id": "d6156fb8",
   "metadata": {},
   "outputs": [],
   "source": [
    "# Code from Lars Grönberg\n",
    "def multiclassScore(y: pd.Series, y_pred: pd.Series,normalize :bool = False) -> float:\n",
    "    \"\"\"Calculates the score according to the DMC22 evalution rules for a multiclass prediction and response\n",
    "\n",
    "    Args:\n",
    "        y (pd.Series): true y\n",
    "        y_pred (pd.Series): predicted y\n",
    "        normalize (bool): normalizes the score to a value in [0,1]. Defaults to false.\n",
    "\n",
    "    Returns:\n",
    "        int: Score according to the DMC22 evaluation if normalize is false.\n",
    "        float: Score according to the DMC22 evaluation if normalize is true.\n",
    "    \n",
    "    Example:\n",
    "        >>> ytrue = pd.Series([3,4,0,1,4,2])\n",
    "        >>> ypred = pd.Series([4,4,0.0,0,0,3])\n",
    "        >>> multiclassScore(ytrue,ypred)\n",
    "        6\n",
    "\n",
    "        >>> ytrue = pd.Series([3,4,0,1,4,2])\n",
    "        >>> ypred = pd.Series([4,4,0.0,0,0,3])\n",
    "        >>> multiclassScore(ytrue,ypred,normalize=True)\n",
    "        0.375\n",
    "\n",
    "        >>> ytrue = pd.Series([3,4,0,1,4,2])\n",
    "        >>> ypred = pd.Series([3,4,0,1,4,2])\n",
    "        >>> multiclassScore(ytrue,ypred)\n",
    "        16\n",
    "\n",
    "        >>> ytrue = pd.Series([3,4,0,1,4,2])\n",
    "        >>> ypred = pd.Series([3,4,0,1,4,2])\n",
    "        >>> multiclassScore(ytrue,ypred,normalize=True)\n",
    "        1.0\n",
    "\n",
    "    \"\"\"\n",
    "\n",
    "    if (y.astype(int).apply(lambda x: x in [0,1,2,3,4]).all() == False) or (y_pred.astype(int).apply(lambda x: x in [0,1,2,3,4]).all() == False) :\n",
    "        raise ValueError('y and y_pred are only allowed to contain the elements 0,1,2,3,4')\n",
    "\n",
    "\n",
    "    behaviourY = np.where(y>0,1,0) #1 is buying\n",
    "    behaviourPredY = np.where(y_pred>0,1,0)\n",
    "    correctBehaviour = np.sum(behaviourY == behaviourPredY)\n",
    "\n",
    "    correctPredictionsWeek = np.sum((y == y_pred) & (y > 0))\n",
    "\n",
    "    score = (correctBehaviour-correctPredictionsWeek)*1+correctPredictionsWeek*3\n",
    "\n",
    "    if normalize == True:\n",
    "        maxScore = np.sum((y>0)*3 + (y==0)*1)\n",
    "        return(score/maxScore)\n",
    "    else:\n",
    "        return(score)\n"
   ]
  },
  {
   "cell_type": "code",
   "execution_count": 9,
   "id": "3f6adcf5",
   "metadata": {},
   "outputs": [],
   "source": [
    "train_set = pd.read_csv('train_70_backgroundTrainTestsplit.csv')\n",
    "test_set = pd.read_csv('test_30_backgroundTrainTestsplit.csv')"
   ]
  },
  {
   "cell_type": "code",
   "execution_count": 10,
   "id": "bca90eeb",
   "metadata": {},
   "outputs": [],
   "source": [
    "features = pd.read_csv('3_IU_FEAT_Average_Day.csv', index_col = 0).drop(columns = ['first_date_bought', 'last_date_bought'])\n"
   ]
  },
  {
   "cell_type": "markdown",
   "id": "968bd6c1",
   "metadata": {},
   "source": [
    "## Merging X_train, X_test with features"
   ]
  },
  {
   "cell_type": "code",
   "execution_count": 11,
   "id": "94219226",
   "metadata": {},
   "outputs": [
    {
     "data": {
      "text/html": [
       "<div>\n",
       "<style scoped>\n",
       "    .dataframe tbody tr th:only-of-type {\n",
       "        vertical-align: middle;\n",
       "    }\n",
       "\n",
       "    .dataframe tbody tr th {\n",
       "        vertical-align: top;\n",
       "    }\n",
       "\n",
       "    .dataframe thead th {\n",
       "        text-align: right;\n",
       "    }\n",
       "</style>\n",
       "<table border=\"1\" class=\"dataframe\">\n",
       "  <thead>\n",
       "    <tr style=\"text-align: right;\">\n",
       "      <th></th>\n",
       "      <th>userID</th>\n",
       "      <th>itemID</th>\n",
       "      <th>prediction</th>\n",
       "      <th>average_cycle_days</th>\n",
       "      <th>first_day_delta_bought</th>\n",
       "      <th>last_day_delta_bought</th>\n",
       "    </tr>\n",
       "  </thead>\n",
       "  <tbody>\n",
       "    <tr>\n",
       "      <th>0</th>\n",
       "      <td>31233</td>\n",
       "      <td>21596</td>\n",
       "      <td>0.0</td>\n",
       "      <td>117.0</td>\n",
       "      <td>72</td>\n",
       "      <td>189</td>\n",
       "    </tr>\n",
       "    <tr>\n",
       "      <th>1</th>\n",
       "      <td>22721</td>\n",
       "      <td>31702</td>\n",
       "      <td>0.0</td>\n",
       "      <td>142.0</td>\n",
       "      <td>37</td>\n",
       "      <td>179</td>\n",
       "    </tr>\n",
       "    <tr>\n",
       "      <th>2</th>\n",
       "      <td>33799</td>\n",
       "      <td>18498</td>\n",
       "      <td>0.0</td>\n",
       "      <td>68.0</td>\n",
       "      <td>14</td>\n",
       "      <td>150</td>\n",
       "    </tr>\n",
       "    <tr>\n",
       "      <th>3</th>\n",
       "      <td>35553</td>\n",
       "      <td>2394</td>\n",
       "      <td>0.0</td>\n",
       "      <td>105.0</td>\n",
       "      <td>89</td>\n",
       "      <td>194</td>\n",
       "    </tr>\n",
       "    <tr>\n",
       "      <th>4</th>\n",
       "      <td>21718</td>\n",
       "      <td>10958</td>\n",
       "      <td>0.0</td>\n",
       "      <td>146.0</td>\n",
       "      <td>22</td>\n",
       "      <td>168</td>\n",
       "    </tr>\n",
       "    <tr>\n",
       "      <th>...</th>\n",
       "      <td>...</td>\n",
       "      <td>...</td>\n",
       "      <td>...</td>\n",
       "      <td>...</td>\n",
       "      <td>...</td>\n",
       "      <td>...</td>\n",
       "    </tr>\n",
       "    <tr>\n",
       "      <th>64238</th>\n",
       "      <td>2541</td>\n",
       "      <td>16303</td>\n",
       "      <td>1.0</td>\n",
       "      <td>83.0</td>\n",
       "      <td>78</td>\n",
       "      <td>161</td>\n",
       "    </tr>\n",
       "    <tr>\n",
       "      <th>64239</th>\n",
       "      <td>18879</td>\n",
       "      <td>15389</td>\n",
       "      <td>0.0</td>\n",
       "      <td>85.0</td>\n",
       "      <td>96</td>\n",
       "      <td>181</td>\n",
       "    </tr>\n",
       "    <tr>\n",
       "      <th>64240</th>\n",
       "      <td>4751</td>\n",
       "      <td>11906</td>\n",
       "      <td>0.0</td>\n",
       "      <td>47.0</td>\n",
       "      <td>22</td>\n",
       "      <td>210</td>\n",
       "    </tr>\n",
       "    <tr>\n",
       "      <th>64241</th>\n",
       "      <td>36896</td>\n",
       "      <td>28827</td>\n",
       "      <td>0.0</td>\n",
       "      <td>38.4</td>\n",
       "      <td>3</td>\n",
       "      <td>195</td>\n",
       "    </tr>\n",
       "    <tr>\n",
       "      <th>64242</th>\n",
       "      <td>15176</td>\n",
       "      <td>5375</td>\n",
       "      <td>0.0</td>\n",
       "      <td>32.0</td>\n",
       "      <td>86</td>\n",
       "      <td>118</td>\n",
       "    </tr>\n",
       "  </tbody>\n",
       "</table>\n",
       "<p>64243 rows × 6 columns</p>\n",
       "</div>"
      ],
      "text/plain": [
       "       userID  itemID  prediction  average_cycle_days  first_day_delta_bought  \\\n",
       "0       31233   21596         0.0               117.0                      72   \n",
       "1       22721   31702         0.0               142.0                      37   \n",
       "2       33799   18498         0.0                68.0                      14   \n",
       "3       35553    2394         0.0               105.0                      89   \n",
       "4       21718   10958         0.0               146.0                      22   \n",
       "...       ...     ...         ...                 ...                     ...   \n",
       "64238    2541   16303         1.0                83.0                      78   \n",
       "64239   18879   15389         0.0                85.0                      96   \n",
       "64240    4751   11906         0.0                47.0                      22   \n",
       "64241   36896   28827         0.0                38.4                       3   \n",
       "64242   15176    5375         0.0                32.0                      86   \n",
       "\n",
       "       last_day_delta_bought  \n",
       "0                        189  \n",
       "1                        179  \n",
       "2                        150  \n",
       "3                        194  \n",
       "4                        168  \n",
       "...                      ...  \n",
       "64238                    161  \n",
       "64239                    181  \n",
       "64240                    210  \n",
       "64241                    195  \n",
       "64242                    118  \n",
       "\n",
       "[64243 rows x 6 columns]"
      ]
     },
     "execution_count": 11,
     "metadata": {},
     "output_type": "execute_result"
    }
   ],
   "source": [
    "X_train = train_set.merge(features, how = 'left', on = ['userID', 'itemID'])\n",
    "X_test = test_set.merge(features, how = 'left', on = ['userID', 'itemID'])\n",
    "X_train"
   ]
  },
  {
   "cell_type": "markdown",
   "id": "1b77761e",
   "metadata": {},
   "source": [
    "## Split train_set and test_set into X_train, y_train, X_test and y_test"
   ]
  },
  {
   "cell_type": "code",
   "execution_count": 12,
   "id": "85b4951f",
   "metadata": {},
   "outputs": [],
   "source": [
    "y_train = X_train['prediction']\n",
    "y_test = X_test['prediction']"
   ]
  },
  {
   "cell_type": "markdown",
   "id": "3baf1a4d",
   "metadata": {},
   "source": [
    "## Building model with unbalanced training data. "
   ]
  },
  {
   "cell_type": "code",
   "execution_count": 13,
   "id": "643ad5d9",
   "metadata": {},
   "outputs": [
    {
     "data": {
      "text/plain": [
       "{'criterion': 'gini',\n",
       " 'max_depth': 17,\n",
       " 'min_samples_split': 6,\n",
       " 'n_estimators': 106}"
      ]
     },
     "execution_count": 13,
     "metadata": {},
     "output_type": "execute_result"
    }
   ],
   "source": [
    "# Using random forest model\n",
    "forest = RandomForestClassifier()\n",
    "# applying GridSearchCV\n",
    "params = {'criterion': ['gini', 'entropy'],\n",
    "         'n_estimators': np.arange(100, 111),\n",
    "         'min_samples_split': np.arange(5, 8),\n",
    "         'max_depth': np.arange(16, 19)}\n",
    "clf = GridSearchCV(estimator = forest, param_grid = params, error_score = 'raise', n_jobs=-1)\n",
    "clf.fit(X_train.drop('prediction', axis=1), y_train)\n",
    "clf.best_params_"
   ]
  },
  {
   "cell_type": "code",
   "execution_count": 14,
   "id": "693ed4a1",
   "metadata": {},
   "outputs": [],
   "source": [
    "y_pred = clf.predict(X_test.drop('prediction', axis=1))"
   ]
  },
  {
   "cell_type": "code",
   "execution_count": 15,
   "id": "93745809",
   "metadata": {},
   "outputs": [
    {
     "name": "stdout",
     "output_type": "stream",
     "text": [
      "[[22495    24     8     7     5]\n",
      " [ 1288    35    10     4     0]\n",
      " [ 1128    11    12     8     5]\n",
      " [ 1179    11     9     4     0]\n",
      " [ 1277     5     3     2     4]]\n",
      "Accuracy score: 0.818987433718312\n"
     ]
    }
   ],
   "source": [
    "cm = confusion_matrix(y_test, y_pred)\n",
    "ac = accuracy_score(y_test, y_pred)\n",
    "print(cm)\n",
    "print(f'Accuracy score: {ac}')"
   ]
  },
  {
   "cell_type": "markdown",
   "id": "9a5c17f1",
   "metadata": {},
   "source": [
    "## Random Undersampling"
   ]
  },
  {
   "cell_type": "markdown",
   "id": "9f7e4526",
   "metadata": {},
   "source": [
    "### Deleting randomly rows in training data which have 0_prediction , so that getting a balanced training data between 0_prediction and other predictions\n"
   ]
  },
  {
   "cell_type": "code",
   "execution_count": 16,
   "id": "096f4311",
   "metadata": {},
   "outputs": [
    {
     "name": "stdout",
     "output_type": "stream",
     "text": [
      "0: 52883\t\t1: 3030\t\t2: 2677\t\t3: 2798\t\t4: 2855\n"
     ]
    },
    {
     "data": {
      "text/plain": [
       "0.0    11360\n",
       "1.0     3030\n",
       "4.0     2855\n",
       "3.0     2798\n",
       "2.0     2677\n",
       "Name: prediction, dtype: int64"
      ]
     },
     "execution_count": 16,
     "metadata": {},
     "output_type": "execute_result"
    }
   ],
   "source": [
    "amount_0 = X_train[X_train['prediction'] == 0].shape[0]\n",
    "amount_1 = X_train[X_train['prediction'] == 1].shape[0]\n",
    "amount_2 = X_train[X_train['prediction'] == 2].shape[0]\n",
    "amount_3 = X_train[X_train['prediction'] == 3].shape[0]\n",
    "amount_4 = X_train[X_train['prediction'] == 4].shape[0]\n",
    "\n",
    "total_unlike_0 = amount_1 + amount_2 + amount_3 + amount_4\n",
    "print(f'0: {amount_0}\\t\\t1: {amount_1}\\t\\t2: {amount_2}\\t\\t3: {amount_3}\\t\\t4: {amount_4}')\n",
    "# reduce randomly amount of 0 prediction in training data\n",
    "df_0_under = X_train[X_train['prediction'] == 0].sample(total_unlike_0, random_state = 1)\n",
    "\n",
    "X_train_balanced = pd.concat([df_0_under, X_train.drop(X_train[X_train['prediction'] == 0].index)]).sample(frac = 1)\n",
    "X_train_balanced['prediction'].value_counts()\n"
   ]
  },
  {
   "cell_type": "markdown",
   "id": "e49eae78",
   "metadata": {},
   "source": [
    "## Fit model with undersampling traing data"
   ]
  },
  {
   "cell_type": "code",
   "execution_count": 17,
   "id": "ad82d5cc",
   "metadata": {},
   "outputs": [
    {
     "data": {
      "text/plain": [
       "{'criterion': 'entropy',\n",
       " 'max_depth': 16,\n",
       " 'min_samples_split': 5,\n",
       " 'n_estimators': 104}"
      ]
     },
     "execution_count": 17,
     "metadata": {},
     "output_type": "execute_result"
    }
   ],
   "source": [
    "clf.fit(X_train_balanced.drop('prediction', axis = 1), X_train_balanced['prediction'])\n",
    "clf.best_params_"
   ]
  },
  {
   "cell_type": "code",
   "execution_count": 18,
   "id": "787d4840",
   "metadata": {},
   "outputs": [],
   "source": [
    "y_pred_balanced = clf.predict(X_test.drop('prediction', axis=1))"
   ]
  },
  {
   "cell_type": "code",
   "execution_count": 19,
   "id": "865941dc",
   "metadata": {},
   "outputs": [
    {
     "name": "stdout",
     "output_type": "stream",
     "text": [
      "[[21310   551   177   218   283]\n",
      " [ 1014   219    46    37    21]\n",
      " [  877   142    69    41    35]\n",
      " [  913   112    48    73    57]\n",
      " [ 1079    85    27    31    69]]\n",
      "Accuracy score: 0.7895692598242173\n",
      "DMC score: 23282\n"
     ]
    }
   ],
   "source": [
    "cm_balanced = confusion_matrix(y_test, y_pred_balanced)\n",
    "ac_balanced = accuracy_score(y_test, y_pred_balanced)\n",
    "score_balanced = multiclassScore(y_test, pd.Series(y_pred_balanced))\n",
    "print(cm_balanced)\n",
    "print(f'Accuracy score: {ac_balanced}')\n",
    "print(f'DMC score: {score_balanced}')"
   ]
  },
  {
   "cell_type": "markdown",
   "id": "9cc0d13e",
   "metadata": {},
   "source": [
    "## Random Oversampling"
   ]
  },
  {
   "cell_type": "markdown",
   "id": "86f5a6ac",
   "metadata": {},
   "source": [
    "### Duplicating randomly rows in training data which have 1_, 2_ , 3_, or 4_prediction , so that getting a balanced training data between 0_prediction and other predictions\n"
   ]
  },
  {
   "cell_type": "code",
   "execution_count": 20,
   "id": "89594c33",
   "metadata": {},
   "outputs": [
    {
     "name": "stdout",
     "output_type": "stream",
     "text": [
      "0: 52883\t\t1: 3030\t\t2: 2677\t\t3: 2798\t\t4: 2855\n"
     ]
    },
    {
     "data": {
      "text/plain": [
       "0.0    52883\n",
       "1.0    14105\n",
       "4.0    13291\n",
       "3.0    13025\n",
       "2.0    12462\n",
       "Name: prediction, dtype: int64"
      ]
     },
     "execution_count": 20,
     "metadata": {},
     "output_type": "execute_result"
    }
   ],
   "source": [
    "amount_0 = X_train[X_train['prediction'] == 0].shape[0]\n",
    "amount_1 = X_train[X_train['prediction'] == 1].shape[0]\n",
    "amount_2 = X_train[X_train['prediction'] == 2].shape[0]\n",
    "amount_3 = X_train[X_train['prediction'] == 3].shape[0]\n",
    "amount_4 = X_train[X_train['prediction'] == 4].shape[0]\n",
    "\n",
    "unlike_0 = amount_1 + amount_2 + amount_3 + amount_4\n",
    "\n",
    "ratio1 = amount_1 / unlike_0\n",
    "ratio2 = amount_2 / unlike_0\n",
    "ratio3 = amount_3 / unlike_0\n",
    "ratio4 = amount_4 / unlike_0\n",
    "\n",
    "print(f\"0: {amount_0}\\t\\t1: {amount_1}\\t\\t2: {amount_2}\\t\\t3: {amount_3}\\t\\t4: {amount_4}\")\n",
    "\n",
    "df_1_under = X_train[X_train['prediction'] == 1].sample(round(ratio1 * amount_0), replace=True)\n",
    "df_2_under = X_train[X_train['prediction'] == 2].sample(round(ratio2 * amount_0), replace=True)\n",
    "df_3_under = X_train[X_train['prediction'] == 3].sample(round(ratio3 * amount_0), replace=True)\n",
    "df_4_under = X_train[X_train['prediction'] == 4].sample(round(ratio4 * amount_0), replace=True)\n",
    "\n",
    "X_train_balanced_over = pd.concat([df_1_under, df_2_under, df_3_under, df_4_under, X_train[X_train['prediction'] == 0]], axis=0)\n",
    "\n",
    "X_train_balanced_over['prediction'].value_counts()"
   ]
  },
  {
   "cell_type": "markdown",
   "id": "af77691a",
   "metadata": {},
   "source": [
    "### Fit model with Oversampling traing data"
   ]
  },
  {
   "cell_type": "code",
   "execution_count": 22,
   "id": "f36503a5",
   "metadata": {},
   "outputs": [
    {
     "data": {
      "text/plain": [
       "{'criterion': 'entropy',\n",
       " 'max_depth': 18,\n",
       " 'min_samples_split': 5,\n",
       " 'n_estimators': 101}"
      ]
     },
     "execution_count": 22,
     "metadata": {},
     "output_type": "execute_result"
    }
   ],
   "source": [
    "# Using random forest model\n",
    "forest_over = RandomForestClassifier()\n",
    "# applying GridSearchCV\n",
    "params = {'criterion': ['gini', 'entropy'],\n",
    "         'n_estimators': np.arange(100, 104),\n",
    "         'min_samples_split': np.arange(5, 8),\n",
    "         'max_depth': np.arange(16, 19)}\n",
    "clf_over = GridSearchCV(estimator = forest_over, param_grid = params, error_score = 'raise', n_jobs=-1)\n",
    "clf_over.fit(X_train_balanced_over.drop(columns=['prediction']), X_train_balanced_over['prediction'])\n",
    "clf_over.best_params_"
   ]
  },
  {
   "cell_type": "code",
   "execution_count": 27,
   "id": "54b449fe",
   "metadata": {},
   "outputs": [],
   "source": [
    "y_pred_balanced_over = clf_over.predict(X_test.drop('prediction', axis=1))"
   ]
  },
  {
   "cell_type": "code",
   "execution_count": 28,
   "id": "a95ce386",
   "metadata": {},
   "outputs": [
    {
     "name": "stdout",
     "output_type": "stream",
     "text": [
      "[[21745   356   140   156   142]\n",
      " [ 1078   178    37    31    13]\n",
      " [  953    86    67    36    22]\n",
      " [  988    92    29    65    29]\n",
      " [ 1139    54    28    25    45]]\n",
      "Accuracy score: 0.8026440037771483\n",
      "DMC score: 23292\n"
     ]
    }
   ],
   "source": [
    "cm_balanced_over = confusion_matrix(y_test, y_pred_balanced_over)\n",
    "ac_balanced_over = accuracy_score(y_test, y_pred_balanced_over)\n",
    "score_balanced_over = multiclassScore(y_test, pd.Series(y_pred_balanced_over))\n",
    "print(cm_balanced_over)\n",
    "print(f'Accuracy score: {ac_balanced_over}')\n",
    "print(f'DMC score: {score_balanced_over}')"
   ]
  },
  {
   "cell_type": "markdown",
   "id": "5e1ab5f9",
   "metadata": {},
   "source": [
    "### Plotting the importances of features"
   ]
  },
  {
   "cell_type": "code",
   "execution_count": 36,
   "id": "2eead5f3",
   "metadata": {},
   "outputs": [
    {
     "data": {
      "text/plain": [
       "<AxesSubplot:>"
      ]
     },
     "execution_count": 36,
     "metadata": {},
     "output_type": "execute_result"
    },
    {
     "data": {
      "image/png": "[encoded data removed]",
      "text/plain": [
       "<Figure size 432x288 with 1 Axes>"
      ]
     },
     "metadata": {
      "needs_background": "light"
     },
     "output_type": "display_data"
    }
   ],
   "source": [
    "final_forest = clf_over.best_estimator_\n",
    "\n",
    "pd.Series(final_forest.feature_importances_, index = X_train_balanced_over.drop('prediction', axis=1).columns).plot(kind = 'barh')\n"
   ]
  },
  {
   "cell_type": "code",
   "execution_count": null,
   "id": "91aa28cf",
   "metadata": {},
   "outputs": [],
   "source": []
  },
  {
   "cell_type": "code",
   "execution_count": null,
   "id": "8b419c80",
   "metadata": {},
   "outputs": [],
   "source": []
  }
 ],
 "metadata": {
  "kernelspec": {
   "display_name": "Python 3",
   "language": "python",
   "name": "python3"
  },
  "language_info": {
   "codemirror_mode": {
    "name": "ipython",
    "version": 3
   },
   "file_extension": ".py",
   "mimetype": "text/x-python",
   "name": "python",
   "nbconvert_exporter": "python",
   "pygments_lexer": "ipython3",
   "version": "3.8.8"
  }
 },
 "nbformat": 4,
 "nbformat_minor": 5
}
