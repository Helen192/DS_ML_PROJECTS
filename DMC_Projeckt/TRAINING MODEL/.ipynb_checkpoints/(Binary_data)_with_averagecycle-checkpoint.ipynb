{
 "cells": [
  {
   "cell_type": "code",
   "execution_count": 1,
   "id": "2be8e68d",
   "metadata": {},
   "outputs": [],
   "source": [
    "import numpy as np\n",
    "import pandas as pd\n",
    "import matplotlib.pyplot as plt\n",
    "import seaborn as sns\n",
    "from datetime import datetime"
   ]
  },
  {
   "cell_type": "code",
   "execution_count": 2,
   "id": "e4942955",
   "metadata": {},
   "outputs": [],
   "source": [
    "binary_train = pd.read_csv('binary_train_70_backgroundTrainTestsplit.csv')\n",
    "binary_test = pd.read_csv('binary_test_30_backgroundTrainTestsplit.csv')"
   ]
  },
  {
   "cell_type": "markdown",
   "id": "57c9bb2a",
   "metadata": {},
   "source": [
    "### Splitting train_set and test_set into X_train, y_train, X_test, y_test"
   ]
  },
  {
   "cell_type": "code",
   "execution_count": 3,
   "id": "4c315dd5",
   "metadata": {},
   "outputs": [],
   "source": [
    "X_train = binary_train.drop(columns=['item_bought_next_28_days'])\n",
    "y_train = binary_train['item_bought_next_28_days']\n",
    "\n",
    "X_test = binary_test.drop(columns = ['item_bought_next_28_days'])\n",
    "y_test = binary_test['item_bought_next_28_days']"
   ]
  },
  {
   "cell_type": "code",
   "execution_count": 4,
   "id": "c209b259",
   "metadata": {},
   "outputs": [
    {
     "data": {
      "text/html": [
       "<div>\n",
       "<style scoped>\n",
       "    .dataframe tbody tr th:only-of-type {\n",
       "        vertical-align: middle;\n",
       "    }\n",
       "\n",
       "    .dataframe tbody tr th {\n",
       "        vertical-align: top;\n",
       "    }\n",
       "\n",
       "    .dataframe thead th {\n",
       "        text-align: right;\n",
       "    }\n",
       "</style>\n",
       "<table border=\"1\" class=\"dataframe\">\n",
       "  <thead>\n",
       "    <tr style=\"text-align: right;\">\n",
       "      <th></th>\n",
       "      <th>userID</th>\n",
       "      <th>itemID</th>\n",
       "    </tr>\n",
       "  </thead>\n",
       "  <tbody>\n",
       "    <tr>\n",
       "      <th>0</th>\n",
       "      <td>42981</td>\n",
       "      <td>21953</td>\n",
       "    </tr>\n",
       "    <tr>\n",
       "      <th>1</th>\n",
       "      <td>770</td>\n",
       "      <td>11546</td>\n",
       "    </tr>\n",
       "    <tr>\n",
       "      <th>2</th>\n",
       "      <td>30565</td>\n",
       "      <td>3128</td>\n",
       "    </tr>\n",
       "    <tr>\n",
       "      <th>3</th>\n",
       "      <td>24675</td>\n",
       "      <td>29660</td>\n",
       "    </tr>\n",
       "    <tr>\n",
       "      <th>4</th>\n",
       "      <td>10635</td>\n",
       "      <td>7976</td>\n",
       "    </tr>\n",
       "    <tr>\n",
       "      <th>...</th>\n",
       "      <td>...</td>\n",
       "      <td>...</td>\n",
       "    </tr>\n",
       "    <tr>\n",
       "      <th>64238</th>\n",
       "      <td>45233</td>\n",
       "      <td>9493</td>\n",
       "    </tr>\n",
       "    <tr>\n",
       "      <th>64239</th>\n",
       "      <td>33547</td>\n",
       "      <td>172</td>\n",
       "    </tr>\n",
       "    <tr>\n",
       "      <th>64240</th>\n",
       "      <td>3632</td>\n",
       "      <td>15423</td>\n",
       "    </tr>\n",
       "    <tr>\n",
       "      <th>64241</th>\n",
       "      <td>8311</td>\n",
       "      <td>2626</td>\n",
       "    </tr>\n",
       "    <tr>\n",
       "      <th>64242</th>\n",
       "      <td>45088</td>\n",
       "      <td>11273</td>\n",
       "    </tr>\n",
       "  </tbody>\n",
       "</table>\n",
       "<p>64243 rows × 2 columns</p>\n",
       "</div>"
      ],
      "text/plain": [
       "       userID  itemID\n",
       "0       42981   21953\n",
       "1         770   11546\n",
       "2       30565    3128\n",
       "3       24675   29660\n",
       "4       10635    7976\n",
       "...       ...     ...\n",
       "64238   45233    9493\n",
       "64239   33547     172\n",
       "64240    3632   15423\n",
       "64241    8311    2626\n",
       "64242   45088   11273\n",
       "\n",
       "[64243 rows x 2 columns]"
      ]
     },
     "execution_count": 4,
     "metadata": {},
     "output_type": "execute_result"
    }
   ],
   "source": [
    "X_train"
   ]
  },
  {
   "cell_type": "markdown",
   "id": "5435da1a",
   "metadata": {},
   "source": [
    "### Merging X_train, X_test with features"
   ]
  },
  {
   "cell_type": "code",
   "execution_count": 9,
   "id": "86af8ef3",
   "metadata": {},
   "outputs": [
    {
     "data": {
      "text/html": [
       "<div>\n",
       "<style scoped>\n",
       "    .dataframe tbody tr th:only-of-type {\n",
       "        vertical-align: middle;\n",
       "    }\n",
       "\n",
       "    .dataframe tbody tr th {\n",
       "        vertical-align: top;\n",
       "    }\n",
       "\n",
       "    .dataframe thead th {\n",
       "        text-align: right;\n",
       "    }\n",
       "</style>\n",
       "<table border=\"1\" class=\"dataframe\">\n",
       "  <thead>\n",
       "    <tr style=\"text-align: right;\">\n",
       "      <th></th>\n",
       "      <th>userID</th>\n",
       "      <th>itemID</th>\n",
       "      <th>average_cycle(weeks)</th>\n",
       "    </tr>\n",
       "  </thead>\n",
       "  <tbody>\n",
       "    <tr>\n",
       "      <th>0</th>\n",
       "      <td>0</td>\n",
       "      <td>1505</td>\n",
       "      <td>0.0</td>\n",
       "    </tr>\n",
       "    <tr>\n",
       "      <th>1</th>\n",
       "      <td>0</td>\n",
       "      <td>6446</td>\n",
       "      <td>0.0</td>\n",
       "    </tr>\n",
       "    <tr>\n",
       "      <th>3</th>\n",
       "      <td>0</td>\n",
       "      <td>9325</td>\n",
       "      <td>0.0</td>\n",
       "    </tr>\n",
       "    <tr>\n",
       "      <th>4</th>\n",
       "      <td>0</td>\n",
       "      <td>12468</td>\n",
       "      <td>0.0</td>\n",
       "    </tr>\n",
       "    <tr>\n",
       "      <th>5</th>\n",
       "      <td>0</td>\n",
       "      <td>12505</td>\n",
       "      <td>0.0</td>\n",
       "    </tr>\n",
       "    <tr>\n",
       "      <th>...</th>\n",
       "      <td>...</td>\n",
       "      <td>...</td>\n",
       "      <td>...</td>\n",
       "    </tr>\n",
       "    <tr>\n",
       "      <th>1071011</th>\n",
       "      <td>46137</td>\n",
       "      <td>2667</td>\n",
       "      <td>0.0</td>\n",
       "    </tr>\n",
       "    <tr>\n",
       "      <th>1071014</th>\n",
       "      <td>46137</td>\n",
       "      <td>20209</td>\n",
       "      <td>0.0</td>\n",
       "    </tr>\n",
       "    <tr>\n",
       "      <th>1071017</th>\n",
       "      <td>46137</td>\n",
       "      <td>28343</td>\n",
       "      <td>0.0</td>\n",
       "    </tr>\n",
       "    <tr>\n",
       "      <th>1071018</th>\n",
       "      <td>46137</td>\n",
       "      <td>28900</td>\n",
       "      <td>0.0</td>\n",
       "    </tr>\n",
       "    <tr>\n",
       "      <th>1071019</th>\n",
       "      <td>46137</td>\n",
       "      <td>32292</td>\n",
       "      <td>0.0</td>\n",
       "    </tr>\n",
       "  </tbody>\n",
       "</table>\n",
       "<p>784055 rows × 3 columns</p>\n",
       "</div>"
      ],
      "text/plain": [
       "         userID  itemID  average_cycle(weeks)\n",
       "0             0    1505                   0.0\n",
       "1             0    6446                   0.0\n",
       "3             0    9325                   0.0\n",
       "4             0   12468                   0.0\n",
       "5             0   12505                   0.0\n",
       "...         ...     ...                   ...\n",
       "1071011   46137    2667                   0.0\n",
       "1071014   46137   20209                   0.0\n",
       "1071017   46137   28343                   0.0\n",
       "1071018   46137   28900                   0.0\n",
       "1071019   46137   32292                   0.0\n",
       "\n",
       "[784055 rows x 3 columns]"
      ]
     },
     "execution_count": 9,
     "metadata": {},
     "output_type": "execute_result"
    }
   ],
   "source": [
    "features = pd.read_csv('IU_FEAT_AverageCycle.csv', index_col = 0)\n",
    "feat =  features.drop(columns = ['first_week_bought', 'last_week_bought'])\n",
    "feat"
   ]
  },
  {
   "cell_type": "code",
   "execution_count": 10,
   "id": "4b63eea0",
   "metadata": {},
   "outputs": [
    {
     "data": {
      "text/html": [
       "<div>\n",
       "<style scoped>\n",
       "    .dataframe tbody tr th:only-of-type {\n",
       "        vertical-align: middle;\n",
       "    }\n",
       "\n",
       "    .dataframe tbody tr th {\n",
       "        vertical-align: top;\n",
       "    }\n",
       "\n",
       "    .dataframe thead th {\n",
       "        text-align: right;\n",
       "    }\n",
       "</style>\n",
       "<table border=\"1\" class=\"dataframe\">\n",
       "  <thead>\n",
       "    <tr style=\"text-align: right;\">\n",
       "      <th></th>\n",
       "      <th>userID</th>\n",
       "      <th>itemID</th>\n",
       "      <th>average_cycle(weeks)</th>\n",
       "    </tr>\n",
       "  </thead>\n",
       "  <tbody>\n",
       "    <tr>\n",
       "      <th>0</th>\n",
       "      <td>42981</td>\n",
       "      <td>21953</td>\n",
       "      <td>2.50</td>\n",
       "    </tr>\n",
       "    <tr>\n",
       "      <th>1</th>\n",
       "      <td>770</td>\n",
       "      <td>11546</td>\n",
       "      <td>13.00</td>\n",
       "    </tr>\n",
       "    <tr>\n",
       "      <th>2</th>\n",
       "      <td>30565</td>\n",
       "      <td>3128</td>\n",
       "      <td>4.80</td>\n",
       "    </tr>\n",
       "    <tr>\n",
       "      <th>3</th>\n",
       "      <td>24675</td>\n",
       "      <td>29660</td>\n",
       "      <td>7.67</td>\n",
       "    </tr>\n",
       "    <tr>\n",
       "      <th>4</th>\n",
       "      <td>10635</td>\n",
       "      <td>7976</td>\n",
       "      <td>22.00</td>\n",
       "    </tr>\n",
       "    <tr>\n",
       "      <th>...</th>\n",
       "      <td>...</td>\n",
       "      <td>...</td>\n",
       "      <td>...</td>\n",
       "    </tr>\n",
       "    <tr>\n",
       "      <th>64238</th>\n",
       "      <td>45233</td>\n",
       "      <td>9493</td>\n",
       "      <td>11.00</td>\n",
       "    </tr>\n",
       "    <tr>\n",
       "      <th>64239</th>\n",
       "      <td>33547</td>\n",
       "      <td>172</td>\n",
       "      <td>9.00</td>\n",
       "    </tr>\n",
       "    <tr>\n",
       "      <th>64240</th>\n",
       "      <td>3632</td>\n",
       "      <td>15423</td>\n",
       "      <td>9.00</td>\n",
       "    </tr>\n",
       "    <tr>\n",
       "      <th>64241</th>\n",
       "      <td>8311</td>\n",
       "      <td>2626</td>\n",
       "      <td>5.00</td>\n",
       "    </tr>\n",
       "    <tr>\n",
       "      <th>64242</th>\n",
       "      <td>45088</td>\n",
       "      <td>11273</td>\n",
       "      <td>30.00</td>\n",
       "    </tr>\n",
       "  </tbody>\n",
       "</table>\n",
       "<p>64243 rows × 3 columns</p>\n",
       "</div>"
      ],
      "text/plain": [
       "       userID  itemID  average_cycle(weeks)\n",
       "0       42981   21953                  2.50\n",
       "1         770   11546                 13.00\n",
       "2       30565    3128                  4.80\n",
       "3       24675   29660                  7.67\n",
       "4       10635    7976                 22.00\n",
       "...       ...     ...                   ...\n",
       "64238   45233    9493                 11.00\n",
       "64239   33547     172                  9.00\n",
       "64240    3632   15423                  9.00\n",
       "64241    8311    2626                  5.00\n",
       "64242   45088   11273                 30.00\n",
       "\n",
       "[64243 rows x 3 columns]"
      ]
     },
     "execution_count": 10,
     "metadata": {},
     "output_type": "execute_result"
    }
   ],
   "source": [
    "X_train_feat = X_train.merge(feat, how = 'inner', on = ['userID', 'itemID'])\n",
    "X_test_feat = X_test.merge(feat, how = 'inner', on = ['userID', 'itemID'])\n",
    "X_train_feat"
   ]
  },
  {
   "cell_type": "code",
   "execution_count": 11,
   "id": "b891140f",
   "metadata": {},
   "outputs": [
    {
     "data": {
      "text/html": [
       "<div>\n",
       "<style scoped>\n",
       "    .dataframe tbody tr th:only-of-type {\n",
       "        vertical-align: middle;\n",
       "    }\n",
       "\n",
       "    .dataframe tbody tr th {\n",
       "        vertical-align: top;\n",
       "    }\n",
       "\n",
       "    .dataframe thead th {\n",
       "        text-align: right;\n",
       "    }\n",
       "</style>\n",
       "<table border=\"1\" class=\"dataframe\">\n",
       "  <thead>\n",
       "    <tr style=\"text-align: right;\">\n",
       "      <th></th>\n",
       "      <th>userID</th>\n",
       "      <th>itemID</th>\n",
       "      <th>average_cycle(weeks)</th>\n",
       "    </tr>\n",
       "  </thead>\n",
       "  <tbody>\n",
       "    <tr>\n",
       "      <th>0</th>\n",
       "      <td>22373</td>\n",
       "      <td>22987</td>\n",
       "      <td>11.50</td>\n",
       "    </tr>\n",
       "    <tr>\n",
       "      <th>1</th>\n",
       "      <td>26250</td>\n",
       "      <td>12964</td>\n",
       "      <td>0.00</td>\n",
       "    </tr>\n",
       "    <tr>\n",
       "      <th>2</th>\n",
       "      <td>1550</td>\n",
       "      <td>28177</td>\n",
       "      <td>3.00</td>\n",
       "    </tr>\n",
       "    <tr>\n",
       "      <th>3</th>\n",
       "      <td>4336</td>\n",
       "      <td>11798</td>\n",
       "      <td>18.00</td>\n",
       "    </tr>\n",
       "    <tr>\n",
       "      <th>4</th>\n",
       "      <td>22285</td>\n",
       "      <td>16846</td>\n",
       "      <td>10.00</td>\n",
       "    </tr>\n",
       "    <tr>\n",
       "      <th>...</th>\n",
       "      <td>...</td>\n",
       "      <td>...</td>\n",
       "      <td>...</td>\n",
       "    </tr>\n",
       "    <tr>\n",
       "      <th>27529</th>\n",
       "      <td>15490</td>\n",
       "      <td>26028</td>\n",
       "      <td>3.00</td>\n",
       "    </tr>\n",
       "    <tr>\n",
       "      <th>27530</th>\n",
       "      <td>11285</td>\n",
       "      <td>6819</td>\n",
       "      <td>8.67</td>\n",
       "    </tr>\n",
       "    <tr>\n",
       "      <th>27531</th>\n",
       "      <td>31290</td>\n",
       "      <td>11188</td>\n",
       "      <td>9.00</td>\n",
       "    </tr>\n",
       "    <tr>\n",
       "      <th>27532</th>\n",
       "      <td>31792</td>\n",
       "      <td>20131</td>\n",
       "      <td>19.00</td>\n",
       "    </tr>\n",
       "    <tr>\n",
       "      <th>27533</th>\n",
       "      <td>33010</td>\n",
       "      <td>12345</td>\n",
       "      <td>17.00</td>\n",
       "    </tr>\n",
       "  </tbody>\n",
       "</table>\n",
       "<p>27534 rows × 3 columns</p>\n",
       "</div>"
      ],
      "text/plain": [
       "       userID  itemID  average_cycle(weeks)\n",
       "0       22373   22987                 11.50\n",
       "1       26250   12964                  0.00\n",
       "2        1550   28177                  3.00\n",
       "3        4336   11798                 18.00\n",
       "4       22285   16846                 10.00\n",
       "...       ...     ...                   ...\n",
       "27529   15490   26028                  3.00\n",
       "27530   11285    6819                  8.67\n",
       "27531   31290   11188                  9.00\n",
       "27532   31792   20131                 19.00\n",
       "27533   33010   12345                 17.00\n",
       "\n",
       "[27534 rows x 3 columns]"
      ]
     },
     "execution_count": 11,
     "metadata": {},
     "output_type": "execute_result"
    }
   ],
   "source": [
    "X_test_feat"
   ]
  },
  {
   "cell_type": "markdown",
   "id": "cd1c3621",
   "metadata": {},
   "source": [
    "# Training Model\n",
    "- using features: userID, itemID, average_cycle(weeks),first_week_bought,last_week_bought\n",
    "- y is prediction column"
   ]
  },
  {
   "cell_type": "markdown",
   "id": "8305732a",
   "metadata": {},
   "source": [
    "### Feature scaling"
   ]
  },
  {
   "cell_type": "code",
   "execution_count": 12,
   "id": "29d63c22",
   "metadata": {},
   "outputs": [],
   "source": [
    "from sklearn.preprocessing import StandardScaler\n",
    "sc = StandardScaler()\n",
    "X_train_feat = sc.fit_transform(X_train_feat)\n",
    "X_test_feat = sc.transform(X_test_feat)"
   ]
  },
  {
   "cell_type": "code",
   "execution_count": 13,
   "id": "2cc24541",
   "metadata": {},
   "outputs": [
    {
     "name": "stdout",
     "output_type": "stream",
     "text": [
      "[[ 1.49588045  0.56919951 -1.40298633]\n",
      " [-1.67467471 -0.53008434  0.35192013]\n",
      " [ 0.56328912 -1.41927156 -1.01857825]\n",
      " ...\n",
      " [-1.45970399 -0.12055964 -0.31661567]\n",
      " [-1.10825466 -1.47229746 -0.98515146]\n",
      " [ 1.65414156 -0.55892113  3.19319725]]\n"
     ]
    }
   ],
   "source": [
    "print(X_train_feat)"
   ]
  },
  {
   "cell_type": "code",
   "execution_count": 14,
   "id": "0479aeea",
   "metadata": {},
   "outputs": [
    {
     "name": "stdout",
     "output_type": "stream",
     "text": [
      "[[-0.05202888  0.67842018  0.1012192 ]\n",
      " [ 0.23918058 -0.38030203 -1.8208212 ]\n",
      " [-1.6160873   1.22663611 -1.31941936]\n",
      " ...\n",
      " [ 0.61774536 -0.56789962 -0.31661567]\n",
      " [ 0.65545161  0.37674298  1.35472382]\n",
      " [ 0.7469381  -0.44568655  1.02045592]]\n"
     ]
    }
   ],
   "source": [
    "print(X_test_feat)"
   ]
  },
  {
   "cell_type": "markdown",
   "id": "cf6abfa7",
   "metadata": {},
   "source": [
    "# I. Random Forest Classification Model"
   ]
  },
  {
   "cell_type": "markdown",
   "id": "b3cf3eb8",
   "metadata": {},
   "source": [
    "### Training the Random Forest Classification model on the Training set"
   ]
  },
  {
   "cell_type": "code",
   "execution_count": 15,
   "id": "3d343abc",
   "metadata": {},
   "outputs": [
    {
     "data": {
      "text/plain": [
       "RandomForestClassifier(criterion='entropy', n_estimators=10, random_state=0)"
      ]
     },
     "execution_count": 15,
     "metadata": {},
     "output_type": "execute_result"
    }
   ],
   "source": [
    "from sklearn.ensemble import RandomForestClassifier\n",
    "classifier = RandomForestClassifier(n_estimators = 10, criterion = 'entropy', random_state = 0)\n",
    "classifier.fit(X_train_feat, y_train)"
   ]
  },
  {
   "cell_type": "markdown",
   "id": "34bb5f31",
   "metadata": {},
   "source": [
    "### Predicting the test set result"
   ]
  },
  {
   "cell_type": "code",
   "execution_count": 16,
   "id": "0667bc9e",
   "metadata": {},
   "outputs": [],
   "source": [
    "y_pred = classifier.predict(X_test_feat)\n"
   ]
  },
  {
   "cell_type": "markdown",
   "id": "8f459142",
   "metadata": {},
   "source": [
    "### Making confusion matrix and calculating accuracy score"
   ]
  },
  {
   "cell_type": "code",
   "execution_count": 17,
   "id": "b94705d5",
   "metadata": {},
   "outputs": [
    {
     "name": "stdout",
     "output_type": "stream",
     "text": [
      "[[21463  1130]\n",
      " [ 4457   484]]\n"
     ]
    },
    {
     "data": {
      "text/plain": [
       "0.7970872375971526"
      ]
     },
     "execution_count": 17,
     "metadata": {},
     "output_type": "execute_result"
    }
   ],
   "source": [
    "from sklearn.metrics import confusion_matrix, accuracy_score\n",
    "cm = confusion_matrix(y_test, y_pred)\n",
    "print(cm)\n",
    "accuracy_score(y_test, y_pred)"
   ]
  },
  {
   "cell_type": "markdown",
   "id": "2183b48e",
   "metadata": {},
   "source": [
    "# II. Decision Tree Classification Model "
   ]
  },
  {
   "cell_type": "markdown",
   "id": "c6e9d514",
   "metadata": {},
   "source": [
    "### Training the Decision Tree Classification model on the Training set"
   ]
  },
  {
   "cell_type": "code",
   "execution_count": 18,
   "id": "3117bf3a",
   "metadata": {},
   "outputs": [
    {
     "data": {
      "text/plain": [
       "DecisionTreeClassifier(criterion='entropy', random_state=0)"
      ]
     },
     "execution_count": 18,
     "metadata": {},
     "output_type": "execute_result"
    }
   ],
   "source": [
    "from sklearn.tree import DecisionTreeClassifier\n",
    "cl_tree = DecisionTreeClassifier(criterion = 'entropy', random_state = 0)\n",
    "cl_tree.fit(X_train_feat, y_train)"
   ]
  },
  {
   "cell_type": "markdown",
   "id": "ab8ca12e",
   "metadata": {},
   "source": [
    "### Predicting the test set result"
   ]
  },
  {
   "cell_type": "code",
   "execution_count": 19,
   "id": "f8b8a692",
   "metadata": {},
   "outputs": [],
   "source": [
    "y_pred_tree = cl_tree.predict(X_test_feat)"
   ]
  },
  {
   "cell_type": "markdown",
   "id": "3cd34339",
   "metadata": {},
   "source": [
    "### Making the confusion matrix"
   ]
  },
  {
   "cell_type": "code",
   "execution_count": 20,
   "id": "74ca2772",
   "metadata": {},
   "outputs": [
    {
     "name": "stdout",
     "output_type": "stream",
     "text": [
      "[[18734  3859]\n",
      " [ 3693  1248]]\n",
      "0.7257209268540713\n"
     ]
    }
   ],
   "source": [
    "from sklearn.metrics import confusion_matrix, accuracy_score\n",
    "cm_tree = confusion_matrix(y_test, y_pred_tree)\n",
    "ac_tree = accuracy_score(y_test, y_pred_tree)\n",
    "print(cm_tree)\n",
    "print(ac_tree)"
   ]
  },
  {
   "cell_type": "markdown",
   "id": "9333f0fc",
   "metadata": {},
   "source": [
    "### Using GridSearchCV"
   ]
  },
  {
   "cell_type": "code",
   "execution_count": 21,
   "id": "da1fc94b",
   "metadata": {},
   "outputs": [
    {
     "data": {
      "text/plain": [
       "{'criterion': 'gini',\n",
       " 'max_depth': 2,\n",
       " 'max_leaf_nodes': 2,\n",
       " 'min_samples_leaf': 1,\n",
       " 'min_samples_split': 2}"
      ]
     },
     "execution_count": 21,
     "metadata": {},
     "output_type": "execute_result"
    }
   ],
   "source": [
    "# Code of Leon\n",
    "from sklearn.model_selection import GridSearchCV\n",
    "dTree = DecisionTreeClassifier()\n",
    "params = {'criterion' : ['gini', 'entropy'], \n",
    "          'min_samples_split' : np.arange(2, 5),\n",
    "          'min_samples_leaf' : np.arange(1, 3),\n",
    "          'max_leaf_nodes' : np.arange(2, 5),\n",
    "          'max_depth' : np.arange(2, 5)}\n",
    "clf = GridSearchCV(estimator=dTree, param_grid=params, error_score='raise', n_jobs=-1)\n",
    "clf.fit(X_train_feat, y_train)\n",
    "clf.best_params_"
   ]
  },
  {
   "cell_type": "code",
   "execution_count": 22,
   "id": "c27c4007",
   "metadata": {},
   "outputs": [
    {
     "name": "stdout",
     "output_type": "stream",
     "text": [
      "The accuracy of the constant 0 predictor is 82.05%\n",
      "The accuracy of the constant 1 predictor is 17.95%\n",
      "Our model prediction baseline will therefore be 82.05%\n"
     ]
    }
   ],
   "source": [
    "amt_correct_0 = y_test[y_test == 0].shape[0]\n",
    "amt_correct_1 = y_test[y_test == 1].shape[0]\n",
    "\n",
    "acc_0 = amt_correct_0 / y_test.shape[0] * 100\n",
    "acc_1 = amt_correct_1 / y_test.shape[0] * 100\n",
    "\n",
    "print(f'The accuracy of the constant 0 predictor is {acc_0:.2f}%')\n",
    "print(f'The accuracy of the constant 1 predictor is {acc_1:.2f}%')\n",
    "\n",
    "print(f'Our model prediction baseline will therefore be {max(acc_0, acc_1):.2f}%')"
   ]
  },
  {
   "cell_type": "code",
   "execution_count": 23,
   "id": "b0b0292f",
   "metadata": {},
   "outputs": [
    {
     "data": {
      "image/png": "[encoded data removed]",
      "text/plain": [
       "<Figure size 720x576 with 1 Axes>"
      ]
     },
     "metadata": {
      "needs_background": "light"
     },
     "output_type": "display_data"
    }
   ],
   "source": [
    "from sklearn import tree\n",
    "fig = plt.figure(figsize=(10, 8))\n",
    "_ = tree.plot_tree(clf.best_estimator_, \n",
    "                   feature_names = np.array(features.columns),  \n",
    "                   class_names=[\"0\", \"1\"],\n",
    "                   filled=True)"
   ]
  },
  {
   "cell_type": "markdown",
   "id": "99127675",
   "metadata": {},
   "source": [
    "# III. Support Vector Machine Model"
   ]
  },
  {
   "cell_type": "markdown",
   "id": "99cf7579",
   "metadata": {},
   "source": [
    "### Training the SVM model on the Training set"
   ]
  },
  {
   "cell_type": "code",
   "execution_count": 24,
   "id": "144026b2",
   "metadata": {},
   "outputs": [
    {
     "data": {
      "text/plain": [
       "SVC(kernel='linear', random_state=0)"
      ]
     },
     "execution_count": 24,
     "metadata": {},
     "output_type": "execute_result"
    }
   ],
   "source": [
    "from sklearn.svm import SVC\n",
    "cl_svm = SVC(kernel='linear', random_state=0)\n",
    "cl_svm.fit(X_train_feat, y_train)"
   ]
  },
  {
   "cell_type": "markdown",
   "id": "3d975440",
   "metadata": {},
   "source": [
    "### Predicting the test set result"
   ]
  },
  {
   "cell_type": "code",
   "execution_count": 25,
   "id": "0ee295b2",
   "metadata": {},
   "outputs": [],
   "source": [
    "y_pred_svm = cl_svm.predict(X_test_feat)"
   ]
  },
  {
   "cell_type": "markdown",
   "id": "15ff3805",
   "metadata": {},
   "source": [
    "### Making confusion matrix and calculating accuracy score"
   ]
  },
  {
   "cell_type": "code",
   "execution_count": 26,
   "id": "fac6875f",
   "metadata": {},
   "outputs": [
    {
     "name": "stdout",
     "output_type": "stream",
     "text": [
      "[[22593     0]\n",
      " [ 4941     0]]\n",
      "0.8205491392460231\n"
     ]
    }
   ],
   "source": [
    "from sklearn.metrics import confusion_matrix, accuracy_score\n",
    "cm_svm = confusion_matrix(y_test, y_pred_svm)\n",
    "ac_svm = accuracy_score(y_test, y_pred_svm)\n",
    "print(cm_svm)\n",
    "print(ac_svm)"
   ]
  },
  {
   "cell_type": "code",
   "execution_count": null,
   "id": "04774d8c",
   "metadata": {},
   "outputs": [],
   "source": []
  }
 ],
 "metadata": {
  "kernelspec": {
   "display_name": "Python 3",
   "language": "python",
   "name": "python3"
  },
  "language_info": {
   "codemirror_mode": {
    "name": "ipython",
    "version": 3
   },
   "file_extension": ".py",
   "mimetype": "text/x-python",
   "name": "python",
   "nbconvert_exporter": "python",
   "pygments_lexer": "ipython3",
   "version": "3.8.8"
  }
 },
 "nbformat": 4,
 "nbformat_minor": 5
}
