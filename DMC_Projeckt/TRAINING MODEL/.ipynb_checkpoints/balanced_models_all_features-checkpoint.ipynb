{
 "cells": [
  {
   "cell_type": "code",
   "execution_count": 1,
   "metadata": {},
   "outputs": [],
   "source": [
    "import numpy as np\n",
    "import pandas as pd\n",
    "from sklearn.ensemble import RandomForestClassifier\n",
    "from sklearn.model_selection import GridSearchCV\n",
    "from customScoringFunction import custom_score_func, custom_scorer"
   ]
  },
  {
   "cell_type": "code",
   "execution_count": 2,
   "metadata": {},
   "outputs": [],
   "source": [
    "X_train = pd.read_csv(\"../../Data/feature_engineering/train_UI_U_allFeatures_multiclass.csv\")\n",
    "X_test = pd.read_csv(\"../../Data/feature_engineering/test_UI_U_allFeatures_multiclass.csv\")"
   ]
  },
  {
   "cell_type": "code",
   "execution_count": 3,
   "metadata": {},
   "outputs": [],
   "source": [
    "y_test = X_test['prediction']\n",
    "X_test = X_test.drop('prediction', axis=1)"
   ]
  },
  {
   "cell_type": "markdown",
   "metadata": {},
   "source": [
    "# Random under-sampling"
   ]
  },
  {
   "cell_type": "code",
   "execution_count": 4,
   "metadata": {},
   "outputs": [
    {
     "name": "stdout",
     "output_type": "stream",
     "text": [
      "0:52782\t\t1:2713\t\t2:2580\t\t3:2954\t\t4:3214\n"
     ]
    },
    {
     "data": {
      "text/plain": [
       "0.0    11461\n",
       "4.0     3214\n",
       "3.0     2954\n",
       "1.0     2713\n",
       "2.0     2580\n",
       "Name: prediction, dtype: int64"
      ]
     },
     "execution_count": 4,
     "metadata": {},
     "output_type": "execute_result"
    }
   ],
   "source": [
    "amt0 = X_train[X_train['prediction'] == 0].shape[0]\n",
    "amt1 = X_train[X_train['prediction'] == 1].shape[0]\n",
    "amt2 = X_train[X_train['prediction'] == 2].shape[0]\n",
    "amt3 = X_train[X_train['prediction'] == 3].shape[0]\n",
    "amt4 = X_train[X_train['prediction'] == 4].shape[0]\n",
    "\n",
    "amt_pos = amt1 + amt2 + amt3 + amt4\n",
    "\n",
    "print(f'0:{amt0}\\t\\t1:{amt1}\\t\\t2:{amt2}\\t\\t3:{amt3}\\t\\t4:{amt4}')\n",
    "\n",
    "df_0_under = X_train[X_train['prediction'] == 0].sample(amt_pos)\n",
    "\n",
    "\n",
    "X_train_balanced = pd.concat([df_0_under, X_train.drop(X_train[X_train['prediction'] == 0].index)]).sample(frac=1)\n",
    "\n",
    "X_train_balanced['prediction'].value_counts()"
   ]
  },
  {
   "cell_type": "code",
   "execution_count": 5,
   "metadata": {},
   "outputs": [],
   "source": [
    "y_train_balanced = X_train_balanced['prediction']\n",
    "X_train_balanced = X_train_balanced.drop('prediction', axis = 1)"
   ]
  },
  {
   "cell_type": "code",
   "execution_count": 12,
   "metadata": {},
   "outputs": [
    {
     "data": {
      "text/plain": [
       "{'criterion': 'entropy',\n",
       " 'max_depth': 20,\n",
       " 'min_samples_split': 3,\n",
       " 'n_estimators': 102}"
      ]
     },
     "execution_count": 12,
     "metadata": {},
     "output_type": "execute_result"
    }
   ],
   "source": [
    "forest = RandomForestClassifier()\n",
    "params = {'criterion' : ['gini', 'entropy'], \n",
    "          'n_estimators' : np.arange(102, 107),\n",
    "          'min_samples_split' : np.arange(2, 7),\n",
    "          'max_depth' : np.arange(18, 23)}\n",
    "clf = GridSearchCV(estimator=forest, param_grid=params, error_score='raise', n_jobs=-1)\n",
    "clf.fit(X_train_balanced, y_train_balanced)\n",
    "clf.best_params_"
   ]
  },
  {
   "cell_type": "code",
   "execution_count": 13,
   "metadata": {},
   "outputs": [
    {
     "name": "stdout",
     "output_type": "stream",
     "text": [
      "Results for the undersampled random-forest:\n",
      "\n",
      "Accuracy: 79.97%\tPrecision: 25.07%\tRecall: 16.12%   \tDMC-Score: 24083\n"
     ]
    }
   ],
   "source": [
    "predictions = clf.predict(X_test)\n",
    "validation = predictions - y_test\n",
    "\n",
    "correct_pred_1 = predictions[validation == 0]\n",
    "incorrect_pred_1 = predictions[validation != 0]\n",
    "\n",
    "tp = correct_pred_1[correct_pred_1 != 0].shape[0]\n",
    "fp = incorrect_pred_1[incorrect_pred_1 != 0].shape[0]\n",
    "\n",
    "fn = incorrect_pred_1[incorrect_pred_1 == 0].shape[0]\n",
    "\n",
    "print(f'Results for the undersampled random-forest:\\n')\n",
    "print(f'Accuracy:{correct_pred_1.shape[0] / predictions.shape[0] * 100 : .2f}%\\tPrecision:{tp / (tp + fp) * 100 : .2f}%\\tRecall:{tp / (tp + fn) * 100 : .2f}%   \\tDMC-Score: {custom_score_func(predictions, y_test)}')"
   ]
  },
  {
   "cell_type": "code",
   "execution_count": 14,
   "metadata": {},
   "outputs": [
    {
     "data": {
      "text/plain": [
       "<AxesSubplot:>"
      ]
     },
     "execution_count": 14,
     "metadata": {},
     "output_type": "execute_result"
    },
    {
     "data": {
      "image/png": "[encoded data removed]",
      "text/plain": [
       "<Figure size 432x288 with 1 Axes>"
      ]
     },
     "metadata": {
      "needs_background": "light"
     },
     "output_type": "display_data"
    }
   ],
   "source": [
    "currently_best_estimator = clf.best_estimator_\n",
    "\n",
    "(pd.Series(currently_best_estimator.feature_importances_, index=X_test.columns)\n",
    "    .plot(kind='barh')) "
   ]
  },
  {
   "cell_type": "markdown",
   "metadata": {},
   "source": [
    "### Best results achieved with this balancing method <br>\n",
    "__Accuracy:__ $79.97$% $\\;\\;\\;\\;$\t__Precision:__ $25.07$% $\\;\\;\\;\\;$ __Recall:__ $16.12$% $\\;\\;\\;\\;$ __DMC-Score:__ $24083$\n"
   ]
  },
  {
   "cell_type": "markdown",
   "metadata": {},
   "source": [
    "# Random over-sampling"
   ]
  },
  {
   "cell_type": "code",
   "execution_count": 15,
   "metadata": {},
   "outputs": [
    {
     "name": "stdout",
     "output_type": "stream",
     "text": [
      "0:52782\t\t1:2713\t\t2:2580\t\t3:2954\t\t4:3214\n"
     ]
    },
    {
     "data": {
      "text/plain": [
       "0.0    52782\n",
       "4.0    14802\n",
       "3.0    13604\n",
       "1.0    12494\n",
       "2.0    11882\n",
       "Name: prediction, dtype: int64"
      ]
     },
     "execution_count": 15,
     "metadata": {},
     "output_type": "execute_result"
    }
   ],
   "source": [
    "amt0 = X_train[X_train['prediction'] == 0].shape[0]\n",
    "amt1 = X_train[X_train['prediction'] == 1].shape[0]\n",
    "amt2 = X_train[X_train['prediction'] == 2].shape[0]\n",
    "amt3 = X_train[X_train['prediction'] == 3].shape[0]\n",
    "amt4 = X_train[X_train['prediction'] == 4].shape[0]\n",
    "amt_pos = amt1 + amt2 + amt3 + amt4\n",
    "\n",
    "ratio1 = amt1 / amt_pos\n",
    "ratio2 = amt2 / amt_pos\n",
    "ratio3 = amt3 / amt_pos\n",
    "ratio4 = amt4 / amt_pos\n",
    "\n",
    "print(f'0:{amt0}\\t\\t1:{amt1}\\t\\t2:{amt2}\\t\\t3:{amt3}\\t\\t4:{amt4}')\n",
    "\n",
    "df_1_under = X_train[X_train['prediction'] == 1].sample(round(ratio1 * amt0), replace=True)\n",
    "df_2_under = X_train[X_train['prediction'] == 2].sample(round(ratio2 * amt0), replace=True)\n",
    "df_3_under = X_train[X_train['prediction'] == 3].sample(round(ratio3 * amt0), replace=True)\n",
    "df_4_under = X_train[X_train['prediction'] == 4].sample(round(ratio4 * amt0), replace=True)\n",
    "\n",
    "X_train_balanced = pd.concat([df_1_under, df_2_under, df_3_under, df_4_under, X_train[X_train['prediction'] == 0]], axis=0)\n",
    "\n",
    "X_train_balanced['prediction'].value_counts()"
   ]
  },
  {
   "cell_type": "code",
   "execution_count": 16,
   "metadata": {},
   "outputs": [],
   "source": [
    "y_train_balanced = X_train_balanced['prediction']\n",
    "X_train_balanced = X_train_balanced.drop('prediction', axis = 1)"
   ]
  },
  {
   "cell_type": "code",
   "execution_count": 24,
   "metadata": {},
   "outputs": [
    {
     "data": {
      "text/plain": [
       "{'criterion': 'entropy',\n",
       " 'max_depth': 21,\n",
       " 'min_samples_split': 2,\n",
       " 'n_estimators': 104}"
      ]
     },
     "execution_count": 24,
     "metadata": {},
     "output_type": "execute_result"
    }
   ],
   "source": [
    "params = {'criterion' : ['gini', 'entropy'], \n",
    "          'n_estimators' : np.arange(100, 105),\n",
    "          'min_samples_split' : np.arange(2, 5),\n",
    "          'max_depth' : np.arange(17, 22)}\n",
    "clf = GridSearchCV(estimator=forest, param_grid=params, error_score='raise', n_jobs=-1)\n",
    "clf.fit(X_train_balanced, y_train_balanced)\n",
    "clf.best_params_"
   ]
  },
  {
   "cell_type": "code",
   "execution_count": 25,
   "metadata": {},
   "outputs": [
    {
     "name": "stdout",
     "output_type": "stream",
     "text": [
      "Results for the oversampled random-forest:\n",
      "\n",
      "Accuracy: 82.45%\tPrecision: 40.52%\tRecall: 7.70%   \tDMC-Score: 23648\n"
     ]
    }
   ],
   "source": [
    "predictions = clf.predict(X_test)\n",
    "validation = predictions - y_test\n",
    "\n",
    "correct_pred_1 = predictions[validation == 0]\n",
    "incorrect_pred_1 = predictions[validation != 0]\n",
    "\n",
    "tp = correct_pred_1[correct_pred_1 != 0].shape[0]\n",
    "fp = incorrect_pred_1[incorrect_pred_1 != 0].shape[0]\n",
    "\n",
    "fn = incorrect_pred_1[incorrect_pred_1 == 0].shape[0]\n",
    "\n",
    "print(f'Results for the oversampled random-forest:\\n')\n",
    "print(f'Accuracy:{correct_pred_1.shape[0] / predictions.shape[0] * 100 : .2f}%\\tPrecision:{tp / (tp + fp) * 100 : .2f}%\\tRecall:{tp / (tp + fn) * 100 : .2f}%   \\tDMC-Score: {custom_score_func(predictions, y_test)}')"
   ]
  },
  {
   "cell_type": "code",
   "execution_count": 23,
   "metadata": {},
   "outputs": [
    {
     "data": {
      "text/plain": [
       "<AxesSubplot:>"
      ]
     },
     "execution_count": 23,
     "metadata": {},
     "output_type": "execute_result"
    },
    {
     "data": {
      "image/png": "[encoded data removed]",
      "text/plain": [
       "<Figure size 432x288 with 1 Axes>"
      ]
     },
     "metadata": {
      "needs_background": "light"
     },
     "output_type": "display_data"
    }
   ],
   "source": [
    "currently_best_estimator = clf.best_estimator_\n",
    "\n",
    "(pd.Series(currently_best_estimator.feature_importances_, index=X_train_balanced.columns)\n",
    "    .plot(kind='barh')) "
   ]
  },
  {
   "cell_type": "markdown",
   "metadata": {},
   "source": [
    "### Best results achieved with this balancing method <br>\n",
    "__Accuracy:__ $82.21$% $\\;\\;\\;\\;$\t__Precision:__ $34.15$% $\\;\\;\\;\\;$ __Recall:__ $8.24$% $\\;\\;\\;\\;$ __DMC-Score:__ $23730$\n"
   ]
  },
  {
   "cell_type": "code",
   "execution_count": 16,
   "metadata": {},
   "outputs": [
    {
     "name": "stdout",
     "output_type": "stream",
     "text": [
      "Best model: \t24083/37322 points\t 64.53%\n"
     ]
    }
   ],
   "source": [
    "amt3 = X_test[X_test['prediction'] != 0].shape[0] \n",
    "amt1 = X_test[X_test['prediction'] == 0].shape[0]\n",
    "\n",
    "max_points = 3 * amt3 + amt1\n",
    "\n",
    "print(f'Best model: \\t24083/37322 points\\t{24083 / max_points * 100 : .2f}%')"
   ]
  }
 ],
 "metadata": {
  "interpreter": {
   "hash": "f3fe3383067adfeb6185c7a9247a862410e9cc4460399bd9c4c97337cd37b5bd"
  },
  "kernelspec": {
   "display_name": "Python 3",
   "language": "python",
   "name": "python3"
  },
  "language_info": {
   "codemirror_mode": {
    "name": "ipython",
    "version": 3
   },
   "file_extension": ".py",
   "mimetype": "text/x-python",
   "name": "python",
   "nbconvert_exporter": "python",
   "pygments_lexer": "ipython3",
   "version": "3.8.8"
  }
 },
 "nbformat": 4,
 "nbformat_minor": 2
}
