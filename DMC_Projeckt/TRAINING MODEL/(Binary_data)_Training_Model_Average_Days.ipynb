{
 "cells": [
  {
   "cell_type": "code",
   "execution_count": 1,
   "id": "2be8e68d",
   "metadata": {},
   "outputs": [],
   "source": [
    "import numpy as np\n",
    "import pandas as pd\n",
    "import matplotlib.pyplot as plt\n",
    "import seaborn as sns\n",
    "from datetime import datetime\n",
    "from sklearn.metrics import confusion_matrix, accuracy_score, precision_score, recall_score, f1_score"
   ]
  },
  {
   "cell_type": "markdown",
   "id": "4ea58c0d",
   "metadata": {},
   "source": [
    "### Import scoring functions"
   ]
  },
  {
   "cell_type": "code",
   "execution_count": 2,
   "id": "0aa72415",
   "metadata": {},
   "outputs": [],
   "source": [
    "# Code from Lars Grönberg\n",
    "def binaryScore(y: pd.Series, y_pred: pd.Series, normalize :bool = False) -> float:\n",
    "    \"\"\"Calculates the score according to the DMC22 evalution rules for a binary prediction and response\n",
    "\n",
    "    Args:\n",
    "        y (pd.Series): true y_\n",
    "        y_pred (pd.Series): predicted y\n",
    "        normalize (bool): normalizes the score to a value in [0,1]. Defaults to false.\n",
    "\n",
    "    Raises:\n",
    "        ValueError: If number of unique classes in y or y_pred is different from 2\n",
    "\n",
    "    Returns:\n",
    "        int: Score according to the DMC22 evaluation if normalize is false.\n",
    "        float: Score according to the DMC22 evaluation if normalize is true.\n",
    "    \n",
    "    Examples:\n",
    "        >>> truey = pd.Series([0,1,0,1])\n",
    "        >>> predy = pd.Series([1,0,1,1])\n",
    "        >>> binaryScore(truey,predy)\n",
    "        1.5\n",
    "\n",
    "        >>> truey = pd.Series([0,1,0,1])\n",
    "        >>> predy = pd.Series([1,0,1,1])\n",
    "        >>> binaryScore(truey,predy, normalize=True)\n",
    "        0.3\n",
    "\n",
    "        >>> truey = pd.Series([1,1,0,1])\n",
    "        >>> predy = pd.Series([1,1,0,1])\n",
    "        >>> binaryScore(truey,predy)\n",
    "        5.5\n",
    "\n",
    "        >>> truey = pd.Series([1,1,0,1])\n",
    "        >>> predy = pd.Series([1,1,0,1])\n",
    "        >>> binaryScore(truey,predy,normalize=True)\n",
    "        1  \n",
    "    \"\"\"\n",
    "    if (y.astype(int).apply(lambda x: x in [0,1]).all() == False) or (y_pred.astype(int).apply(lambda x: x in [0,1]).all() == False) :\n",
    "        raise ValueError('y and y_pred are only allowed to contain the elements 0 or 1')\n",
    "\n",
    "    rightPrediction = np.abs(y-y_pred) == 0\n",
    "    index0 = (y==0)\n",
    "    score = np.sum((rightPrediction&index0)*1 + (rightPrediction & ~index0)*1.5)\n",
    "\n",
    "    if normalize == True:\n",
    "        maxScore =  np.sum(index0*1 + ~index0*1.5)\n",
    "        return(score/maxScore)\n",
    "    else:\n",
    "        return(score)\n",
    "\n",
    "def multiclassScore(y: pd.Series, y_pred: pd.Series,normalize :bool = False) -> float:\n",
    "    \"\"\"Calculates the score according to the DMC22 evalution rules for a multiclass prediction and response\n",
    "\n",
    "    Args:\n",
    "        y (pd.Series): true y\n",
    "        y_pred (pd.Series): predicted y\n",
    "        normalize (bool): normalizes the score to a value in [0,1]. Defaults to false.\n",
    "\n",
    "    Returns:\n",
    "        int: Score according to the DMC22 evaluation if normalize is false.\n",
    "        float: Score according to the DMC22 evaluation if normalize is true.\n",
    "    \n",
    "    Example:\n",
    "        >>> ytrue = pd.Series([3,4,0,1,4,2])\n",
    "        >>> ypred = pd.Series([4,4,0.0,0,0,3])\n",
    "        >>> multiclassScore(ytrue,ypred)\n",
    "        6\n",
    "\n",
    "        >>> ytrue = pd.Series([3,4,0,1,4,2])\n",
    "        >>> ypred = pd.Series([4,4,0.0,0,0,3])\n",
    "        >>> multiclassScore(ytrue,ypred,normalize=True)\n",
    "        0.375\n",
    "\n",
    "        >>> ytrue = pd.Series([3,4,0,1,4,2])\n",
    "        >>> ypred = pd.Series([3,4,0,1,4,2])\n",
    "        >>> multiclassScore(ytrue,ypred)\n",
    "        16\n",
    "\n",
    "        >>> ytrue = pd.Series([3,4,0,1,4,2])\n",
    "        >>> ypred = pd.Series([3,4,0,1,4,2])\n",
    "        >>> multiclassScore(ytrue,ypred,normalize=True)\n",
    "        1.0\n",
    "\n",
    "    \"\"\"\n",
    "\n",
    "    if (y.astype(int).apply(lambda x: x in [0,1,2,3,4]).all() == False) or (y_pred.astype(int).apply(lambda x: x in [0,1,2,3,4]).all() == False) :\n",
    "        raise ValueError('y and y_pred are only allowed to contain the elements 0,1,2,3,4')\n",
    "\n",
    "\n",
    "    behaviourY = np.where(y>0,1,0) #1 is buying\n",
    "    behaviourPredY = np.where(y_pred>0,1,0)\n",
    "    correctBehaviour = np.sum(behaviourY == behaviourPredY)\n",
    "\n",
    "    correctPredictionsWeek = np.sum((y == y_pred) & (y > 0))\n",
    "\n",
    "    score = (correctBehaviour-correctPredictionsWeek)*1+correctPredictionsWeek*3\n",
    "\n",
    "    if normalize == True:\n",
    "        maxScore = np.sum((y>0)*3 + (y==0)*1)\n",
    "        return(score/maxScore)\n",
    "    else:\n",
    "        return(score)\n"
   ]
  },
  {
   "cell_type": "markdown",
   "id": "6fc980bf",
   "metadata": {},
   "source": [
    "### Import dataset"
   ]
  },
  {
   "cell_type": "code",
   "execution_count": 3,
   "id": "e4942955",
   "metadata": {},
   "outputs": [],
   "source": [
    "binary_train = pd.read_csv('binary_train_70_backgroundTrainTestsplit.csv')\n",
    "binary_test = pd.read_csv('binary_test_30_backgroundTrainTestsplit.csv')"
   ]
  },
  {
   "cell_type": "markdown",
   "id": "57c9bb2a",
   "metadata": {},
   "source": [
    "### Splitting train_set and test_set into X_train, y_train, X_test, y_test"
   ]
  },
  {
   "cell_type": "code",
   "execution_count": 4,
   "id": "4c315dd5",
   "metadata": {},
   "outputs": [],
   "source": [
    "X_train = binary_train.drop(columns=['item_bought_next_28_days'])\n",
    "y_train = binary_train['item_bought_next_28_days']\n",
    "\n",
    "X_test = binary_test.drop(columns = ['item_bought_next_28_days'])\n",
    "y_test = binary_test['item_bought_next_28_days']"
   ]
  },
  {
   "cell_type": "code",
   "execution_count": 5,
   "id": "c209b259",
   "metadata": {},
   "outputs": [
    {
     "data": {
      "text/html": [
       "<div>\n",
       "<style scoped>\n",
       "    .dataframe tbody tr th:only-of-type {\n",
       "        vertical-align: middle;\n",
       "    }\n",
       "\n",
       "    .dataframe tbody tr th {\n",
       "        vertical-align: top;\n",
       "    }\n",
       "\n",
       "    .dataframe thead th {\n",
       "        text-align: right;\n",
       "    }\n",
       "</style>\n",
       "<table border=\"1\" class=\"dataframe\">\n",
       "  <thead>\n",
       "    <tr style=\"text-align: right;\">\n",
       "      <th></th>\n",
       "      <th>userID</th>\n",
       "      <th>itemID</th>\n",
       "    </tr>\n",
       "  </thead>\n",
       "  <tbody>\n",
       "    <tr>\n",
       "      <th>0</th>\n",
       "      <td>1199</td>\n",
       "      <td>637</td>\n",
       "    </tr>\n",
       "    <tr>\n",
       "      <th>1</th>\n",
       "      <td>21557</td>\n",
       "      <td>3520</td>\n",
       "    </tr>\n",
       "    <tr>\n",
       "      <th>2</th>\n",
       "      <td>23387</td>\n",
       "      <td>1633</td>\n",
       "    </tr>\n",
       "    <tr>\n",
       "      <th>3</th>\n",
       "      <td>32069</td>\n",
       "      <td>29311</td>\n",
       "    </tr>\n",
       "    <tr>\n",
       "      <th>4</th>\n",
       "      <td>30359</td>\n",
       "      <td>11124</td>\n",
       "    </tr>\n",
       "    <tr>\n",
       "      <th>...</th>\n",
       "      <td>...</td>\n",
       "      <td>...</td>\n",
       "    </tr>\n",
       "    <tr>\n",
       "      <th>64238</th>\n",
       "      <td>40754</td>\n",
       "      <td>7997</td>\n",
       "    </tr>\n",
       "    <tr>\n",
       "      <th>64239</th>\n",
       "      <td>37518</td>\n",
       "      <td>18630</td>\n",
       "    </tr>\n",
       "    <tr>\n",
       "      <th>64240</th>\n",
       "      <td>27676</td>\n",
       "      <td>3997</td>\n",
       "    </tr>\n",
       "    <tr>\n",
       "      <th>64241</th>\n",
       "      <td>42405</td>\n",
       "      <td>28532</td>\n",
       "    </tr>\n",
       "    <tr>\n",
       "      <th>64242</th>\n",
       "      <td>5147</td>\n",
       "      <td>21343</td>\n",
       "    </tr>\n",
       "  </tbody>\n",
       "</table>\n",
       "<p>64243 rows × 2 columns</p>\n",
       "</div>"
      ],
      "text/plain": [
       "       userID  itemID\n",
       "0        1199     637\n",
       "1       21557    3520\n",
       "2       23387    1633\n",
       "3       32069   29311\n",
       "4       30359   11124\n",
       "...       ...     ...\n",
       "64238   40754    7997\n",
       "64239   37518   18630\n",
       "64240   27676    3997\n",
       "64241   42405   28532\n",
       "64242    5147   21343\n",
       "\n",
       "[64243 rows x 2 columns]"
      ]
     },
     "execution_count": 5,
     "metadata": {},
     "output_type": "execute_result"
    }
   ],
   "source": [
    "X_train"
   ]
  },
  {
   "cell_type": "markdown",
   "id": "5435da1a",
   "metadata": {},
   "source": [
    "### Merging X_train, X_test with features"
   ]
  },
  {
   "cell_type": "code",
   "execution_count": 7,
   "id": "86af8ef3",
   "metadata": {},
   "outputs": [
    {
     "data": {
      "text/html": [
       "<div>\n",
       "<style scoped>\n",
       "    .dataframe tbody tr th:only-of-type {\n",
       "        vertical-align: middle;\n",
       "    }\n",
       "\n",
       "    .dataframe tbody tr th {\n",
       "        vertical-align: top;\n",
       "    }\n",
       "\n",
       "    .dataframe thead th {\n",
       "        text-align: right;\n",
       "    }\n",
       "</style>\n",
       "<table border=\"1\" class=\"dataframe\">\n",
       "  <thead>\n",
       "    <tr style=\"text-align: right;\">\n",
       "      <th></th>\n",
       "      <th>userID</th>\n",
       "      <th>itemID</th>\n",
       "      <th>average_cycle_days</th>\n",
       "      <th>first_day_delta_bought</th>\n",
       "      <th>last_day_delta_bought</th>\n",
       "    </tr>\n",
       "  </thead>\n",
       "  <tbody>\n",
       "    <tr>\n",
       "      <th>0</th>\n",
       "      <td>0</td>\n",
       "      <td>1505</td>\n",
       "      <td>0.0</td>\n",
       "      <td>93</td>\n",
       "      <td>93</td>\n",
       "    </tr>\n",
       "    <tr>\n",
       "      <th>1</th>\n",
       "      <td>0</td>\n",
       "      <td>6446</td>\n",
       "      <td>0.0</td>\n",
       "      <td>194</td>\n",
       "      <td>194</td>\n",
       "    </tr>\n",
       "    <tr>\n",
       "      <th>2</th>\n",
       "      <td>0</td>\n",
       "      <td>9325</td>\n",
       "      <td>0.0</td>\n",
       "      <td>173</td>\n",
       "      <td>173</td>\n",
       "    </tr>\n",
       "    <tr>\n",
       "      <th>3</th>\n",
       "      <td>0</td>\n",
       "      <td>12468</td>\n",
       "      <td>0.0</td>\n",
       "      <td>64</td>\n",
       "      <td>64</td>\n",
       "    </tr>\n",
       "    <tr>\n",
       "      <th>4</th>\n",
       "      <td>0</td>\n",
       "      <td>12505</td>\n",
       "      <td>0.0</td>\n",
       "      <td>79</td>\n",
       "      <td>79</td>\n",
       "    </tr>\n",
       "    <tr>\n",
       "      <th>...</th>\n",
       "      <td>...</td>\n",
       "      <td>...</td>\n",
       "      <td>...</td>\n",
       "      <td>...</td>\n",
       "      <td>...</td>\n",
       "    </tr>\n",
       "    <tr>\n",
       "      <th>919701</th>\n",
       "      <td>46137</td>\n",
       "      <td>2667</td>\n",
       "      <td>0.0</td>\n",
       "      <td>109</td>\n",
       "      <td>109</td>\n",
       "    </tr>\n",
       "    <tr>\n",
       "      <th>919702</th>\n",
       "      <td>46137</td>\n",
       "      <td>20209</td>\n",
       "      <td>0.0</td>\n",
       "      <td>69</td>\n",
       "      <td>69</td>\n",
       "    </tr>\n",
       "    <tr>\n",
       "      <th>919703</th>\n",
       "      <td>46137</td>\n",
       "      <td>28343</td>\n",
       "      <td>0.0</td>\n",
       "      <td>69</td>\n",
       "      <td>69</td>\n",
       "    </tr>\n",
       "    <tr>\n",
       "      <th>919704</th>\n",
       "      <td>46137</td>\n",
       "      <td>28900</td>\n",
       "      <td>0.0</td>\n",
       "      <td>69</td>\n",
       "      <td>69</td>\n",
       "    </tr>\n",
       "    <tr>\n",
       "      <th>919705</th>\n",
       "      <td>46137</td>\n",
       "      <td>32292</td>\n",
       "      <td>0.0</td>\n",
       "      <td>69</td>\n",
       "      <td>69</td>\n",
       "    </tr>\n",
       "  </tbody>\n",
       "</table>\n",
       "<p>784055 rows × 5 columns</p>\n",
       "</div>"
      ],
      "text/plain": [
       "        userID  itemID  average_cycle_days  first_day_delta_bought  \\\n",
       "0            0    1505                 0.0                      93   \n",
       "1            0    6446                 0.0                     194   \n",
       "2            0    9325                 0.0                     173   \n",
       "3            0   12468                 0.0                      64   \n",
       "4            0   12505                 0.0                      79   \n",
       "...        ...     ...                 ...                     ...   \n",
       "919701   46137    2667                 0.0                     109   \n",
       "919702   46137   20209                 0.0                      69   \n",
       "919703   46137   28343                 0.0                      69   \n",
       "919704   46137   28900                 0.0                      69   \n",
       "919705   46137   32292                 0.0                      69   \n",
       "\n",
       "        last_day_delta_bought  \n",
       "0                          93  \n",
       "1                         194  \n",
       "2                         173  \n",
       "3                          64  \n",
       "4                          79  \n",
       "...                       ...  \n",
       "919701                    109  \n",
       "919702                     69  \n",
       "919703                     69  \n",
       "919704                     69  \n",
       "919705                     69  \n",
       "\n",
       "[784055 rows x 5 columns]"
      ]
     },
     "execution_count": 7,
     "metadata": {},
     "output_type": "execute_result"
    }
   ],
   "source": [
    "features = pd.read_csv('3_IU_FEAT_Average_Day.csv', index_col = 0).drop(columns=['first_date_bought', 'last_date_bought'])\n",
    "features"
   ]
  },
  {
   "cell_type": "code",
   "execution_count": 9,
   "id": "4b63eea0",
   "metadata": {},
   "outputs": [
    {
     "data": {
      "text/html": [
       "<div>\n",
       "<style scoped>\n",
       "    .dataframe tbody tr th:only-of-type {\n",
       "        vertical-align: middle;\n",
       "    }\n",
       "\n",
       "    .dataframe tbody tr th {\n",
       "        vertical-align: top;\n",
       "    }\n",
       "\n",
       "    .dataframe thead th {\n",
       "        text-align: right;\n",
       "    }\n",
       "</style>\n",
       "<table border=\"1\" class=\"dataframe\">\n",
       "  <thead>\n",
       "    <tr style=\"text-align: right;\">\n",
       "      <th></th>\n",
       "      <th>userID</th>\n",
       "      <th>itemID</th>\n",
       "      <th>average_cycle_days</th>\n",
       "      <th>first_day_delta_bought</th>\n",
       "      <th>last_day_delta_bought</th>\n",
       "    </tr>\n",
       "  </thead>\n",
       "  <tbody>\n",
       "    <tr>\n",
       "      <th>0</th>\n",
       "      <td>1199</td>\n",
       "      <td>637</td>\n",
       "      <td>126.0</td>\n",
       "      <td>14</td>\n",
       "      <td>140</td>\n",
       "    </tr>\n",
       "    <tr>\n",
       "      <th>1</th>\n",
       "      <td>21557</td>\n",
       "      <td>3520</td>\n",
       "      <td>83.0</td>\n",
       "      <td>72</td>\n",
       "      <td>155</td>\n",
       "    </tr>\n",
       "    <tr>\n",
       "      <th>2</th>\n",
       "      <td>23387</td>\n",
       "      <td>1633</td>\n",
       "      <td>124.0</td>\n",
       "      <td>31</td>\n",
       "      <td>155</td>\n",
       "    </tr>\n",
       "    <tr>\n",
       "      <th>3</th>\n",
       "      <td>32069</td>\n",
       "      <td>29311</td>\n",
       "      <td>28.0</td>\n",
       "      <td>135</td>\n",
       "      <td>191</td>\n",
       "    </tr>\n",
       "    <tr>\n",
       "      <th>4</th>\n",
       "      <td>30359</td>\n",
       "      <td>11124</td>\n",
       "      <td>10.0</td>\n",
       "      <td>119</td>\n",
       "      <td>129</td>\n",
       "    </tr>\n",
       "    <tr>\n",
       "      <th>...</th>\n",
       "      <td>...</td>\n",
       "      <td>...</td>\n",
       "      <td>...</td>\n",
       "      <td>...</td>\n",
       "      <td>...</td>\n",
       "    </tr>\n",
       "    <tr>\n",
       "      <th>64238</th>\n",
       "      <td>40754</td>\n",
       "      <td>7997</td>\n",
       "      <td>31.0</td>\n",
       "      <td>52</td>\n",
       "      <td>114</td>\n",
       "    </tr>\n",
       "    <tr>\n",
       "      <th>64239</th>\n",
       "      <td>37518</td>\n",
       "      <td>18630</td>\n",
       "      <td>65.5</td>\n",
       "      <td>80</td>\n",
       "      <td>211</td>\n",
       "    </tr>\n",
       "    <tr>\n",
       "      <th>64240</th>\n",
       "      <td>27676</td>\n",
       "      <td>3997</td>\n",
       "      <td>127.0</td>\n",
       "      <td>77</td>\n",
       "      <td>204</td>\n",
       "    </tr>\n",
       "    <tr>\n",
       "      <th>64241</th>\n",
       "      <td>42405</td>\n",
       "      <td>28532</td>\n",
       "      <td>115.0</td>\n",
       "      <td>34</td>\n",
       "      <td>149</td>\n",
       "    </tr>\n",
       "    <tr>\n",
       "      <th>64242</th>\n",
       "      <td>5147</td>\n",
       "      <td>21343</td>\n",
       "      <td>65.0</td>\n",
       "      <td>115</td>\n",
       "      <td>180</td>\n",
       "    </tr>\n",
       "  </tbody>\n",
       "</table>\n",
       "<p>64243 rows × 5 columns</p>\n",
       "</div>"
      ],
      "text/plain": [
       "       userID  itemID  average_cycle_days  first_day_delta_bought  \\\n",
       "0        1199     637               126.0                      14   \n",
       "1       21557    3520                83.0                      72   \n",
       "2       23387    1633               124.0                      31   \n",
       "3       32069   29311                28.0                     135   \n",
       "4       30359   11124                10.0                     119   \n",
       "...       ...     ...                 ...                     ...   \n",
       "64238   40754    7997                31.0                      52   \n",
       "64239   37518   18630                65.5                      80   \n",
       "64240   27676    3997               127.0                      77   \n",
       "64241   42405   28532               115.0                      34   \n",
       "64242    5147   21343                65.0                     115   \n",
       "\n",
       "       last_day_delta_bought  \n",
       "0                        140  \n",
       "1                        155  \n",
       "2                        155  \n",
       "3                        191  \n",
       "4                        129  \n",
       "...                      ...  \n",
       "64238                    114  \n",
       "64239                    211  \n",
       "64240                    204  \n",
       "64241                    149  \n",
       "64242                    180  \n",
       "\n",
       "[64243 rows x 5 columns]"
      ]
     },
     "execution_count": 9,
     "metadata": {},
     "output_type": "execute_result"
    }
   ],
   "source": [
    "X_train_feat = X_train.merge(features, how = 'inner', on = ['userID', 'itemID'])\n",
    "X_test_feat = X_test.merge(features, how = 'inner', on = ['userID', 'itemID'])\n",
    "X_train_feat"
   ]
  },
  {
   "cell_type": "code",
   "execution_count": 10,
   "id": "b891140f",
   "metadata": {},
   "outputs": [
    {
     "data": {
      "text/html": [
       "<div>\n",
       "<style scoped>\n",
       "    .dataframe tbody tr th:only-of-type {\n",
       "        vertical-align: middle;\n",
       "    }\n",
       "\n",
       "    .dataframe tbody tr th {\n",
       "        vertical-align: top;\n",
       "    }\n",
       "\n",
       "    .dataframe thead th {\n",
       "        text-align: right;\n",
       "    }\n",
       "</style>\n",
       "<table border=\"1\" class=\"dataframe\">\n",
       "  <thead>\n",
       "    <tr style=\"text-align: right;\">\n",
       "      <th></th>\n",
       "      <th>userID</th>\n",
       "      <th>itemID</th>\n",
       "      <th>average_cycle_days</th>\n",
       "      <th>first_day_delta_bought</th>\n",
       "      <th>last_day_delta_bought</th>\n",
       "    </tr>\n",
       "  </thead>\n",
       "  <tbody>\n",
       "    <tr>\n",
       "      <th>0</th>\n",
       "      <td>16831</td>\n",
       "      <td>32528</td>\n",
       "      <td>64.00</td>\n",
       "      <td>129</td>\n",
       "      <td>193</td>\n",
       "    </tr>\n",
       "    <tr>\n",
       "      <th>1</th>\n",
       "      <td>25813</td>\n",
       "      <td>12911</td>\n",
       "      <td>94.00</td>\n",
       "      <td>47</td>\n",
       "      <td>141</td>\n",
       "    </tr>\n",
       "    <tr>\n",
       "      <th>2</th>\n",
       "      <td>21519</td>\n",
       "      <td>16041</td>\n",
       "      <td>26.00</td>\n",
       "      <td>108</td>\n",
       "      <td>134</td>\n",
       "    </tr>\n",
       "    <tr>\n",
       "      <th>3</th>\n",
       "      <td>21214</td>\n",
       "      <td>6478</td>\n",
       "      <td>84.00</td>\n",
       "      <td>16</td>\n",
       "      <td>100</td>\n",
       "    </tr>\n",
       "    <tr>\n",
       "      <th>4</th>\n",
       "      <td>20386</td>\n",
       "      <td>19932</td>\n",
       "      <td>34.00</td>\n",
       "      <td>26</td>\n",
       "      <td>94</td>\n",
       "    </tr>\n",
       "    <tr>\n",
       "      <th>...</th>\n",
       "      <td>...</td>\n",
       "      <td>...</td>\n",
       "      <td>...</td>\n",
       "      <td>...</td>\n",
       "      <td>...</td>\n",
       "    </tr>\n",
       "    <tr>\n",
       "      <th>27529</th>\n",
       "      <td>2176</td>\n",
       "      <td>9773</td>\n",
       "      <td>42.00</td>\n",
       "      <td>138</td>\n",
       "      <td>180</td>\n",
       "    </tr>\n",
       "    <tr>\n",
       "      <th>27530</th>\n",
       "      <td>20041</td>\n",
       "      <td>19824</td>\n",
       "      <td>53.33</td>\n",
       "      <td>25</td>\n",
       "      <td>185</td>\n",
       "    </tr>\n",
       "    <tr>\n",
       "      <th>27531</th>\n",
       "      <td>39920</td>\n",
       "      <td>18714</td>\n",
       "      <td>159.00</td>\n",
       "      <td>23</td>\n",
       "      <td>182</td>\n",
       "    </tr>\n",
       "    <tr>\n",
       "      <th>27532</th>\n",
       "      <td>5127</td>\n",
       "      <td>1299</td>\n",
       "      <td>47.50</td>\n",
       "      <td>118</td>\n",
       "      <td>213</td>\n",
       "    </tr>\n",
       "    <tr>\n",
       "      <th>27533</th>\n",
       "      <td>29975</td>\n",
       "      <td>11454</td>\n",
       "      <td>58.00</td>\n",
       "      <td>62</td>\n",
       "      <td>120</td>\n",
       "    </tr>\n",
       "  </tbody>\n",
       "</table>\n",
       "<p>27534 rows × 5 columns</p>\n",
       "</div>"
      ],
      "text/plain": [
       "       userID  itemID  average_cycle_days  first_day_delta_bought  \\\n",
       "0       16831   32528               64.00                     129   \n",
       "1       25813   12911               94.00                      47   \n",
       "2       21519   16041               26.00                     108   \n",
       "3       21214    6478               84.00                      16   \n",
       "4       20386   19932               34.00                      26   \n",
       "...       ...     ...                 ...                     ...   \n",
       "27529    2176    9773               42.00                     138   \n",
       "27530   20041   19824               53.33                      25   \n",
       "27531   39920   18714              159.00                      23   \n",
       "27532    5127    1299               47.50                     118   \n",
       "27533   29975   11454               58.00                      62   \n",
       "\n",
       "       last_day_delta_bought  \n",
       "0                        193  \n",
       "1                        141  \n",
       "2                        134  \n",
       "3                        100  \n",
       "4                         94  \n",
       "...                      ...  \n",
       "27529                    180  \n",
       "27530                    185  \n",
       "27531                    182  \n",
       "27532                    213  \n",
       "27533                    120  \n",
       "\n",
       "[27534 rows x 5 columns]"
      ]
     },
     "execution_count": 10,
     "metadata": {},
     "output_type": "execute_result"
    }
   ],
   "source": [
    "X_test_feat"
   ]
  },
  {
   "cell_type": "markdown",
   "id": "cd1c3621",
   "metadata": {},
   "source": [
    "# Training Model\n",
    "- using features: userID, itemID, average_cycle_days,first_day_delta_bought,last_day_delta_bought\n",
    "- y is prediction column"
   ]
  },
  {
   "cell_type": "markdown",
   "id": "8305732a",
   "metadata": {},
   "source": [
    "### Feature scaling"
   ]
  },
  {
   "cell_type": "code",
   "execution_count": 11,
   "id": "29d63c22",
   "metadata": {},
   "outputs": [],
   "source": [
    "from sklearn.preprocessing import StandardScaler\n",
    "sc = StandardScaler()\n",
    "X_train_feat = sc.fit_transform(X_train_feat)\n",
    "X_test_feat = sc.transform(X_test_feat)"
   ]
  },
  {
   "cell_type": "code",
   "execution_count": 12,
   "id": "2cc24541",
   "metadata": {},
   "outputs": [
    {
     "name": "stdout",
     "output_type": "stream",
     "text": [
      "[[-1.64276069 -1.68334004  1.1869798  -1.02251965 -0.45332435]\n",
      " [-0.11693705 -1.37929404  0.16149324  0.25036148 -0.11276811]\n",
      " [ 0.02022069 -1.57830022  1.13928275 -0.6494338  -0.11276811]\n",
      " ...\n",
      " [ 0.34167946 -1.32898883  1.21082833  0.36009261  0.99971558]\n",
      " [ 1.44561189  1.25851328  0.92464603 -0.58359512 -0.24899061]\n",
      " [-1.34685973  0.50034932 -0.26778021  1.1940492   0.45482561]]\n"
     ]
    }
   ],
   "source": [
    "print(X_train_feat)"
   ]
  },
  {
   "cell_type": "code",
   "execution_count": 13,
   "id": "0479aeea",
   "metadata": {},
   "outputs": [
    {
     "name": "stdout",
     "output_type": "stream",
     "text": [
      "[[-0.47114879  1.67993812 -0.29162874  1.50129637  0.74997434]\n",
      " [ 0.20204838 -0.38890349  0.42382701 -0.29829418 -0.4306206 ]\n",
      " [-0.11978513 -0.05880846 -1.19787268  1.04042562 -0.58954684]\n",
      " ...\n",
      " [ 1.25936217  0.22309059  1.97398112 -0.82500361  0.50023311]\n",
      " [-1.34835872 -1.61352442 -0.6851294   1.25988788  1.20404932]\n",
      " [ 0.51398855 -0.54256114 -0.43471989  0.03089921 -0.90739932]]\n"
     ]
    }
   ],
   "source": [
    "print(X_test_feat)"
   ]
  },
  {
   "cell_type": "markdown",
   "id": "cf6abfa7",
   "metadata": {},
   "source": [
    "# I. Random Forest Classification Model"
   ]
  },
  {
   "cell_type": "markdown",
   "id": "b3cf3eb8",
   "metadata": {},
   "source": [
    "### Training the Random Forest Classification model on the Training set"
   ]
  },
  {
   "cell_type": "code",
   "execution_count": 14,
   "id": "3d343abc",
   "metadata": {},
   "outputs": [
    {
     "data": {
      "text/plain": [
       "RandomForestClassifier(criterion='entropy', n_estimators=10, random_state=0)"
      ]
     },
     "execution_count": 14,
     "metadata": {},
     "output_type": "execute_result"
    }
   ],
   "source": [
    "from sklearn.ensemble import RandomForestClassifier\n",
    "classifier = RandomForestClassifier(n_estimators = 10, criterion = 'entropy', random_state = 0)\n",
    "classifier.fit(X_train_feat, y_train)"
   ]
  },
  {
   "cell_type": "markdown",
   "id": "34bb5f31",
   "metadata": {},
   "source": [
    "### Predicting the test set result"
   ]
  },
  {
   "cell_type": "code",
   "execution_count": 1,
   "id": "0667bc9e",
   "metadata": {},
   "outputs": [
    {
     "ename": "NameError",
     "evalue": "name 'classifier' is not defined",
     "output_type": "error",
     "traceback": [
      "\u001b[1;31m---------------------------------------------------------------------------\u001b[0m",
      "\u001b[1;31mNameError\u001b[0m                                 Traceback (most recent call last)",
      "\u001b[1;32m<ipython-input-1-831a2f2f605d>\u001b[0m in \u001b[0;36m<module>\u001b[1;34m\u001b[0m\n\u001b[1;32m----> 1\u001b[1;33m \u001b[0my_pred\u001b[0m \u001b[1;33m=\u001b[0m \u001b[0mclassifier\u001b[0m\u001b[1;33m.\u001b[0m\u001b[0mpredict\u001b[0m\u001b[1;33m(\u001b[0m\u001b[0mX_test_feat\u001b[0m\u001b[1;33m)\u001b[0m\u001b[1;33m\u001b[0m\u001b[1;33m\u001b[0m\u001b[0m\n\u001b[0m\u001b[0;32m      2\u001b[0m \u001b[0my_pred\u001b[0m\u001b[1;33m\u001b[0m\u001b[1;33m\u001b[0m\u001b[0m\n",
      "\u001b[1;31mNameError\u001b[0m: name 'classifier' is not defined"
     ]
    }
   ],
   "source": [
    "y_pred = classifier.predict(X_test_feat)\n"
   ]
  },
  {
   "cell_type": "markdown",
   "id": "8f459142",
   "metadata": {},
   "source": [
    "### Making confusion matrix and calculating accuracy score"
   ]
  },
  {
   "cell_type": "code",
   "execution_count": 16,
   "id": "b94705d5",
   "metadata": {},
   "outputs": [
    {
     "name": "stdout",
     "output_type": "stream",
     "text": [
      "Confusion matrix:\n",
      "[[21769   850]\n",
      " [ 4222   693]]\n",
      "Accuracy score: 0.8157913851964843\n",
      "Precision score: [0.83755916 0.44912508]\n",
      "Recall score: [0.96242097 0.14099695]\n",
      "f1 score: [0.89565933 0.21461753]\n"
     ]
    }
   ],
   "source": [
    "cm = confusion_matrix(y_test, y_pred)\n",
    "print(\"Confusion matrix:\")\n",
    "print(cm)\n",
    "ac = accuracy_score(y_test, y_pred)\n",
    "print(f\"Accuracy score: {ac}\")\n",
    "\n",
    "preci = precision_score(y_test, y_pred, average = None)\n",
    "print(f\"Precision score: {preci}\")\n",
    "\n",
    "recall = recall_score(y_test, y_pred, average = None)\n",
    "print(f\"Recall score: {recall}\")\n",
    "\n",
    "f1_sc = f1_score(y_test, y_pred, average = None)\n",
    "print(f\"f1 score: {f1_sc}\")"
   ]
  },
  {
   "cell_type": "markdown",
   "id": "24130785",
   "metadata": {},
   "source": [
    "### Applying binaryScore() function to calculate the score of the model\n",
    "- if y_true = 1 and y_pred = 1  --> getting 1.5 score\n",
    "- if y_true = 0 and y_pred = 0 --> getting 1 score\n",
    "- Otherwise 0 score\n",
    "--> In general, the final score tells us how many score has our model obtained with considering that the value of prediction 1_classifier correctly is higher than that of 0_classifier"
   ]
  },
  {
   "cell_type": "code",
   "execution_count": 17,
   "id": "0aeb3774",
   "metadata": {},
   "outputs": [
    {
     "data": {
      "text/plain": [
       "0        0.0\n",
       "1        1.0\n",
       "2        0.0\n",
       "3        0.0\n",
       "4        0.0\n",
       "        ... \n",
       "27529    0.0\n",
       "27530    1.0\n",
       "27531    0.0\n",
       "27532    0.0\n",
       "27533    0.0\n",
       "Length: 27534, dtype: float64"
      ]
     },
     "execution_count": 17,
     "metadata": {},
     "output_type": "execute_result"
    }
   ],
   "source": [
    "# converting y_pred from type of numpy.ndarray to pd.Series in order to apply the binaryScore()\n",
    "y_pred_conv = pd.Series(y_pred)\n",
    "y_pred_conv"
   ]
  },
  {
   "cell_type": "code",
   "execution_count": 19,
   "id": "d1146b82",
   "metadata": {},
   "outputs": [
    {
     "data": {
      "text/plain": [
       "22808.5"
      ]
     },
     "execution_count": 19,
     "metadata": {},
     "output_type": "execute_result"
    }
   ],
   "source": [
    "score = binaryScore(y_test, y_pred_conv, normalize= False)\n",
    "score"
   ]
  },
  {
   "cell_type": "markdown",
   "id": "2183b48e",
   "metadata": {},
   "source": [
    "# II. Decision Tree Classification Model "
   ]
  },
  {
   "cell_type": "markdown",
   "id": "c6e9d514",
   "metadata": {},
   "source": [
    "### Training the Decision Tree Classification model on the Training set"
   ]
  },
  {
   "cell_type": "code",
   "execution_count": 20,
   "id": "3117bf3a",
   "metadata": {},
   "outputs": [
    {
     "data": {
      "text/plain": [
       "DecisionTreeClassifier(criterion='entropy', random_state=0)"
      ]
     },
     "execution_count": 20,
     "metadata": {},
     "output_type": "execute_result"
    }
   ],
   "source": [
    "from sklearn.tree import DecisionTreeClassifier\n",
    "cl_tree = DecisionTreeClassifier(criterion = 'entropy', random_state = 0)\n",
    "cl_tree.fit(X_train_feat, y_train)"
   ]
  },
  {
   "cell_type": "markdown",
   "id": "ab8ca12e",
   "metadata": {},
   "source": [
    "### Predicting the test set result"
   ]
  },
  {
   "cell_type": "code",
   "execution_count": 21,
   "id": "f8b8a692",
   "metadata": {},
   "outputs": [],
   "source": [
    "y_pred_tree = cl_tree.predict(X_test_feat)"
   ]
  },
  {
   "cell_type": "markdown",
   "id": "3cd34339",
   "metadata": {},
   "source": [
    "### Making the confusion matrix"
   ]
  },
  {
   "cell_type": "code",
   "execution_count": 22,
   "id": "74ca2772",
   "metadata": {},
   "outputs": [
    {
     "name": "stdout",
     "output_type": "stream",
     "text": [
      "Confusion matrix:\n",
      "[[18964  3655]\n",
      " [ 3495  1420]]\n",
      "Accuracy score: 0.7403210576015109\n",
      "Precision score: [0.8443831  0.27980296]\n",
      "Recall score: [0.83841019 0.2889115 ]\n",
      "f1 score: [0.84138604 0.28428428]\n"
     ]
    }
   ],
   "source": [
    "cm_tree = confusion_matrix(y_test, y_pred_tree)\n",
    "print('Confusion matrix:')\n",
    "print(cm_tree)\n",
    "\n",
    "ac_tree = accuracy_score(y_test, y_pred_tree)\n",
    "print(f\"Accuracy score: {ac_tree}\")\n",
    "\n",
    "preci_tree = precision_score(y_test, y_pred_tree, average = None)\n",
    "print(f\"Precision score: {preci_tree}\")\n",
    "\n",
    "recall_tree = recall_score(y_test, y_pred_tree, average = None)\n",
    "print(f\"Recall score: {recall_tree}\")\n",
    "\n",
    "f1_sc_tree = f1_score(y_test, y_pred_tree, average = None)\n",
    "print(f\"f1 score: {f1_sc_tree}\")"
   ]
  },
  {
   "cell_type": "markdown",
   "id": "02127338",
   "metadata": {},
   "source": [
    "### Applying binaryScore() function to calculate the score of the model"
   ]
  },
  {
   "cell_type": "code",
   "execution_count": 23,
   "id": "de89fbe0",
   "metadata": {},
   "outputs": [
    {
     "data": {
      "text/plain": [
       "0        0.0\n",
       "1        0.0\n",
       "2        0.0\n",
       "3        0.0\n",
       "4        0.0\n",
       "        ... \n",
       "27529    0.0\n",
       "27530    0.0\n",
       "27531    0.0\n",
       "27532    0.0\n",
       "27533    1.0\n",
       "Length: 27534, dtype: float64"
      ]
     },
     "execution_count": 23,
     "metadata": {},
     "output_type": "execute_result"
    }
   ],
   "source": [
    "# converting y_pred from type of numpy.ndarray to pd.Series in order to apply the binaryScore()\n",
    "y_pred_tree_conv = pd.Series(y_pred_tree)\n",
    "y_pred_tree_conv"
   ]
  },
  {
   "cell_type": "code",
   "execution_count": 24,
   "id": "b35850de",
   "metadata": {},
   "outputs": [
    {
     "data": {
      "text/plain": [
       "0.7033326109064235"
      ]
     },
     "execution_count": 24,
     "metadata": {},
     "output_type": "execute_result"
    }
   ],
   "source": [
    "score_tree = binaryScore(y_test, y_pred_tree_conv, normalize= True)\n",
    "score_tree"
   ]
  },
  {
   "cell_type": "markdown",
   "id": "9333f0fc",
   "metadata": {},
   "source": [
    "### Using GridSearchCV"
   ]
  },
  {
   "cell_type": "code",
   "execution_count": 17,
   "id": "da1fc94b",
   "metadata": {},
   "outputs": [
    {
     "data": {
      "text/plain": [
       "{'criterion': 'gini',\n",
       " 'max_depth': 2,\n",
       " 'max_leaf_nodes': 2,\n",
       " 'min_samples_leaf': 1,\n",
       " 'min_samples_split': 2}"
      ]
     },
     "execution_count": 17,
     "metadata": {},
     "output_type": "execute_result"
    }
   ],
   "source": [
    "# Code of Leon\n",
    "from sklearn.model_selection import GridSearchCV\n",
    "dTree = DecisionTreeClassifier()\n",
    "params = {'criterion' : ['gini', 'entropy'], \n",
    "          'min_samples_split' : np.arange(2, 5),\n",
    "          'min_samples_leaf' : np.arange(1, 3),\n",
    "          'max_leaf_nodes' : np.arange(2, 5),\n",
    "          'max_depth' : np.arange(2, 5)}\n",
    "clf = GridSearchCV(estimator=dTree, param_grid=params, error_score='raise', n_jobs=-1)\n",
    "clf.fit(X_train_feat, y_train)\n",
    "clf.best_params_"
   ]
  },
  {
   "cell_type": "code",
   "execution_count": 18,
   "id": "c27c4007",
   "metadata": {},
   "outputs": [
    {
     "name": "stdout",
     "output_type": "stream",
     "text": [
      "The accuracy of the constant 0 predictor is 82.15%\n",
      "The accuracy of the constant 1 predictor is 17.85%\n",
      "Our model prediction baseline will therefore be 82.15%\n"
     ]
    }
   ],
   "source": [
    "amt_correct_0 = y_test[y_test == 0].shape[0]\n",
    "amt_correct_1 = y_test[y_test == 1].shape[0]\n",
    "\n",
    "acc_0 = amt_correct_0 / y_test.shape[0] * 100\n",
    "acc_1 = amt_correct_1 / y_test.shape[0] * 100\n",
    "\n",
    "print(f'The accuracy of the constant 0 predictor is {acc_0:.2f}%')\n",
    "print(f'The accuracy of the constant 1 predictor is {acc_1:.2f}%')\n",
    "\n",
    "print(f'Our model prediction baseline will therefore be {max(acc_0, acc_1):.2f}%')"
   ]
  },
  {
   "cell_type": "code",
   "execution_count": 19,
   "id": "b0b0292f",
   "metadata": {},
   "outputs": [
    {
     "data": {
      "image/png": "[encoded data removed]",
      "text/plain": [
       "<Figure size 720x576 with 1 Axes>"
      ]
     },
     "metadata": {
      "needs_background": "light"
     },
     "output_type": "display_data"
    }
   ],
   "source": [
    "from sklearn import tree\n",
    "fig = plt.figure(figsize=(10, 8))\n",
    "_ = tree.plot_tree(clf.best_estimator_, \n",
    "                   feature_names = np.array(features.columns),  \n",
    "                   class_names=[\"0\", \"1\"],\n",
    "                   filled=True)"
   ]
  },
  {
   "cell_type": "markdown",
   "id": "99127675",
   "metadata": {},
   "source": [
    "# III. Support Vector Machine Model"
   ]
  },
  {
   "cell_type": "markdown",
   "id": "99cf7579",
   "metadata": {},
   "source": [
    "### Training the SVM model on the Training set"
   ]
  },
  {
   "cell_type": "code",
   "execution_count": 25,
   "id": "144026b2",
   "metadata": {},
   "outputs": [
    {
     "data": {
      "text/plain": [
       "SVC(kernel='linear', random_state=0)"
      ]
     },
     "execution_count": 25,
     "metadata": {},
     "output_type": "execute_result"
    }
   ],
   "source": [
    "from sklearn.svm import SVC\n",
    "cl_svm = SVC(kernel='linear', random_state=0)\n",
    "cl_svm.fit(X_train_feat, y_train)"
   ]
  },
  {
   "cell_type": "markdown",
   "id": "3d975440",
   "metadata": {},
   "source": [
    "### Predicting the test set result"
   ]
  },
  {
   "cell_type": "code",
   "execution_count": 26,
   "id": "0ee295b2",
   "metadata": {},
   "outputs": [],
   "source": [
    "y_pred_svm = cl_svm.predict(X_test_feat)"
   ]
  },
  {
   "cell_type": "markdown",
   "id": "15ff3805",
   "metadata": {},
   "source": [
    "### Making confusion matrix and calculating accuracy score"
   ]
  },
  {
   "cell_type": "code",
   "execution_count": 27,
   "id": "fac6875f",
   "metadata": {},
   "outputs": [
    {
     "name": "stdout",
     "output_type": "stream",
     "text": [
      "Confusion matrix:\n",
      "[[22619     0]\n",
      " [ 4915     0]]\n",
      "Accuracy score: 0.8214934263092903\n",
      "Precision score: [0.82149343 0.        ]\n",
      "Recall score: [1. 0.]\n",
      "f1 score: [0.90199988 0.        ]\n"
     ]
    },
    {
     "name": "stderr",
     "output_type": "stream",
     "text": [
      "C:\\Users\\dream\\anaconda3\\lib\\site-packages\\sklearn\\metrics\\_classification.py:1245: UndefinedMetricWarning: Precision is ill-defined and being set to 0.0 in labels with no predicted samples. Use `zero_division` parameter to control this behavior.\n",
      "  _warn_prf(average, modifier, msg_start, len(result))\n"
     ]
    }
   ],
   "source": [
    "cm_svm = confusion_matrix(y_test, y_pred_svm)\n",
    "print('Confusion matrix:')\n",
    "print(cm_svm)\n",
    "\n",
    "ac_svm = accuracy_score(y_test, y_pred_svm)\n",
    "print(f\"Accuracy score: {ac_svm}\")\n",
    "\n",
    "preci_svm = precision_score(y_test, y_pred_svm, average = None)\n",
    "print(f\"Precision score: {preci_svm}\")\n",
    "\n",
    "recall_svm = recall_score(y_test, y_pred_svm, average = None)\n",
    "print(f\"Recall score: {recall_svm}\")\n",
    "\n",
    "f1_sc_svm = f1_score(y_test, y_pred_svm, average = None)\n",
    "print(f\"f1 score: {f1_sc_svm}\")"
   ]
  },
  {
   "cell_type": "markdown",
   "id": "f2d1b7d6",
   "metadata": {},
   "source": [
    "### Applying binaryScore() function to calculate the score of the model"
   ]
  },
  {
   "cell_type": "code",
   "execution_count": 28,
   "id": "861eab60",
   "metadata": {},
   "outputs": [
    {
     "data": {
      "text/plain": [
       "0.7541803510994782"
      ]
     },
     "execution_count": 28,
     "metadata": {},
     "output_type": "execute_result"
    }
   ],
   "source": [
    "score_svm = binaryScore(y_test, pd.Series(y_pred_svm), normalize= True)\n",
    "score_svm"
   ]
  },
  {
   "cell_type": "markdown",
   "id": "91430092",
   "metadata": {},
   "source": [
    "##### --> **Comparing the score between decision tree model and SVM_model gives us an inside that the score of SVM model is higher than that of decision tree model. Although, SVM_model predicted only 0_classifier correctly**"
   ]
  },
  {
   "cell_type": "markdown",
   "id": "0fcc5519",
   "metadata": {},
   "source": [
    "# IV. Logistic Regression Model"
   ]
  },
  {
   "cell_type": "markdown",
   "id": "a4292759",
   "metadata": {},
   "source": [
    "### Training model on the training set"
   ]
  },
  {
   "cell_type": "code",
   "execution_count": 29,
   "id": "b05c10e1",
   "metadata": {},
   "outputs": [
    {
     "data": {
      "text/plain": [
       "LogisticRegression(random_state=0)"
      ]
     },
     "execution_count": 29,
     "metadata": {},
     "output_type": "execute_result"
    }
   ],
   "source": [
    "from sklearn.linear_model import LogisticRegression\n",
    "cl_reg = LogisticRegression(random_state = 0)\n",
    "cl_reg.fit(X_train_feat, y_train)"
   ]
  },
  {
   "cell_type": "markdown",
   "id": "95b64f50",
   "metadata": {},
   "source": [
    "### Predicting the test set result"
   ]
  },
  {
   "cell_type": "code",
   "execution_count": 30,
   "id": "1b9cac5a",
   "metadata": {},
   "outputs": [],
   "source": [
    "y_pred_reg = cl_reg.predict(X_test_feat)"
   ]
  },
  {
   "cell_type": "markdown",
   "id": "aeba33c4",
   "metadata": {},
   "source": [
    "### Making confusion matrix and evaluating scores"
   ]
  },
  {
   "cell_type": "code",
   "execution_count": 31,
   "id": "ac1b4955",
   "metadata": {},
   "outputs": [
    {
     "name": "stdout",
     "output_type": "stream",
     "text": [
      "Confusion matrix:\n",
      "[[22506   113]\n",
      " [ 4767   148]]\n",
      "Accuracy score: 0.8227645819713808\n",
      "Precision score: [0.82521175 0.56704981]\n",
      "Recall score: [0.9950042 0.0301119]\n",
      "f1 score: [0.90218873 0.05718702]\n"
     ]
    }
   ],
   "source": [
    "cm_reg = confusion_matrix(y_test, y_pred_reg)\n",
    "print('Confusion matrix:')\n",
    "print(cm_reg)\n",
    "\n",
    "ac_reg = accuracy_score(y_test, y_pred_reg)\n",
    "print(f\"Accuracy score: {ac_reg}\")\n",
    "\n",
    "preci_reg = precision_score(y_test, y_pred_reg, average = None)\n",
    "print(f\"Precision score: {preci_reg}\")\n",
    "\n",
    "recall_reg = recall_score(y_test, y_pred_reg, average = None)\n",
    "print(f\"Recall score: {recall_reg}\")\n",
    "\n",
    "f1_sc_reg = f1_score(y_test, y_pred_reg, average = None)\n",
    "print(f\"f1 score: {f1_sc_reg}\")"
   ]
  },
  {
   "cell_type": "markdown",
   "id": "bd49a28b",
   "metadata": {},
   "source": [
    "### Applying binaryScore() function to calculate the score of the model"
   ]
  },
  {
   "cell_type": "code",
   "execution_count": 32,
   "id": "a4360913",
   "metadata": {},
   "outputs": [
    {
     "data": {
      "text/plain": [
       "0.7578147141690146"
      ]
     },
     "execution_count": 32,
     "metadata": {},
     "output_type": "execute_result"
    }
   ],
   "source": [
    "score_reg = binaryScore(y_test, pd.Series(y_pred_reg), normalize= True)\n",
    "score_reg"
   ]
  },
  {
   "cell_type": "markdown",
   "id": "96f3e469",
   "metadata": {},
   "source": [
    "# V. K-Nearest Neighbors (KNN) Model"
   ]
  },
  {
   "cell_type": "markdown",
   "id": "521972b9",
   "metadata": {},
   "source": [
    "### Training the model on the training set"
   ]
  },
  {
   "cell_type": "code",
   "execution_count": 33,
   "id": "68829baf",
   "metadata": {},
   "outputs": [
    {
     "data": {
      "text/plain": [
       "KNeighborsClassifier()"
      ]
     },
     "execution_count": 33,
     "metadata": {},
     "output_type": "execute_result"
    }
   ],
   "source": [
    "from sklearn.neighbors import KNeighborsClassifier\n",
    "cl_knn = KNeighborsClassifier(n_neighbors = 5, metric = 'minkowski', p = 2)\n",
    "cl_knn.fit(X_train_feat, y_train)"
   ]
  },
  {
   "cell_type": "markdown",
   "id": "6a336385",
   "metadata": {},
   "source": [
    "### Predicting the test set result"
   ]
  },
  {
   "cell_type": "code",
   "execution_count": 34,
   "id": "2a87b83d",
   "metadata": {},
   "outputs": [],
   "source": [
    "y_pred_knn = cl_knn.predict(X_test_feat)"
   ]
  },
  {
   "cell_type": "markdown",
   "id": "0407ce63",
   "metadata": {},
   "source": [
    "### Making confusion matrix and evaluating scores"
   ]
  },
  {
   "cell_type": "code",
   "execution_count": 35,
   "id": "052c5146",
   "metadata": {},
   "outputs": [
    {
     "name": "stdout",
     "output_type": "stream",
     "text": [
      "Confusion matrix:\n",
      "[[21299  1320]\n",
      " [ 4130   785]]\n",
      "Accuracy score: 0.8020629040459069\n",
      "Precision score: [0.83758701 0.37292162]\n",
      "Recall score: [0.94164198 0.15971516]\n",
      "f1 score: [0.88657176 0.22364672]\n"
     ]
    }
   ],
   "source": [
    "cm_knn = confusion_matrix(y_test, y_pred_knn)\n",
    "print('Confusion matrix:')\n",
    "print(cm_knn)\n",
    "\n",
    "ac_knn = accuracy_score(y_test, y_pred_knn)\n",
    "print(f\"Accuracy score: {ac_knn}\")\n",
    "\n",
    "preci_knn = precision_score(y_test, y_pred_knn, average = None)\n",
    "print(f\"Precision score: {preci_knn}\")\n",
    "\n",
    "recall_knn = recall_score(y_test, y_pred_knn, average = None)\n",
    "print(f\"Recall score: {recall_knn}\")\n",
    "\n",
    "f1_sc_knn = f1_score(y_test, y_pred_knn, average = None)\n",
    "print(f\"f1 score: {f1_sc_knn}\")"
   ]
  },
  {
   "cell_type": "markdown",
   "id": "2a57929d",
   "metadata": {},
   "source": [
    "### Applying binaryScore() function to calculate the score of the model"
   ]
  },
  {
   "cell_type": "code",
   "execution_count": 36,
   "id": "c8a4ee16",
   "metadata": {},
   "outputs": [
    {
     "data": {
      "text/plain": [
       "0.7494290048847173"
      ]
     },
     "execution_count": 36,
     "metadata": {},
     "output_type": "execute_result"
    }
   ],
   "source": [
    "score_knn = binaryScore(y_test, pd.Series(y_pred_knn), normalize= True)\n",
    "score_knn"
   ]
  },
  {
   "cell_type": "markdown",
   "id": "2a1fa5ed",
   "metadata": {},
   "source": [
    "# VI. Naive Bayes Model"
   ]
  },
  {
   "cell_type": "markdown",
   "id": "be6a3387",
   "metadata": {},
   "source": [
    "### Training the model on the training set"
   ]
  },
  {
   "cell_type": "code",
   "execution_count": 37,
   "id": "c17dcf75",
   "metadata": {},
   "outputs": [
    {
     "data": {
      "text/plain": [
       "GaussianNB()"
      ]
     },
     "execution_count": 37,
     "metadata": {},
     "output_type": "execute_result"
    }
   ],
   "source": [
    "from sklearn.naive_bayes import GaussianNB\n",
    "cl_nb = GaussianNB()\n",
    "cl_nb.fit(X_train_feat, y_train)"
   ]
  },
  {
   "cell_type": "markdown",
   "id": "dafe14ec",
   "metadata": {},
   "source": [
    "### Predicting the test set result"
   ]
  },
  {
   "cell_type": "code",
   "execution_count": 38,
   "id": "393fb1fa",
   "metadata": {},
   "outputs": [],
   "source": [
    "y_pred_nb = cl_nb.predict(X_test_feat)"
   ]
  },
  {
   "cell_type": "markdown",
   "id": "9372b44f",
   "metadata": {},
   "source": [
    "### Making confusion matrix and evaluating scores"
   ]
  },
  {
   "cell_type": "code",
   "execution_count": 39,
   "id": "1e1150a3",
   "metadata": {},
   "outputs": [
    {
     "name": "stdout",
     "output_type": "stream",
     "text": [
      "Confusion matrix:\n",
      "[[22619     0]\n",
      " [ 4915     0]]\n",
      "Accuracy score: 0.8214934263092903\n",
      "Precision score: [0.82149343 0.        ]\n",
      "Recall score: [1. 0.]\n",
      "f1 score: [0.90199988 0.        ]\n"
     ]
    },
    {
     "name": "stderr",
     "output_type": "stream",
     "text": [
      "C:\\Users\\dream\\anaconda3\\lib\\site-packages\\sklearn\\metrics\\_classification.py:1245: UndefinedMetricWarning: Precision is ill-defined and being set to 0.0 in labels with no predicted samples. Use `zero_division` parameter to control this behavior.\n",
      "  _warn_prf(average, modifier, msg_start, len(result))\n"
     ]
    }
   ],
   "source": [
    "cm_nb = confusion_matrix(y_test, y_pred_nb)\n",
    "print('Confusion matrix:')\n",
    "print(cm_nb)\n",
    "\n",
    "ac_nb = accuracy_score(y_test, y_pred_nb)\n",
    "print(f\"Accuracy score: {ac_nb}\")\n",
    "\n",
    "preci_nb = precision_score(y_test, y_pred_nb, average = None)\n",
    "print(f\"Precision score: {preci_nb}\")\n",
    "\n",
    "recall_nb = recall_score(y_test, y_pred_nb, average = None)\n",
    "print(f\"Recall score: {recall_nb}\")\n",
    "\n",
    "f1_sc_nb = f1_score(y_test, y_pred_nb, average = None)\n",
    "print(f\"f1 score: {f1_sc_nb}\")"
   ]
  },
  {
   "cell_type": "code",
   "execution_count": null,
   "id": "3d9207c9",
   "metadata": {},
   "outputs": [],
   "source": []
  },
  {
   "cell_type": "code",
   "execution_count": null,
   "id": "be317dda",
   "metadata": {},
   "outputs": [],
   "source": []
  }
 ],
 "metadata": {
  "kernelspec": {
   "display_name": "Python 3",
   "language": "python",
   "name": "python3"
  },
  "language_info": {
   "codemirror_mode": {
    "name": "ipython",
    "version": 3
   },
   "file_extension": ".py",
   "mimetype": "text/x-python",
   "name": "python",
   "nbconvert_exporter": "python",
   "pygments_lexer": "ipython3",
   "version": "3.8.8"
  }
 },
 "nbformat": 4,
 "nbformat_minor": 5
}
